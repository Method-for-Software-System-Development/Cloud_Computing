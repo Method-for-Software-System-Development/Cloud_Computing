{
  "nbformat": 4,
  "nbformat_minor": 0,
  "metadata": {
    "colab": {
      "provenance": [],
      "authorship_tag": "ABX9TyO6CfU886mNg6V/iQYVlGBc",
      "include_colab_link": true
    },
    "kernelspec": {
      "name": "python3",
      "display_name": "Python 3"
    },
    "language_info": {
      "name": "python"
    }
  },
  "cells": [
    {
      "cell_type": "markdown",
      "metadata": {
        "id": "view-in-github",
        "colab_type": "text"
      },
      "source": [
        "<a href=\"https://colab.research.google.com/github/Method-for-Software-System-Development/Cloud_Computing/blob/tirgul-Ariel-Sapir/Cloud_tut8.ipynb\" target=\"_parent\"><img src=\"https://colab.research.google.com/assets/colab-badge.svg\" alt=\"Open In Colab\"/></a>"
      ]
    },
    {
      "cell_type": "code",
      "execution_count": 1,
      "metadata": {
        "id": "B057WqOa6w7n"
      },
      "outputs": [],
      "source": [
        "# Enviroment Setup\n",
        "!pip install -q google-generativeai"
      ]
    },
    {
      "cell_type": "code",
      "source": [
        "# Imports\n",
        "from google.colab import userdata\n",
        "import google.generativeai as genai"
      ],
      "metadata": {
        "id": "-xOQdAdD7U_U"
      },
      "execution_count": 2,
      "outputs": []
    },
    {
      "cell_type": "code",
      "source": [
        "# Get the secret from Colab secrets\n",
        "api_key = userdata.get(\"GEMINI_API_KEY\")\n",
        "\n",
        "# Configure Gemini with the key\n",
        "genai.configure(api_key=api_key)\n",
        "\n",
        "# Step 2: Create a Gemini model instance\n",
        "model = genai.GenerativeModel(\"gemini-1.5-flash\")\n",
        "\n",
        "# Step 3: Define the context as part of the user's message\n",
        "base_context = \"\"\"\n",
        "You are OptiBot – a virtual assistant for the OptiLine system.\n",
        "\n",
        "OptiLine is a smart cloud-based dashboard for real-time monitoring, fault detection, optimization, and performance tracking in autonomous production lines.\n",
        "\n",
        "Key features include:\n",
        "- Real-time sensor data (temperature, speed, accuracy, energy)\n",
        "- Alerts within 1 second for anomalies\n",
        "- Gamified optimization challenges (Optimization Race)\n",
        "- Performance score and team leaderboard\n",
        "- Intelligent fault response with scoring\n",
        "\n",
        "Answer all questions as if you are part of the OptiLine platform.\n",
        "\"\"\"\n",
        "\n",
        "# Step 4: Chat loop\n",
        "print(\"Welcome to OptiBot! Ask me anything about the OptiLine system. Type 'quit' to exit.\\n\")\n",
        "\n",
        "while True:\n",
        "    user_input = input(\"You: \")\n",
        "    if user_input.lower() == \"quit\":\n",
        "        print(\"OptiBot: Goodbye 👋\")\n",
        "        break\n",
        "\n",
        "    full_prompt = base_context + \"\\nUser question: \" + user_input\n",
        "    response = model.generate_content(full_prompt)\n",
        "\n",
        "    print(\"\\nOptiBot:\", response.text, \"\\n\")"
      ],
      "metadata": {
        "id": "DXt6xmcE7RJI"
      },
      "execution_count": null,
      "outputs": []
    }
  ]
}