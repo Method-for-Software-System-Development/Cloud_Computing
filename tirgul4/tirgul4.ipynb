{
  "nbformat": 4,
  "nbformat_minor": 0,
  "metadata": {
    "colab": {
      "provenance": [],
      "authorship_tag": "ABX9TyOX0vppnC3EPQd92L3IlNDj",
      "include_colab_link": true
    },
    "kernelspec": {
      "name": "python3",
      "display_name": "Python 3"
    },
    "language_info": {
      "name": "python"
    }
  },
  "cells": [
    {
      "cell_type": "markdown",
      "metadata": {
        "id": "view-in-github",
        "colab_type": "text"
      },
      "source": [
        "<a href=\"https://colab.research.google.com/github/Method-for-Software-System-Development/Cloud_Computing/blob/tirgul-Noa-Tal/tirgul4/tirgul4.ipynb\" target=\"_parent\"><img src=\"https://colab.research.google.com/assets/colab-badge.svg\" alt=\"Open In Colab\"/></a>"
      ]
    },
    {
      "cell_type": "code",
      "execution_count": null,
      "metadata": {
        "id": "eJBKz6KKH4H8"
      },
      "outputs": [],
      "source": [
        "import pandas as pd\n",
        "import ipywidgets as widgets\n",
        "from IPython.display import display\n",
        "from plotly.offline import iplot\n",
        "import plotly.graph_objs as go\n",
        "import matplotlib.pyplot as plt\n",
        "import numpy as np\n",
        "import seaborn as sns\n",
        "import plotly.express as px\n",
        "import requests\n",
        "\n",
        "url = 'https://data.gov.il/api/3/action/datastore_search?resource_id=053cea08-09bc-40ec-8f7a-156f0677aff3'\n",
        "\n",
        "# get the data\n",
        "response = requests.get(url)\n",
        "data = response.json()\n",
        "df = pd.DataFrame(data)\n",
        "\n",
        "data_df = pd.DataFrame(data['result']['records'])\n",
        "\n",
        "#print all the headers\n",
        "print(data_df.columns)\n",
        "\n",
        "data_df.head()\n",
        "\n",
        "# Tab 1: Data Overview\n",
        "tab1_content = widgets.Output()\n",
        "with tab1_content:\n",
        "    print(\"Data Overview:\")\n",
        "    display(data_df.describe())  # Summary statistics\n",
        "\n",
        "# Tab 2: Raw Data\n",
        "tab2_content = widgets.Output()\n",
        "with tab2_content:\n",
        "    print(\"Raw Data:\")\n",
        "    display(data_df)  # Full DataFrame\n",
        "# Tab 3: Charts\n",
        "tab3_content = widgets.Output()\n",
        "with tab3_content:\n",
        "    print(\"Charts:\")\n",
        "    plt.clf()  # Clear the current figure\n",
        "    plt.figure(figsize=(10, 8))  # Increased figure size to accommodate labels\n",
        "    # Get all the year of the cars productions\n",
        "    years = data_df['shnat_yitzur'].unique()\n",
        "    # Get the amount of cars per year\n",
        "    car_count_per_year = data_df['shnat_yitzur'].value_counts()\n",
        "\n",
        "    # show the data in bar chart\n",
        "    plt.bar(years, car_count_per_year)\n",
        "    plt.xlabel('Year')\n",
        "    plt.ylabel('Number of Cars')\n",
        "    plt.show()  # Add this to display the plot\n",
        "    plt.close()  # Close the figure to free memory\n",
        "\n",
        "\n",
        "# Create Tabs\n",
        "tabs = widgets.Tab(children=[tab1_content, tab2_content,tab3_content])\n",
        "tabs.set_title(0, 'Tab 1: Data Overview')\n",
        "tabs.set_title(1, 'Tab 2: Raw Data')\n",
        "tabs.set_title(2, 'Tab 3: Charts')\n",
        "\n",
        "\n",
        "\n",
        "# Display Tabs\n",
        "display(tabs)"
      ]
    }
  ]
}