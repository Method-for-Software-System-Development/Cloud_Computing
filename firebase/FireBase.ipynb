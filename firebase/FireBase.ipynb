{
  "nbformat": 4,
  "nbformat_minor": 0,
  "metadata": {
    "colab": {
      "provenance": [],
      "toc_visible": true,
      "authorship_tag": "ABX9TyMYKB7xKr7PQJ/b01bhS5C/",
      "include_colab_link": true
    },
    "kernelspec": {
      "name": "python3",
      "display_name": "Python 3"
    },
    "language_info": {
      "name": "python"
    }
  },
  "cells": [
    {
      "cell_type": "markdown",
      "metadata": {
        "id": "view-in-github",
        "colab_type": "text"
      },
      "source": [
        "<a href=\"https://colab.research.google.com/github/Method-for-Software-System-Development/Cloud_Computing/blob/develop/firebase/FireBase.ipynb\" target=\"_parent\"><img src=\"https://colab.research.google.com/assets/colab-badge.svg\" alt=\"Open In Colab\"/></a>"
      ]
    },
    {
      "cell_type": "code",
      "source": [
        "import requests, json\n",
        "\n",
        "# --- Firebase Realtime Database URL ---\n",
        "firebase_url = \"https://optiline-kakado-default-rtdb.europe-west1.firebasedatabase.app/\"\n"
      ],
      "metadata": {
        "id": "bbeJIgJmylvF"
      },
      "execution_count": 8,
      "outputs": []
    },
    {
      "cell_type": "code",
      "source": [
        "# ------------------- USERS CRUD -------------------\n",
        "\n",
        "def add_user(user_data: dict):\n",
        "    \"\"\"\n",
        "    Create or replace a user stored under /users/{username}\n",
        "\n",
        "    Raises KeyError if 'username' field is missing in user_data.\n",
        "    Returns (status_code, response_json)\n",
        "    \"\"\"\n",
        "    key = user_data[\"username\"]            # must exist in the dict\n",
        "    r = requests.put(\n",
        "        f\"{firebase_url}users/{key}.json\",\n",
        "        data=json.dumps(user_data)\n",
        "    )\n",
        "    return r.status_code, r.json()\n",
        "\n",
        "\n",
        "def get_user(username: str):\n",
        "    \"\"\"\n",
        "    Retrieve a single user by key.\n",
        "    Returns (status_code, user_dict | None)\n",
        "    \"\"\"\n",
        "    r = requests.get(f\"{firebase_url}users/{username}.json\")\n",
        "    return r.status_code, r.json()\n",
        "\n",
        "\n",
        "def get_all_users():\n",
        "    \"\"\"\n",
        "    Retrieve the full users collection.\n",
        "    Returns (status_code, dict | None)\n",
        "    \"\"\"\n",
        "    r = requests.get(f\"{firebase_url}users.json\")\n",
        "    return r.status_code, r.json()\n",
        "\n",
        "\n",
        "def update_user(username: str, update_data: dict):\n",
        "    \"\"\"\n",
        "    Partially update an existing user.\n",
        "    Returns (status_code, response_json)\n",
        "    \"\"\"\n",
        "    r = requests.patch(\n",
        "        f\"{firebase_url}users/{username}.json\",\n",
        "        data=json.dumps(update_data)\n",
        "    )\n",
        "    return r.status_code, r.json()\n",
        "\n",
        "\n",
        "def delete_user(username: str):\n",
        "    \"\"\"\n",
        "    Delete a user.\n",
        "    Returns (status_code, response_text)\n",
        "    \"\"\"\n",
        "    r = requests.delete(f\"{firebase_url}users/{username}.json\")\n",
        "    return r.status_code, r.text\n"
      ],
      "metadata": {
        "id": "sV6VG7pbynfR"
      },
      "execution_count": 9,
      "outputs": []
    },
    {
      "cell_type": "code",
      "source": [
        "#-------- SEED USERS ------------\n",
        "seed_users = [\n",
        "    {\n",
        "        \"first_name\": \"Lior\",\n",
        "        \"last_name\":  \"Levi\",\n",
        "        \"username\":   \"lior_levi\",\n",
        "        \"password\":   \"1234\",\n",
        "        \"email\":      \"lior@example.com\",\n",
        "        \"role\":       \"Backend Developer\",\n",
        "        \"score\":      90\n",
        "    },\n",
        "    {\n",
        "        \"first_name\": \"Noa\",\n",
        "        \"last_name\":  \"Katz\",\n",
        "        \"username\":   \"noa_katz\",\n",
        "        \"password\":   \"1234\",\n",
        "        \"email\":      \"noa@example.com\",\n",
        "        \"role\":       \"UX Designer\",\n",
        "        \"score\":      95\n",
        "    },\n",
        "    {\n",
        "        \"first_name\": \"Matan\",\n",
        "        \"last_name\":  \"Tal\",\n",
        "        \"username\":   \"matan_tal\",\n",
        "        \"password\":   \"1234\",\n",
        "        \"email\":      \"matan@example.com\",\n",
        "        \"role\":       \"Mechanical Engineer\",\n",
        "        \"score\":      100\n",
        "    }\n",
        "]\n",
        "\n",
        "# add_user comes from FireBase.ipynb\n",
        "for u in seed_users:\n",
        "    code, resp = add_user(u)          # add_user requires dict with 'username'\n",
        "    print(u[\"username\"], code)"
      ],
      "metadata": {
        "colab": {
          "base_uri": "https://localhost:8080/"
        },
        "id": "wx8JsXav_FD6",
        "outputId": "6aac8140-7869-4c82-a032-6e3798716467"
      },
      "execution_count": 15,
      "outputs": [
        {
          "output_type": "stream",
          "name": "stdout",
          "text": [
            "lior_levi 200\n",
            "noa_katz 200\n",
            "matan_tal 200\n"
          ]
        }
      ]
    },
    {
      "cell_type": "code",
      "source": [],
      "metadata": {
        "id": "nIhDhDmPtBGp"
      },
      "execution_count": null,
      "outputs": []
    }
  ]
}