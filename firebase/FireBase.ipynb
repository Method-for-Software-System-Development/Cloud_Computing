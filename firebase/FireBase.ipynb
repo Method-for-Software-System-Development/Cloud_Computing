{
  "nbformat": 4,
  "nbformat_minor": 0,
  "metadata": {
    "colab": {
      "provenance": [],
      "toc_visible": true,
      "authorship_tag": "ABX9TyNbA56Ewo+0iQUrH7acgRfu",
      "include_colab_link": true
    },
    "kernelspec": {
      "name": "python3",
      "display_name": "Python 3"
    },
    "language_info": {
      "name": "python"
    }
  },
  "cells": [
    {
      "cell_type": "markdown",
      "metadata": {
        "id": "view-in-github",
        "colab_type": "text"
      },
      "source": [
        "<a href=\"https://colab.research.google.com/github/Method-for-Software-System-Development/Cloud_Computing/blob/develop/firebase/FireBase.ipynb\" target=\"_parent\"><img src=\"https://colab.research.google.com/assets/colab-badge.svg\" alt=\"Open In Colab\"/></a>"
      ]
    },
    {
      "cell_type": "code",
      "source": [
        "import requests\n",
        "import json\n",
        "\n",
        "# Firebase Realtime Database URL\n",
        "firebase_url = 'https://optiline-kakado-default-rtdb.europe-west1.firebasedatabase.app/'\n"
      ],
      "metadata": {
        "id": "YPBmQ1R8-2ju"
      },
      "execution_count": 4,
      "outputs": []
    },
    {
      "cell_type": "code",
      "source": [
        "def add_user(username: str, user_data: dict):\n",
        "    \"\"\"\n",
        "    Adds a new user or replaces existing one at 'users/{username}'\n",
        "    \"\"\"\n",
        "    response = requests.put(f\"{firebase_url}users/{username}.json\", data=json.dumps(user_data))\n",
        "    return response.status_code, response.json()\n",
        "\n",
        "\n",
        "def get_user(username: str):\n",
        "    \"\"\"\n",
        "    Retrieves data for a specific user\n",
        "    \"\"\"\n",
        "    response = requests.get(f\"{firebase_url}users/{username}.json\")\n",
        "    return response.status_code, response.json()\n",
        "\n",
        "\n",
        "def update_user(username: str, update_data: dict):\n",
        "    \"\"\"\n",
        "    Partially updates fields for an existing user\n",
        "    \"\"\"\n",
        "    response = requests.patch(f\"{firebase_url}users/{username}.json\", data=json.dumps(update_data))\n",
        "    return response.status_code, response.json()\n",
        "\n",
        "\n",
        "def delete_user(username: str):\n",
        "    \"\"\"\n",
        "    Deletes a user from the database\n",
        "    \"\"\"\n",
        "    response = requests.delete(f\"{firebase_url}users/{username}.json\")\n",
        "    return response.status_code, response.text\n",
        "\n",
        "\n",
        "def add_multiple_users(users_dict: dict):\n",
        "    \"\"\"\n",
        "    Adds multiple users in one request under 'users'\n",
        "    \"\"\"\n",
        "    response = requests.patch(f\"{firebase_url}users.json\", data=json.dumps(users_dict))\n",
        "    return response.status_code, response.json()\n"
      ],
      "metadata": {
        "id": "LvY1tr1P-32b"
      },
      "execution_count": 5,
      "outputs": []
    },
    {
      "cell_type": "code",
      "source": [
        "# Example: Add a user\n",
        "new_user = {\n",
        "    \"First name\": \"Matan\",\n",
        "    \"Last name\": \"Tal\",\n",
        "    \"User name\": \"Matan\",\n",
        "    \"Email\": \"matan@example.com\",\n",
        "    \"Role\": \"Mechanical Engineer\",\n",
        "    \"score\": 100\n",
        "}\n",
        "\n",
        "status, result = add_user(\"matan_tal\", new_user)\n",
        "print(\"Add user:\", status, result)\n",
        "\n",
        "\n",
        "# Example: Get a user\n",
        "status, result = get_user(\"matan_tal\")\n",
        "print(\"Get user:\", status, result)\n",
        "\n",
        "\n",
        "# Example: Update a user\n",
        "status, result = update_user(\"matan_tal\", {\"Role\": \"Software Engineer\"})\n",
        "print(\"Update user:\", status, result)\n",
        "\n",
        "\n",
        "# Example: Delete a user\n",
        "status, result = delete_user(\"matan_tal\")\n",
        "print(\"Delete user:\", status, result)\n",
        "\n",
        "\n",
        "# Example: Add multiple users\n",
        "users = {\n",
        "    \"lior_levi\": {\n",
        "        \"First name\": \"Lior\",\n",
        "        \"Last name\": \"Levi\",\n",
        "        \"User name\": \"Lior\",\n",
        "        \"Email\": \"lior@example.com\",\n",
        "        \"Role\": \"Backend Developer\",\n",
        "        \"score\": 90\n",
        "    },\n",
        "    \"noa_katz\": {\n",
        "        \"First name\": \"Noa\",\n",
        "        \"Last name\": \"Katz\",\n",
        "        \"User name\": \"Noa\",\n",
        "        \"Email\": \"noa@example.com\",\n",
        "        \"Role\": \"UX Designer\",\n",
        "        \"score\": 95\n",
        "    }\n",
        "}\n",
        "\n",
        "status, result = add_multiple_users(users)\n",
        "print(\"Add multiple users:\", status, result)\n"
      ],
      "metadata": {
        "colab": {
          "base_uri": "https://localhost:8080/"
        },
        "id": "wx8JsXav_FD6",
        "outputId": "0990c148-38fe-48f9-8f0f-9cc4a925e000"
      },
      "execution_count": 6,
      "outputs": [
        {
          "output_type": "stream",
          "name": "stdout",
          "text": [
            "Add user: 200 {'Email': 'matan@example.com', 'First name': 'Matan', 'Last name': 'Tal', 'Role': 'Mechanical Engineer', 'User name': 'Matan', 'score': 100}\n",
            "Get user: 200 {'Email': 'matan@example.com', 'First name': 'Matan', 'Last name': 'Tal', 'Role': 'Mechanical Engineer', 'User name': 'Matan', 'score': 100}\n",
            "Update user: 200 {'Role': 'Software Engineer'}\n",
            "Delete user: 200 null\n",
            "Add multiple users: 200 {'lior_levi': {'Email': 'lior@example.com', 'First name': 'Lior', 'Last name': 'Levi', 'Role': 'Backend Developer', 'User name': 'Lior', 'score': 90}, 'noa_katz': {'Email': 'noa@example.com', 'First name': 'Noa', 'Last name': 'Katz', 'Role': 'UX Designer', 'User name': 'Noa', 'score': 95}}\n"
          ]
        }
      ]
    }
  ]
}