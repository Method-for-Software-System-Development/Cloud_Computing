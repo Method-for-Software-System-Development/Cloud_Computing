{
  "nbformat": 4,
  "nbformat_minor": 0,
  "metadata": {
    "colab": {
      "provenance": [],
      "toc_visible": true,
      "authorship_tag": "ABX9TyNs2XrVUZdFFe2LTDvRiAvi",
      "include_colab_link": true
    },
    "kernelspec": {
      "name": "python3",
      "display_name": "Python 3"
    },
    "language_info": {
      "name": "python"
    }
  },
  "cells": [
    {
      "cell_type": "markdown",
      "metadata": {
        "id": "view-in-github",
        "colab_type": "text"
      },
      "source": [
        "<a href=\"https://colab.research.google.com/github/Method-for-Software-System-Development/Cloud_Computing/blob/develop/firebase/FireBase.ipynb\" target=\"_parent\"><img src=\"https://colab.research.google.com/assets/colab-badge.svg\" alt=\"Open In Colab\"/></a>"
      ]
    },
    {
      "cell_type": "code",
      "source": [
        "import requests, json\n",
        "\n",
        "# --- Firebase Realtime Database URL ---\n",
        "firebase_url = \"https://optiline-kakado-default-rtdb.europe-west1.firebasedatabase.app/\"\n"
      ],
      "metadata": {
        "id": "bbeJIgJmylvF"
      },
      "execution_count": 3,
      "outputs": []
    },
    {
      "cell_type": "code",
      "source": [
        "# ------------------- USERS CRUD -------------------\n",
        "\n",
        "def add_user(user_data: dict):\n",
        "    \"\"\"\n",
        "    Create or replace a user stored under /users/{username}\n",
        "\n",
        "    Raises KeyError if 'username' field is missing in user_data.\n",
        "    Returns (status_code, response_json)\n",
        "    \"\"\"\n",
        "    key = user_data[\"username\"]            # must exist in the dict\n",
        "    r = requests.put(\n",
        "        f\"{firebase_url}users/{key}.json\",\n",
        "        data=json.dumps(user_data)\n",
        "    )\n",
        "    return r.status_code, r.json()\n",
        "\n",
        "\n",
        "def get_user(username: str):\n",
        "    \"\"\"\n",
        "    Retrieve a single user by key.\n",
        "    Returns (status_code, user_dict | None)\n",
        "    \"\"\"\n",
        "    r = requests.get(f\"{firebase_url}users/{username}.json\")\n",
        "    return r.status_code, r.json()\n",
        "\n",
        "\n",
        "def get_all_users():\n",
        "    \"\"\"\n",
        "    Retrieve the full users collection.\n",
        "    Returns (status_code, dict | None)\n",
        "    \"\"\"\n",
        "    r = requests.get(f\"{firebase_url}users.json\")\n",
        "    return r.status_code, r.json()\n",
        "\n",
        "\n",
        "def update_user(username: str, update_data: dict):\n",
        "    \"\"\"\n",
        "    Partially update an existing user.\n",
        "    Returns (status_code, response_json)\n",
        "    \"\"\"\n",
        "    r = requests.patch(\n",
        "        f\"{firebase_url}users/{username}.json\",\n",
        "        data=json.dumps(update_data)\n",
        "    )\n",
        "    return r.status_code, r.json()\n",
        "\n",
        "\n",
        "def delete_user(username: str):\n",
        "    \"\"\"\n",
        "    Delete a user.\n",
        "    Returns (status_code, response_text)\n",
        "    \"\"\"\n",
        "    r = requests.delete(f\"{firebase_url}users/{username}.json\")\n",
        "    return r.status_code, r.text\n"
      ],
      "metadata": {
        "id": "sV6VG7pbynfR"
      },
      "execution_count": 4,
      "outputs": []
    },
    {
      "cell_type": "code",
      "source": [
        "#-------- SEED USERS ------------\n",
        "seed_users = [\n",
        "    {\n",
        "        \"first_name\": \"Omer\",\n",
        "        \"last_name\":  \"Cohen\",\n",
        "        \"username\":   \"omer_cohen\",\n",
        "        \"password\":   \"1234\",\n",
        "        \"email\":      \"omer@example.com\",\n",
        "        \"role\":       \"Automation Engineer\",\n",
        "        \"score\":      140\n",
        "    },\n",
        "    {\n",
        "        \"first_name\": \"Shira\",\n",
        "        \"last_name\":  \"Gold\",\n",
        "        \"username\":   \"shira_gold\",\n",
        "        \"password\":   \"1234\",\n",
        "        \"email\":      \"shira@example.com\",\n",
        "        \"role\":       \"Electrical Engineer\",\n",
        "        \"score\":      133\n",
        "    },\n",
        "    {\n",
        "        \"first_name\": \"Daniel\",\n",
        "        \"last_name\":  \"Bar\",\n",
        "        \"username\":   \"daniel_bar\",\n",
        "        \"password\":   \"1234\",\n",
        "        \"email\":      \"daniel@example.com\",\n",
        "        \"role\":       \"Robotics Engineer\",\n",
        "        \"score\":      129\n",
        "    },\n",
        "    {\n",
        "        \"first_name\": \"Roni\",\n",
        "        \"last_name\":  \"Ben Ami\",\n",
        "        \"username\":   \"roni_benami\",\n",
        "        \"password\":   \"1234\",\n",
        "        \"email\":      \"roni@example.com\",\n",
        "        \"role\":       \"QA Engineer\",\n",
        "        \"score\":      125\n",
        "    },\n",
        "    {\n",
        "        \"first_name\": \"Lior\",\n",
        "        \"last_name\":  \"Levi\",\n",
        "        \"username\":   \"lior_levi\",\n",
        "        \"password\":   \"1234\",\n",
        "        \"email\":      \"lior@example.com\",\n",
        "        \"role\":       \"Backend Developer\",\n",
        "        \"score\":      120\n",
        "    },\n",
        "    {\n",
        "        \"first_name\": \"Yael\",\n",
        "        \"last_name\":  \"Elyashiv\",\n",
        "        \"username\":   \"yael_elyashiv\",\n",
        "        \"password\":   \"1234\",\n",
        "        \"email\":      \"yael@example.com\",\n",
        "        \"role\":       \"Hardware Engineer\",\n",
        "        \"score\":      110\n",
        "    },\n",
        "    {\n",
        "        \"first_name\": \"Noa\",\n",
        "        \"last_name\":  \"Katz\",\n",
        "        \"username\":   \"noa_katz\",\n",
        "        \"password\":   \"1234\",\n",
        "        \"email\":      \"noa@example.com\",\n",
        "        \"role\":       \"UX Designer\",\n",
        "        \"score\":      105\n",
        "    },\n",
        "    {\n",
        "        \"first_name\": \"Matan\",\n",
        "        \"last_name\":  \"Tal\",\n",
        "        \"username\":   \"matan_tal\",\n",
        "        \"password\":   \"1234\",\n",
        "        \"email\":      \"matan@example.com\",\n",
        "        \"role\":       \"Mechanical Engineer\",\n",
        "        \"score\":      100\n",
        "    },\n",
        "    {\n",
        "        \"first_name\": \"Or\",\n",
        "        \"last_name\":  \"Peled\",\n",
        "        \"username\":   \"or_peled\",\n",
        "        \"password\":   \"1234\",\n",
        "        \"email\":      \"or@example.com\",\n",
        "        \"role\":       \"System Engineer\",\n",
        "        \"score\":      95\n",
        "    },\n",
        "    {\n",
        "        \"first_name\": \"Tom\",\n",
        "        \"last_name\":  \"Segal\",\n",
        "        \"username\":   \"tom_segal\",\n",
        "        \"password\":   \"1234\",\n",
        "        \"email\":      \"tom@example.com\",\n",
        "        \"role\":       \"Production Engineer\",\n",
        "        \"score\":      91\n",
        "    }\n",
        "]\n",
        "\n",
        "\n",
        "# add_user comes from FireBase.ipynb\n",
        "for u in seed_users:\n",
        "    code, resp = add_user(u)          # add_user requires dict with 'username'\n",
        "    print(u[\"username\"], code)"
      ],
      "metadata": {
        "colab": {
          "base_uri": "https://localhost:8080/"
        },
        "id": "wx8JsXav_FD6",
        "outputId": "afe9f311-f27c-4bdd-9585-5e12ffec6e5e"
      },
      "execution_count": 5,
      "outputs": [
        {
          "output_type": "stream",
          "name": "stdout",
          "text": [
            "omer_cohen 200\n",
            "shira_gold 200\n",
            "daniel_bar 200\n",
            "roni_benami 200\n",
            "lior_levi 200\n",
            "yael_elyashiv 200\n",
            "noa_katz 200\n",
            "matan_tal 200\n",
            "or_peled 200\n",
            "tom_segal 200\n"
          ]
        }
      ]
    },
    {
      "cell_type": "code",
      "source": [],
      "metadata": {
        "id": "nIhDhDmPtBGp"
      },
      "execution_count": null,
      "outputs": []
    }
  ]
}