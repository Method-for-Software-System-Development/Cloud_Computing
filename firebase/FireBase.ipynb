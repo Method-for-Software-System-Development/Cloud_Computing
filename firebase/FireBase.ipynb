{
  "nbformat": 4,
  "nbformat_minor": 0,
  "metadata": {
    "colab": {
      "provenance": [],
      "toc_visible": true,
      "authorship_tag": "ABX9TyMYWS/A7wcOljx8tz7uV53o",
      "include_colab_link": true
    },
    "kernelspec": {
      "name": "python3",
      "display_name": "Python 3"
    },
    "language_info": {
      "name": "python"
    }
  },
  "cells": [
    {
      "cell_type": "markdown",
      "metadata": {
        "id": "view-in-github",
        "colab_type": "text"
      },
      "source": [
        "<a href=\"https://colab.research.google.com/github/Method-for-Software-System-Development/Cloud_Computing/blob/develop/firebase/FireBase.ipynb\" target=\"_parent\"><img src=\"https://colab.research.google.com/assets/colab-badge.svg\" alt=\"Open In Colab\"/></a>"
      ]
    },
    {
      "cell_type": "code",
      "source": [
        "import requests\n",
        "import json\n",
        "\n",
        "# Firebase Realtime Database URL\n",
        "firebase_url = 'https://optiline-kakado-default-rtdb.europe-west1.firebasedatabase.app/'\n"
      ],
      "metadata": {
        "id": "YPBmQ1R8-2ju"
      },
      "execution_count": 3,
      "outputs": []
    },
    {
      "cell_type": "code",
      "source": [
        "def add_user(username: str, user_data: dict):\n",
        "    \"\"\"\n",
        "    Adds a new user or replaces existing one at 'users/{username}'\n",
        "    \"\"\"\n",
        "    response = requests.put(f\"{firebase_url}users/{username}.json\", data=json.dumps(user_data))\n",
        "    return response.status_code, response.json()\n",
        "\n",
        "\n",
        "def get_user(username: str):\n",
        "    \"\"\"\n",
        "    Retrieves data for a specific user\n",
        "    \"\"\"\n",
        "    response = requests.get(f\"{firebase_url}users/{username}.json\")\n",
        "    return response.status_code, response.json()\n",
        "\n",
        "\n",
        "def update_user(username: str, update_data: dict):\n",
        "    \"\"\"\n",
        "    Partially updates fields for an existing user\n",
        "    \"\"\"\n",
        "    response = requests.patch(f\"{firebase_url}users/{username}.json\", data=json.dumps(update_data))\n",
        "    return response.status_code, response.json()\n",
        "\n",
        "\n",
        "def delete_user(username: str):\n",
        "    \"\"\"\n",
        "    Deletes a user from the database\n",
        "    \"\"\"\n",
        "    response = requests.delete(f\"{firebase_url}users/{username}.json\")\n",
        "    return response.status_code, response.text\n",
        "\n",
        "\n",
        "def add_multiple_users(users_dict: dict):\n",
        "    \"\"\"\n",
        "    Adds multiple users in one request under 'users'\n",
        "    \"\"\"\n",
        "    response = requests.patch(f\"{firebase_url}users.json\", data=json.dumps(users_dict))\n",
        "    return response.status_code, response.json()\n"
      ],
      "metadata": {
        "id": "LvY1tr1P-32b"
      },
      "execution_count": 1,
      "outputs": []
    },
    {
      "cell_type": "code",
      "source": [
        "# Example: Add a user\n",
        "new_user = {\n",
        "    \"first_name\": \"Matan\",\n",
        "    \"last_name\": \"Tal\",\n",
        "    \"user_name\": \"Matan\",\n",
        "    \"password\": \"1234\",\n",
        "    \"email\": \"matan@example.com\",\n",
        "    \"role\": \"Mechanical Engineer\",\n",
        "    \"score\": 100\n",
        "}\n",
        "\n",
        "status, result = add_user(\"matan_tal\", new_user)\n",
        "print(\"Add user:\", status, result)\n",
        "\n",
        "\n",
        "\n",
        "\n",
        "# Example: Add multiple users\n",
        "users = {\n",
        "    \"lior_levi\": {\n",
        "        \"first_name\": \"Lior\",\n",
        "        \"last_name\": \"Levi\",\n",
        "        \"user_name\": \"Lior\",\n",
        "        \"password\": \"1234\",\n",
        "        \"email\": \"lior@example.com\",\n",
        "        \"role\": \"Backend Developer\",\n",
        "        \"score\": 90\n",
        "    },\n",
        "    \"noa_katz\": {\n",
        "        \"first_name\": \"Noa\",\n",
        "        \"last_name\": \"Katz\",\n",
        "        \"user_name\": \"Noa\",\n",
        "        \"password\": \"1234\",\n",
        "        \"email\": \"noa@example.com\",\n",
        "        \"role\": \"UX Designer\",\n",
        "        \"score\": 95\n",
        "    }\n",
        "}\n",
        "\n",
        "status, result = add_multiple_users(users)\n",
        "print(\"Add multiple users:\", status, result)\n"
      ],
      "metadata": {
        "colab": {
          "base_uri": "https://localhost:8080/"
        },
        "id": "wx8JsXav_FD6",
        "outputId": "ff7a2120-93a0-43df-b03f-02c7cecfa581"
      },
      "execution_count": 7,
      "outputs": [
        {
          "output_type": "stream",
          "name": "stdout",
          "text": [
            "Add user: 200 {'email': 'matan@example.com', 'first_name': 'Matan', 'last_name': 'Tal', 'password': '1234', 'role': 'Mechanical Engineer', 'score': 100, 'user_name': 'Matan'}\n",
            "Add multiple users: 200 {'lior_levi': {'email': 'lior@example.com', 'first_name': 'Lior', 'last_name': 'Levi', 'password': '1234', 'role': 'Backend Developer', 'score': 90, 'user_name': 'Lior'}, 'noa_katz': {'email': 'noa@example.com', 'first_name': 'Noa', 'last_name': 'Katz', 'password': '1234', 'role': 'UX Designer', 'score': 95, 'user_name': 'Noa'}}\n"
          ]
        }
      ]
    },
    {
      "cell_type": "code",
      "source": [],
      "metadata": {
        "id": "nIhDhDmPtBGp"
      },
      "execution_count": null,
      "outputs": []
    }
  ]
}