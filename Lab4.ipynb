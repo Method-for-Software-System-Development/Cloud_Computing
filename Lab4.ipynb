{
  "nbformat": 4,
  "nbformat_minor": 0,
  "metadata": {
    "colab": {
      "provenance": [],
      "authorship_tag": "ABX9TyN9dChdOpk8PbJwFqBSESzS",
      "include_colab_link": true
    },
    "kernelspec": {
      "name": "python3",
      "display_name": "Python 3"
    },
    "language_info": {
      "name": "python"
    },
    "widgets": {
      "application/vnd.jupyter.widget-state+json": {
        "72f805d07386435e97832f55a3c96726": {
          "model_module": "@jupyter-widgets/controls",
          "model_name": "TabModel",
          "model_module_version": "1.5.0",
          "state": {
            "_dom_classes": [],
            "_model_module": "@jupyter-widgets/controls",
            "_model_module_version": "1.5.0",
            "_model_name": "TabModel",
            "_titles": {
              "0": "Statistics",
              "1": "Table",
              "2": "Chart"
            },
            "_view_count": null,
            "_view_module": "@jupyter-widgets/controls",
            "_view_module_version": "1.5.0",
            "_view_name": "TabView",
            "box_style": "",
            "children": [
              "IPY_MODEL_89419e6aa49c4776b337de9991c81dbe",
              "IPY_MODEL_1db50a6244b84d08bf394a35c62577fb",
              "IPY_MODEL_f9cc7bf4b4d841ebb28ec10c62bcdcd8"
            ],
            "layout": "IPY_MODEL_108ae0d2546f4def801164d5cccbe6c9",
            "selected_index": 2
          }
        },
        "89419e6aa49c4776b337de9991c81dbe": {
          "model_module": "@jupyter-widgets/output",
          "model_name": "OutputModel",
          "model_module_version": "1.0.0",
          "state": {
            "_dom_classes": [],
            "_model_module": "@jupyter-widgets/output",
            "_model_module_version": "1.0.0",
            "_model_name": "OutputModel",
            "_view_count": null,
            "_view_module": "@jupyter-widgets/output",
            "_view_module_version": "1.0.0",
            "_view_name": "OutputView",
            "layout": "IPY_MODEL_94b17a555530442ca66185522dd0278e",
            "msg_id": "",
            "outputs": [
              {
                "output_type": "stream",
                "name": "stdout",
                "text": [
                  "GLOBAL STATISTICS\n"
                ]
              },
              {
                "output_type": "display_data",
                "data": {
                  "text/plain": "                  _id  mispar_rechev     tozeret_cd sug_degem tozeret_nm  \\\ncount   100000.000000   1.000000e+05  100000.000000    100000     100000   \nunique            NaN            NaN            NaN         2        240   \ntop               NaN            NaN            NaN         P   מזדה יפן   \nfreq              NaN            NaN            NaN     98742      13129   \nmean     50000.500000   1.772764e+07     610.769230       NaN        NaN   \nstd      28867.657797   2.036072e+07     286.702939       NaN        NaN   \nmin          1.000000   1.000028e+06      11.000000       NaN        NaN   \n25%      25000.750000   4.983093e+06     413.000000       NaN        NaN   \n50%      50000.500000   7.932655e+06     588.000000       NaN        NaN   \n75%      75000.250000   2.325583e+07     737.000000       NaN        NaN   \nmax     100000.000000   9.255030e+07    1636.000000       NaN        NaN   \n\n             degem_cd degem_nm ramat_gimur  ramat_eivzur_betihuty  \\\ncount   100000.000000   100000      100000           34060.000000   \nunique            NaN     4441        2039                    NaN   \ntop               NaN    BK12Z      ACTIVE                    NaN   \nfreq              NaN     3344        6041                    NaN   \nmean       377.964050      NaN         NaN               3.595743   \nstd        543.970757      NaN         NaN               2.187024   \nmin          1.000000      NaN         NaN               1.000000   \n25%         50.000000      NaN         NaN               2.000000   \n50%        201.000000      NaN         NaN               3.000000   \n75%        493.000000      NaN         NaN               6.000000   \nmax       8710.000000      NaN         NaN               8.000000   \n\n        kvutzat_zihum  ...  baalut           misgeret      tzeva_cd  \\\ncount    81926.000000  ...  100000             100000  100000.00000   \nunique            NaN  ...       5             100000           NaN   \ntop               NaN  ...    פרטי  KMHC851CGJU063450           NaN   \nfreq              NaN  ...   95459                  1           NaN   \nmean        12.978847  ...     NaN                NaN      46.73488   \nstd          3.932014  ...     NaN                NaN      29.54102   \nmin          1.000000  ...     NaN                NaN       0.00000   \n25%         14.000000  ...     NaN                NaN      22.00000   \n50%         15.000000  ...     NaN                NaN      30.00000   \n75%         15.000000  ...     NaN                NaN      80.00000   \nmax         15.000000  ...     NaN                NaN      99.00000   \n\n       tzeva_rechev zmig_kidmi zmig_ahori  sug_delek_nm  horaat_rishum  \\\ncount        100000     100000     100000        100000   59324.000000   \nunique           97       1496       1633             6            NaN   \ntop        שנהב לבן  195/65R15  195/65R15         בנזין            NaN   \nfreq          34327      10269       8543         85620            NaN   \nmean            NaN        NaN        NaN           NaN  188647.156884   \nstd             NaN        NaN        NaN           NaN   54631.764232   \nmin             NaN        NaN        NaN           NaN   11095.000000   \n25%             NaN        NaN        NaN           NaN  150420.000000   \n50%             NaN        NaN        NaN           NaN  200039.000000   \n75%             NaN        NaN        NaN           NaN  220887.000000   \nmax             NaN        NaN        NaN           NaN  999999.000000   \n\n       moed_aliya_lakvish kinuy_mishari  \ncount               83095        100000  \nunique                205          1984  \ntop                2025-2       COROLLA  \nfreq                 4593          6146  \nmean                  NaN           NaN  \nstd                   NaN           NaN  \nmin                   NaN           NaN  \n25%                   NaN           NaN  \n50%                   NaN           NaN  \n75%                   NaN           NaN  \nmax                   NaN           NaN  \n\n[11 rows x 24 columns]",
                  "text/html": "\n  <div id=\"df-1572a380-c471-4477-b811-b8bd2524239c\" class=\"colab-df-container\">\n    <div>\n<style scoped>\n    .dataframe tbody tr th:only-of-type {\n        vertical-align: middle;\n    }\n\n    .dataframe tbody tr th {\n        vertical-align: top;\n    }\n\n    .dataframe thead th {\n        text-align: right;\n    }\n</style>\n<table border=\"1\" class=\"dataframe\">\n  <thead>\n    <tr style=\"text-align: right;\">\n      <th></th>\n      <th>_id</th>\n      <th>mispar_rechev</th>\n      <th>tozeret_cd</th>\n      <th>sug_degem</th>\n      <th>tozeret_nm</th>\n      <th>degem_cd</th>\n      <th>degem_nm</th>\n      <th>ramat_gimur</th>\n      <th>ramat_eivzur_betihuty</th>\n      <th>kvutzat_zihum</th>\n      <th>...</th>\n      <th>baalut</th>\n      <th>misgeret</th>\n      <th>tzeva_cd</th>\n      <th>tzeva_rechev</th>\n      <th>zmig_kidmi</th>\n      <th>zmig_ahori</th>\n      <th>sug_delek_nm</th>\n      <th>horaat_rishum</th>\n      <th>moed_aliya_lakvish</th>\n      <th>kinuy_mishari</th>\n    </tr>\n  </thead>\n  <tbody>\n    <tr>\n      <th>count</th>\n      <td>100000.000000</td>\n      <td>1.000000e+05</td>\n      <td>100000.000000</td>\n      <td>100000</td>\n      <td>100000</td>\n      <td>100000.000000</td>\n      <td>100000</td>\n      <td>100000</td>\n      <td>34060.000000</td>\n      <td>81926.000000</td>\n      <td>...</td>\n      <td>100000</td>\n      <td>100000</td>\n      <td>100000.00000</td>\n      <td>100000</td>\n      <td>100000</td>\n      <td>100000</td>\n      <td>100000</td>\n      <td>59324.000000</td>\n      <td>83095</td>\n      <td>100000</td>\n    </tr>\n    <tr>\n      <th>unique</th>\n      <td>NaN</td>\n      <td>NaN</td>\n      <td>NaN</td>\n      <td>2</td>\n      <td>240</td>\n      <td>NaN</td>\n      <td>4441</td>\n      <td>2039</td>\n      <td>NaN</td>\n      <td>NaN</td>\n      <td>...</td>\n      <td>5</td>\n      <td>100000</td>\n      <td>NaN</td>\n      <td>97</td>\n      <td>1496</td>\n      <td>1633</td>\n      <td>6</td>\n      <td>NaN</td>\n      <td>205</td>\n      <td>1984</td>\n    </tr>\n    <tr>\n      <th>top</th>\n      <td>NaN</td>\n      <td>NaN</td>\n      <td>NaN</td>\n      <td>P</td>\n      <td>מזדה יפן</td>\n      <td>NaN</td>\n      <td>BK12Z</td>\n      <td>ACTIVE</td>\n      <td>NaN</td>\n      <td>NaN</td>\n      <td>...</td>\n      <td>פרטי</td>\n      <td>KMHC851CGJU063450</td>\n      <td>NaN</td>\n      <td>שנהב לבן</td>\n      <td>195/65R15</td>\n      <td>195/65R15</td>\n      <td>בנזין</td>\n      <td>NaN</td>\n      <td>2025-2</td>\n      <td>COROLLA</td>\n    </tr>\n    <tr>\n      <th>freq</th>\n      <td>NaN</td>\n      <td>NaN</td>\n      <td>NaN</td>\n      <td>98742</td>\n      <td>13129</td>\n      <td>NaN</td>\n      <td>3344</td>\n      <td>6041</td>\n      <td>NaN</td>\n      <td>NaN</td>\n      <td>...</td>\n      <td>95459</td>\n      <td>1</td>\n      <td>NaN</td>\n      <td>34327</td>\n      <td>10269</td>\n      <td>8543</td>\n      <td>85620</td>\n      <td>NaN</td>\n      <td>4593</td>\n      <td>6146</td>\n    </tr>\n    <tr>\n      <th>mean</th>\n      <td>50000.500000</td>\n      <td>1.772764e+07</td>\n      <td>610.769230</td>\n      <td>NaN</td>\n      <td>NaN</td>\n      <td>377.964050</td>\n      <td>NaN</td>\n      <td>NaN</td>\n      <td>3.595743</td>\n      <td>12.978847</td>\n      <td>...</td>\n      <td>NaN</td>\n      <td>NaN</td>\n      <td>46.73488</td>\n      <td>NaN</td>\n      <td>NaN</td>\n      <td>NaN</td>\n      <td>NaN</td>\n      <td>188647.156884</td>\n      <td>NaN</td>\n      <td>NaN</td>\n    </tr>\n    <tr>\n      <th>std</th>\n      <td>28867.657797</td>\n      <td>2.036072e+07</td>\n      <td>286.702939</td>\n      <td>NaN</td>\n      <td>NaN</td>\n      <td>543.970757</td>\n      <td>NaN</td>\n      <td>NaN</td>\n      <td>2.187024</td>\n      <td>3.932014</td>\n      <td>...</td>\n      <td>NaN</td>\n      <td>NaN</td>\n      <td>29.54102</td>\n      <td>NaN</td>\n      <td>NaN</td>\n      <td>NaN</td>\n      <td>NaN</td>\n      <td>54631.764232</td>\n      <td>NaN</td>\n      <td>NaN</td>\n    </tr>\n    <tr>\n      <th>min</th>\n      <td>1.000000</td>\n      <td>1.000028e+06</td>\n      <td>11.000000</td>\n      <td>NaN</td>\n      <td>NaN</td>\n      <td>1.000000</td>\n      <td>NaN</td>\n      <td>NaN</td>\n      <td>1.000000</td>\n      <td>1.000000</td>\n      <td>...</td>\n      <td>NaN</td>\n      <td>NaN</td>\n      <td>0.00000</td>\n      <td>NaN</td>\n      <td>NaN</td>\n      <td>NaN</td>\n      <td>NaN</td>\n      <td>11095.000000</td>\n      <td>NaN</td>\n      <td>NaN</td>\n    </tr>\n    <tr>\n      <th>25%</th>\n      <td>25000.750000</td>\n      <td>4.983093e+06</td>\n      <td>413.000000</td>\n      <td>NaN</td>\n      <td>NaN</td>\n      <td>50.000000</td>\n      <td>NaN</td>\n      <td>NaN</td>\n      <td>2.000000</td>\n      <td>14.000000</td>\n      <td>...</td>\n      <td>NaN</td>\n      <td>NaN</td>\n      <td>22.00000</td>\n      <td>NaN</td>\n      <td>NaN</td>\n      <td>NaN</td>\n      <td>NaN</td>\n      <td>150420.000000</td>\n      <td>NaN</td>\n      <td>NaN</td>\n    </tr>\n    <tr>\n      <th>50%</th>\n      <td>50000.500000</td>\n      <td>7.932655e+06</td>\n      <td>588.000000</td>\n      <td>NaN</td>\n      <td>NaN</td>\n      <td>201.000000</td>\n      <td>NaN</td>\n      <td>NaN</td>\n      <td>3.000000</td>\n      <td>15.000000</td>\n      <td>...</td>\n      <td>NaN</td>\n      <td>NaN</td>\n      <td>30.00000</td>\n      <td>NaN</td>\n      <td>NaN</td>\n      <td>NaN</td>\n      <td>NaN</td>\n      <td>200039.000000</td>\n      <td>NaN</td>\n      <td>NaN</td>\n    </tr>\n    <tr>\n      <th>75%</th>\n      <td>75000.250000</td>\n      <td>2.325583e+07</td>\n      <td>737.000000</td>\n      <td>NaN</td>\n      <td>NaN</td>\n      <td>493.000000</td>\n      <td>NaN</td>\n      <td>NaN</td>\n      <td>6.000000</td>\n      <td>15.000000</td>\n      <td>...</td>\n      <td>NaN</td>\n      <td>NaN</td>\n      <td>80.00000</td>\n      <td>NaN</td>\n      <td>NaN</td>\n      <td>NaN</td>\n      <td>NaN</td>\n      <td>220887.000000</td>\n      <td>NaN</td>\n      <td>NaN</td>\n    </tr>\n    <tr>\n      <th>max</th>\n      <td>100000.000000</td>\n      <td>9.255030e+07</td>\n      <td>1636.000000</td>\n      <td>NaN</td>\n      <td>NaN</td>\n      <td>8710.000000</td>\n      <td>NaN</td>\n      <td>NaN</td>\n      <td>8.000000</td>\n      <td>15.000000</td>\n      <td>...</td>\n      <td>NaN</td>\n      <td>NaN</td>\n      <td>99.00000</td>\n      <td>NaN</td>\n      <td>NaN</td>\n      <td>NaN</td>\n      <td>NaN</td>\n      <td>999999.000000</td>\n      <td>NaN</td>\n      <td>NaN</td>\n    </tr>\n  </tbody>\n</table>\n<p>11 rows × 24 columns</p>\n</div>\n    <div class=\"colab-df-buttons\">\n\n  <div class=\"colab-df-container\">\n    <button class=\"colab-df-convert\" onclick=\"convertToInteractive('df-1572a380-c471-4477-b811-b8bd2524239c')\"\n            title=\"Convert this dataframe to an interactive table.\"\n            style=\"display:none;\">\n\n  <svg xmlns=\"http://www.w3.org/2000/svg\" height=\"24px\" viewBox=\"0 -960 960 960\">\n    <path d=\"M120-120v-720h720v720H120Zm60-500h600v-160H180v160Zm220 220h160v-160H400v160Zm0 220h160v-160H400v160ZM180-400h160v-160H180v160Zm440 0h160v-160H620v160ZM180-180h160v-160H180v160Zm440 0h160v-160H620v160Z\"/>\n  </svg>\n    </button>\n\n  <style>\n    .colab-df-container {\n      display:flex;\n      gap: 12px;\n    }\n\n    .colab-df-convert {\n      background-color: #E8F0FE;\n      border: none;\n      border-radius: 50%;\n      cursor: pointer;\n      display: none;\n      fill: #1967D2;\n      height: 32px;\n      padding: 0 0 0 0;\n      width: 32px;\n    }\n\n    .colab-df-convert:hover {\n      background-color: #E2EBFA;\n      box-shadow: 0px 1px 2px rgba(60, 64, 67, 0.3), 0px 1px 3px 1px rgba(60, 64, 67, 0.15);\n      fill: #174EA6;\n    }\n\n    .colab-df-buttons div {\n      margin-bottom: 4px;\n    }\n\n    [theme=dark] .colab-df-convert {\n      background-color: #3B4455;\n      fill: #D2E3FC;\n    }\n\n    [theme=dark] .colab-df-convert:hover {\n      background-color: #434B5C;\n      box-shadow: 0px 1px 3px 1px rgba(0, 0, 0, 0.15);\n      filter: drop-shadow(0px 1px 2px rgba(0, 0, 0, 0.3));\n      fill: #FFFFFF;\n    }\n  </style>\n\n    <script>\n      const buttonEl =\n        document.querySelector('#df-1572a380-c471-4477-b811-b8bd2524239c button.colab-df-convert');\n      buttonEl.style.display =\n        google.colab.kernel.accessAllowed ? 'block' : 'none';\n\n      async function convertToInteractive(key) {\n        const element = document.querySelector('#df-1572a380-c471-4477-b811-b8bd2524239c');\n        const dataTable =\n          await google.colab.kernel.invokeFunction('convertToInteractive',\n                                                    [key], {});\n        if (!dataTable) return;\n\n        const docLinkHtml = 'Like what you see? Visit the ' +\n          '<a target=\"_blank\" href=https://colab.research.google.com/notebooks/data_table.ipynb>data table notebook</a>'\n          + ' to learn more about interactive tables.';\n        element.innerHTML = '';\n        dataTable['output_type'] = 'display_data';\n        await google.colab.output.renderOutput(dataTable, element);\n        const docLink = document.createElement('div');\n        docLink.innerHTML = docLinkHtml;\n        element.appendChild(docLink);\n      }\n    </script>\n  </div>\n\n\n<div id=\"df-f14e1ef7-edba-417a-b363-cc8a5336cb65\">\n  <button class=\"colab-df-quickchart\" onclick=\"quickchart('df-f14e1ef7-edba-417a-b363-cc8a5336cb65')\"\n            title=\"Suggest charts\"\n            style=\"display:none;\">\n\n<svg xmlns=\"http://www.w3.org/2000/svg\" height=\"24px\"viewBox=\"0 0 24 24\"\n     width=\"24px\">\n    <g>\n        <path d=\"M19 3H5c-1.1 0-2 .9-2 2v14c0 1.1.9 2 2 2h14c1.1 0 2-.9 2-2V5c0-1.1-.9-2-2-2zM9 17H7v-7h2v7zm4 0h-2V7h2v10zm4 0h-2v-4h2v4z\"/>\n    </g>\n</svg>\n  </button>\n\n<style>\n  .colab-df-quickchart {\n      --bg-color: #E8F0FE;\n      --fill-color: #1967D2;\n      --hover-bg-color: #E2EBFA;\n      --hover-fill-color: #174EA6;\n      --disabled-fill-color: #AAA;\n      --disabled-bg-color: #DDD;\n  }\n\n  [theme=dark] .colab-df-quickchart {\n      --bg-color: #3B4455;\n      --fill-color: #D2E3FC;\n      --hover-bg-color: #434B5C;\n      --hover-fill-color: #FFFFFF;\n      --disabled-bg-color: #3B4455;\n      --disabled-fill-color: #666;\n  }\n\n  .colab-df-quickchart {\n    background-color: var(--bg-color);\n    border: none;\n    border-radius: 50%;\n    cursor: pointer;\n    display: none;\n    fill: var(--fill-color);\n    height: 32px;\n    padding: 0;\n    width: 32px;\n  }\n\n  .colab-df-quickchart:hover {\n    background-color: var(--hover-bg-color);\n    box-shadow: 0 1px 2px rgba(60, 64, 67, 0.3), 0 1px 3px 1px rgba(60, 64, 67, 0.15);\n    fill: var(--button-hover-fill-color);\n  }\n\n  .colab-df-quickchart-complete:disabled,\n  .colab-df-quickchart-complete:disabled:hover {\n    background-color: var(--disabled-bg-color);\n    fill: var(--disabled-fill-color);\n    box-shadow: none;\n  }\n\n  .colab-df-spinner {\n    border: 2px solid var(--fill-color);\n    border-color: transparent;\n    border-bottom-color: var(--fill-color);\n    animation:\n      spin 1s steps(1) infinite;\n  }\n\n  @keyframes spin {\n    0% {\n      border-color: transparent;\n      border-bottom-color: var(--fill-color);\n      border-left-color: var(--fill-color);\n    }\n    20% {\n      border-color: transparent;\n      border-left-color: var(--fill-color);\n      border-top-color: var(--fill-color);\n    }\n    30% {\n      border-color: transparent;\n      border-left-color: var(--fill-color);\n      border-top-color: var(--fill-color);\n      border-right-color: var(--fill-color);\n    }\n    40% {\n      border-color: transparent;\n      border-right-color: var(--fill-color);\n      border-top-color: var(--fill-color);\n    }\n    60% {\n      border-color: transparent;\n      border-right-color: var(--fill-color);\n    }\n    80% {\n      border-color: transparent;\n      border-right-color: var(--fill-color);\n      border-bottom-color: var(--fill-color);\n    }\n    90% {\n      border-color: transparent;\n      border-bottom-color: var(--fill-color);\n    }\n  }\n</style>\n\n  <script>\n    async function quickchart(key) {\n      const quickchartButtonEl =\n        document.querySelector('#' + key + ' button');\n      quickchartButtonEl.disabled = true;  // To prevent multiple clicks.\n      quickchartButtonEl.classList.add('colab-df-spinner');\n      try {\n        const charts = await google.colab.kernel.invokeFunction(\n            'suggestCharts', [key], {});\n      } catch (error) {\n        console.error('Error during call to suggestCharts:', error);\n      }\n      quickchartButtonEl.classList.remove('colab-df-spinner');\n      quickchartButtonEl.classList.add('colab-df-quickchart-complete');\n    }\n    (() => {\n      let quickchartButtonEl =\n        document.querySelector('#df-f14e1ef7-edba-417a-b363-cc8a5336cb65 button');\n      quickchartButtonEl.style.display =\n        google.colab.kernel.accessAllowed ? 'block' : 'none';\n    })();\n  </script>\n</div>\n\n    </div>\n  </div>\n",
                  "application/vnd.google.colaboratory.intrinsic+json": {
                    "type": "dataframe"
                  }
                },
                "metadata": {}
              }
            ]
          }
        },
        "1db50a6244b84d08bf394a35c62577fb": {
          "model_module": "@jupyter-widgets/output",
          "model_name": "OutputModel",
          "model_module_version": "1.0.0",
          "state": {
            "_dom_classes": [],
            "_model_module": "@jupyter-widgets/output",
            "_model_module_version": "1.0.0",
            "_model_name": "OutputModel",
            "_view_count": null,
            "_view_module": "@jupyter-widgets/output",
            "_view_module_version": "1.0.0",
            "_view_name": "OutputView",
            "layout": "IPY_MODEL_cd81eb96259747e3b411ca9b54499440",
            "msg_id": "",
            "outputs": [
              {
                "output_type": "stream",
                "name": "stdout",
                "text": [
                  "RAW DATA  (first 20k rows)\n"
                ]
              },
              {
                "output_type": "display_data",
                "data": {
                  "text/plain": "         _id  mispar_rechev  tozeret_cd sug_degem     tozeret_nm  degem_cd  \\\n0          1        1368639         177         P    פיאט תורכיה        46   \n1          2        1751772         885         P     קיה קוריאה       821   \n2          3        1957563         845         P  יונדאי טורקיה        62   \n3          4        2176963         590         P   מיצובישי יפן       511   \n4          5        2389531         481         P  יונדאי קוריאה        99   \n...      ...            ...         ...       ...            ...       ...   \n19995  19996        1571363         839         P  טויוטה טורקיה        42   \n19996  19997        2903513         869         P  קרייזלר ארה\"ב        14   \n19997  19998        6595465         734         P      פורד ספרד       291   \n19998  19999        2770770         413         P     טויוטה יפן       871   \n19999  20000        6598433         416         P    קיה סלובקיה        86   \n\n             degem_nm ramat_gimur  ramat_eivzur_betihuty  kvutzat_zihum  ...  \\\n0            356SXE11      LOUNGE                    NaN           15.0  ...   \n1              DE2213          EX                    NaN           15.0  ...   \n2               CM41A          GL                    NaN            NaN  ...   \n3          CS3ASRJEL6   EXECUTIVE                    NaN           15.0  ...   \n4               DH41C     INSPIRE                    NaN           15.0  ...   \n...               ...         ...                    ...            ...  ...   \n19995  ZZE121L-DEPDKW         SUN                    NaN            NaN  ...   \n19996            JFAM      LAREDO                    NaN           15.0  ...   \n19997             DB3       TREND                    NaN           15.0  ...   \n19998  ZRE151L-AEPDKW         SUN                    NaN           15.0  ...   \n19999          PC81BB          EX                    NaN           15.0  ...   \n\n       baalut           misgeret tzeva_cd tzeva_rechev zmig_kidmi zmig_ahori  \\\n0        פרטי  ZFA35600006C35239       80     שנהב לבן  225/45R17  225/45R17   \n1        פרטי  KNADH411BA6683569       23    אפור בהיר  175/70R14  175/70R14   \n2        פרטי  NLHCM41AP8Z054622       80     שנהב לבן  185/65R14  185/65R14   \n3        פרטי  JMBSRCS3A8U000524       80     שנהב לבן  195/60R15  195/60R15   \n4        פרטי  KMHDH41CBFU168547       93     כסוף כהה  195/65R15  195/65R15   \n...       ...                ...      ...          ...        ...        ...   \n19995    פרטי  NMTBZ28E47R171091       80     שנהב לבן  195/60R15  195/60R15   \n19996    פרטי  1C4RJFAM4CC102333       80     שנהב לבן  265/60R18  265/60R18   \n19997    פרטי  WF0HXXWPDH8C35997       25          כסף  195/65R15              \n19998    פרטי  JTNBV58E90J079990       29     כסף מטלי  195/65R15  195/65R15   \n19999    פרטי  U5YPC81BBFL721245       80     שנהב לבן  235/55R18  235/55R18   \n\n       sug_delek_nm horaat_rishum moed_aliya_lakvish   kinuy_mishari  \n0             בנזין      160378.0             2016-4       FIAT TIPO  \n1             בנזין           NaN             2010-5             RIO  \n2             בנזין           NaN               None          ACCENT  \n3             בנזין           NaN               None          LANCER  \n4             בנזין      140123.0             2014-5             I35  \n...             ...           ...                ...             ...  \n19995         בנזין           NaN               None         COROLLA  \n19996          דיזל           NaN             2012-1  GRAND CHEROKEE  \n19997         בנזין           NaN             2008-6           FOCUS  \n19998         בנזין           NaN             2010-2         COROLLA  \n19999         בנזין      150087.0            2015-11        SPORTAGE  \n\n[20000 rows x 24 columns]",
                  "text/html": "\n  <div id=\"df-f8b77eea-642a-44cb-b6b3-777e1129cd5d\" class=\"colab-df-container\">\n    <div>\n<style scoped>\n    .dataframe tbody tr th:only-of-type {\n        vertical-align: middle;\n    }\n\n    .dataframe tbody tr th {\n        vertical-align: top;\n    }\n\n    .dataframe thead th {\n        text-align: right;\n    }\n</style>\n<table border=\"1\" class=\"dataframe\">\n  <thead>\n    <tr style=\"text-align: right;\">\n      <th></th>\n      <th>_id</th>\n      <th>mispar_rechev</th>\n      <th>tozeret_cd</th>\n      <th>sug_degem</th>\n      <th>tozeret_nm</th>\n      <th>degem_cd</th>\n      <th>degem_nm</th>\n      <th>ramat_gimur</th>\n      <th>ramat_eivzur_betihuty</th>\n      <th>kvutzat_zihum</th>\n      <th>...</th>\n      <th>baalut</th>\n      <th>misgeret</th>\n      <th>tzeva_cd</th>\n      <th>tzeva_rechev</th>\n      <th>zmig_kidmi</th>\n      <th>zmig_ahori</th>\n      <th>sug_delek_nm</th>\n      <th>horaat_rishum</th>\n      <th>moed_aliya_lakvish</th>\n      <th>kinuy_mishari</th>\n    </tr>\n  </thead>\n  <tbody>\n    <tr>\n      <th>0</th>\n      <td>1</td>\n      <td>1368639</td>\n      <td>177</td>\n      <td>P</td>\n      <td>פיאט תורכיה</td>\n      <td>46</td>\n      <td>356SXE11</td>\n      <td>LOUNGE</td>\n      <td>NaN</td>\n      <td>15.0</td>\n      <td>...</td>\n      <td>פרטי</td>\n      <td>ZFA35600006C35239</td>\n      <td>80</td>\n      <td>שנהב לבן</td>\n      <td>225/45R17</td>\n      <td>225/45R17</td>\n      <td>בנזין</td>\n      <td>160378.0</td>\n      <td>2016-4</td>\n      <td>FIAT TIPO</td>\n    </tr>\n    <tr>\n      <th>1</th>\n      <td>2</td>\n      <td>1751772</td>\n      <td>885</td>\n      <td>P</td>\n      <td>קיה קוריאה</td>\n      <td>821</td>\n      <td>DE2213</td>\n      <td>EX</td>\n      <td>NaN</td>\n      <td>15.0</td>\n      <td>...</td>\n      <td>פרטי</td>\n      <td>KNADH411BA6683569</td>\n      <td>23</td>\n      <td>אפור בהיר</td>\n      <td>175/70R14</td>\n      <td>175/70R14</td>\n      <td>בנזין</td>\n      <td>NaN</td>\n      <td>2010-5</td>\n      <td>RIO</td>\n    </tr>\n    <tr>\n      <th>2</th>\n      <td>3</td>\n      <td>1957563</td>\n      <td>845</td>\n      <td>P</td>\n      <td>יונדאי טורקיה</td>\n      <td>62</td>\n      <td>CM41A</td>\n      <td>GL</td>\n      <td>NaN</td>\n      <td>NaN</td>\n      <td>...</td>\n      <td>פרטי</td>\n      <td>NLHCM41AP8Z054622</td>\n      <td>80</td>\n      <td>שנהב לבן</td>\n      <td>185/65R14</td>\n      <td>185/65R14</td>\n      <td>בנזין</td>\n      <td>NaN</td>\n      <td>None</td>\n      <td>ACCENT</td>\n    </tr>\n    <tr>\n      <th>3</th>\n      <td>4</td>\n      <td>2176963</td>\n      <td>590</td>\n      <td>P</td>\n      <td>מיצובישי יפן</td>\n      <td>511</td>\n      <td>CS3ASRJEL6</td>\n      <td>EXECUTIVE</td>\n      <td>NaN</td>\n      <td>15.0</td>\n      <td>...</td>\n      <td>פרטי</td>\n      <td>JMBSRCS3A8U000524</td>\n      <td>80</td>\n      <td>שנהב לבן</td>\n      <td>195/60R15</td>\n      <td>195/60R15</td>\n      <td>בנזין</td>\n      <td>NaN</td>\n      <td>None</td>\n      <td>LANCER</td>\n    </tr>\n    <tr>\n      <th>4</th>\n      <td>5</td>\n      <td>2389531</td>\n      <td>481</td>\n      <td>P</td>\n      <td>יונדאי קוריאה</td>\n      <td>99</td>\n      <td>DH41C</td>\n      <td>INSPIRE</td>\n      <td>NaN</td>\n      <td>15.0</td>\n      <td>...</td>\n      <td>פרטי</td>\n      <td>KMHDH41CBFU168547</td>\n      <td>93</td>\n      <td>כסוף כהה</td>\n      <td>195/65R15</td>\n      <td>195/65R15</td>\n      <td>בנזין</td>\n      <td>140123.0</td>\n      <td>2014-5</td>\n      <td>I35</td>\n    </tr>\n    <tr>\n      <th>...</th>\n      <td>...</td>\n      <td>...</td>\n      <td>...</td>\n      <td>...</td>\n      <td>...</td>\n      <td>...</td>\n      <td>...</td>\n      <td>...</td>\n      <td>...</td>\n      <td>...</td>\n      <td>...</td>\n      <td>...</td>\n      <td>...</td>\n      <td>...</td>\n      <td>...</td>\n      <td>...</td>\n      <td>...</td>\n      <td>...</td>\n      <td>...</td>\n      <td>...</td>\n      <td>...</td>\n    </tr>\n    <tr>\n      <th>19995</th>\n      <td>19996</td>\n      <td>1571363</td>\n      <td>839</td>\n      <td>P</td>\n      <td>טויוטה טורקיה</td>\n      <td>42</td>\n      <td>ZZE121L-DEPDKW</td>\n      <td>SUN</td>\n      <td>NaN</td>\n      <td>NaN</td>\n      <td>...</td>\n      <td>פרטי</td>\n      <td>NMTBZ28E47R171091</td>\n      <td>80</td>\n      <td>שנהב לבן</td>\n      <td>195/60R15</td>\n      <td>195/60R15</td>\n      <td>בנזין</td>\n      <td>NaN</td>\n      <td>None</td>\n      <td>COROLLA</td>\n    </tr>\n    <tr>\n      <th>19996</th>\n      <td>19997</td>\n      <td>2903513</td>\n      <td>869</td>\n      <td>P</td>\n      <td>קרייזלר ארה\"ב</td>\n      <td>14</td>\n      <td>JFAM</td>\n      <td>LAREDO</td>\n      <td>NaN</td>\n      <td>15.0</td>\n      <td>...</td>\n      <td>פרטי</td>\n      <td>1C4RJFAM4CC102333</td>\n      <td>80</td>\n      <td>שנהב לבן</td>\n      <td>265/60R18</td>\n      <td>265/60R18</td>\n      <td>דיזל</td>\n      <td>NaN</td>\n      <td>2012-1</td>\n      <td>GRAND CHEROKEE</td>\n    </tr>\n    <tr>\n      <th>19997</th>\n      <td>19998</td>\n      <td>6595465</td>\n      <td>734</td>\n      <td>P</td>\n      <td>פורד ספרד</td>\n      <td>291</td>\n      <td>DB3</td>\n      <td>TREND</td>\n      <td>NaN</td>\n      <td>15.0</td>\n      <td>...</td>\n      <td>פרטי</td>\n      <td>WF0HXXWPDH8C35997</td>\n      <td>25</td>\n      <td>כסף</td>\n      <td>195/65R15</td>\n      <td></td>\n      <td>בנזין</td>\n      <td>NaN</td>\n      <td>2008-6</td>\n      <td>FOCUS</td>\n    </tr>\n    <tr>\n      <th>19998</th>\n      <td>19999</td>\n      <td>2770770</td>\n      <td>413</td>\n      <td>P</td>\n      <td>טויוטה יפן</td>\n      <td>871</td>\n      <td>ZRE151L-AEPDKW</td>\n      <td>SUN</td>\n      <td>NaN</td>\n      <td>15.0</td>\n      <td>...</td>\n      <td>פרטי</td>\n      <td>JTNBV58E90J079990</td>\n      <td>29</td>\n      <td>כסף מטלי</td>\n      <td>195/65R15</td>\n      <td>195/65R15</td>\n      <td>בנזין</td>\n      <td>NaN</td>\n      <td>2010-2</td>\n      <td>COROLLA</td>\n    </tr>\n    <tr>\n      <th>19999</th>\n      <td>20000</td>\n      <td>6598433</td>\n      <td>416</td>\n      <td>P</td>\n      <td>קיה סלובקיה</td>\n      <td>86</td>\n      <td>PC81BB</td>\n      <td>EX</td>\n      <td>NaN</td>\n      <td>15.0</td>\n      <td>...</td>\n      <td>פרטי</td>\n      <td>U5YPC81BBFL721245</td>\n      <td>80</td>\n      <td>שנהב לבן</td>\n      <td>235/55R18</td>\n      <td>235/55R18</td>\n      <td>בנזין</td>\n      <td>150087.0</td>\n      <td>2015-11</td>\n      <td>SPORTAGE</td>\n    </tr>\n  </tbody>\n</table>\n<p>20000 rows × 24 columns</p>\n</div>\n    <div class=\"colab-df-buttons\">\n\n  <div class=\"colab-df-container\">\n    <button class=\"colab-df-convert\" onclick=\"convertToInteractive('df-f8b77eea-642a-44cb-b6b3-777e1129cd5d')\"\n            title=\"Convert this dataframe to an interactive table.\"\n            style=\"display:none;\">\n\n  <svg xmlns=\"http://www.w3.org/2000/svg\" height=\"24px\" viewBox=\"0 -960 960 960\">\n    <path d=\"M120-120v-720h720v720H120Zm60-500h600v-160H180v160Zm220 220h160v-160H400v160Zm0 220h160v-160H400v160ZM180-400h160v-160H180v160Zm440 0h160v-160H620v160ZM180-180h160v-160H180v160Zm440 0h160v-160H620v160Z\"/>\n  </svg>\n    </button>\n\n  <style>\n    .colab-df-container {\n      display:flex;\n      gap: 12px;\n    }\n\n    .colab-df-convert {\n      background-color: #E8F0FE;\n      border: none;\n      border-radius: 50%;\n      cursor: pointer;\n      display: none;\n      fill: #1967D2;\n      height: 32px;\n      padding: 0 0 0 0;\n      width: 32px;\n    }\n\n    .colab-df-convert:hover {\n      background-color: #E2EBFA;\n      box-shadow: 0px 1px 2px rgba(60, 64, 67, 0.3), 0px 1px 3px 1px rgba(60, 64, 67, 0.15);\n      fill: #174EA6;\n    }\n\n    .colab-df-buttons div {\n      margin-bottom: 4px;\n    }\n\n    [theme=dark] .colab-df-convert {\n      background-color: #3B4455;\n      fill: #D2E3FC;\n    }\n\n    [theme=dark] .colab-df-convert:hover {\n      background-color: #434B5C;\n      box-shadow: 0px 1px 3px 1px rgba(0, 0, 0, 0.15);\n      filter: drop-shadow(0px 1px 2px rgba(0, 0, 0, 0.3));\n      fill: #FFFFFF;\n    }\n  </style>\n\n    <script>\n      const buttonEl =\n        document.querySelector('#df-f8b77eea-642a-44cb-b6b3-777e1129cd5d button.colab-df-convert');\n      buttonEl.style.display =\n        google.colab.kernel.accessAllowed ? 'block' : 'none';\n\n      async function convertToInteractive(key) {\n        const element = document.querySelector('#df-f8b77eea-642a-44cb-b6b3-777e1129cd5d');\n        const dataTable =\n          await google.colab.kernel.invokeFunction('convertToInteractive',\n                                                    [key], {});\n        if (!dataTable) return;\n\n        const docLinkHtml = 'Like what you see? Visit the ' +\n          '<a target=\"_blank\" href=https://colab.research.google.com/notebooks/data_table.ipynb>data table notebook</a>'\n          + ' to learn more about interactive tables.';\n        element.innerHTML = '';\n        dataTable['output_type'] = 'display_data';\n        await google.colab.output.renderOutput(dataTable, element);\n        const docLink = document.createElement('div');\n        docLink.innerHTML = docLinkHtml;\n        element.appendChild(docLink);\n      }\n    </script>\n  </div>\n\n\n<div id=\"df-a8e5d810-cd28-437d-8339-8d393ef70785\">\n  <button class=\"colab-df-quickchart\" onclick=\"quickchart('df-a8e5d810-cd28-437d-8339-8d393ef70785')\"\n            title=\"Suggest charts\"\n            style=\"display:none;\">\n\n<svg xmlns=\"http://www.w3.org/2000/svg\" height=\"24px\"viewBox=\"0 0 24 24\"\n     width=\"24px\">\n    <g>\n        <path d=\"M19 3H5c-1.1 0-2 .9-2 2v14c0 1.1.9 2 2 2h14c1.1 0 2-.9 2-2V5c0-1.1-.9-2-2-2zM9 17H7v-7h2v7zm4 0h-2V7h2v10zm4 0h-2v-4h2v4z\"/>\n    </g>\n</svg>\n  </button>\n\n<style>\n  .colab-df-quickchart {\n      --bg-color: #E8F0FE;\n      --fill-color: #1967D2;\n      --hover-bg-color: #E2EBFA;\n      --hover-fill-color: #174EA6;\n      --disabled-fill-color: #AAA;\n      --disabled-bg-color: #DDD;\n  }\n\n  [theme=dark] .colab-df-quickchart {\n      --bg-color: #3B4455;\n      --fill-color: #D2E3FC;\n      --hover-bg-color: #434B5C;\n      --hover-fill-color: #FFFFFF;\n      --disabled-bg-color: #3B4455;\n      --disabled-fill-color: #666;\n  }\n\n  .colab-df-quickchart {\n    background-color: var(--bg-color);\n    border: none;\n    border-radius: 50%;\n    cursor: pointer;\n    display: none;\n    fill: var(--fill-color);\n    height: 32px;\n    padding: 0;\n    width: 32px;\n  }\n\n  .colab-df-quickchart:hover {\n    background-color: var(--hover-bg-color);\n    box-shadow: 0 1px 2px rgba(60, 64, 67, 0.3), 0 1px 3px 1px rgba(60, 64, 67, 0.15);\n    fill: var(--button-hover-fill-color);\n  }\n\n  .colab-df-quickchart-complete:disabled,\n  .colab-df-quickchart-complete:disabled:hover {\n    background-color: var(--disabled-bg-color);\n    fill: var(--disabled-fill-color);\n    box-shadow: none;\n  }\n\n  .colab-df-spinner {\n    border: 2px solid var(--fill-color);\n    border-color: transparent;\n    border-bottom-color: var(--fill-color);\n    animation:\n      spin 1s steps(1) infinite;\n  }\n\n  @keyframes spin {\n    0% {\n      border-color: transparent;\n      border-bottom-color: var(--fill-color);\n      border-left-color: var(--fill-color);\n    }\n    20% {\n      border-color: transparent;\n      border-left-color: var(--fill-color);\n      border-top-color: var(--fill-color);\n    }\n    30% {\n      border-color: transparent;\n      border-left-color: var(--fill-color);\n      border-top-color: var(--fill-color);\n      border-right-color: var(--fill-color);\n    }\n    40% {\n      border-color: transparent;\n      border-right-color: var(--fill-color);\n      border-top-color: var(--fill-color);\n    }\n    60% {\n      border-color: transparent;\n      border-right-color: var(--fill-color);\n    }\n    80% {\n      border-color: transparent;\n      border-right-color: var(--fill-color);\n      border-bottom-color: var(--fill-color);\n    }\n    90% {\n      border-color: transparent;\n      border-bottom-color: var(--fill-color);\n    }\n  }\n</style>\n\n  <script>\n    async function quickchart(key) {\n      const quickchartButtonEl =\n        document.querySelector('#' + key + ' button');\n      quickchartButtonEl.disabled = true;  // To prevent multiple clicks.\n      quickchartButtonEl.classList.add('colab-df-spinner');\n      try {\n        const charts = await google.colab.kernel.invokeFunction(\n            'suggestCharts', [key], {});\n      } catch (error) {\n        console.error('Error during call to suggestCharts:', error);\n      }\n      quickchartButtonEl.classList.remove('colab-df-spinner');\n      quickchartButtonEl.classList.add('colab-df-quickchart-complete');\n    }\n    (() => {\n      let quickchartButtonEl =\n        document.querySelector('#df-a8e5d810-cd28-437d-8339-8d393ef70785 button');\n      quickchartButtonEl.style.display =\n        google.colab.kernel.accessAllowed ? 'block' : 'none';\n    })();\n  </script>\n</div>\n\n    </div>\n  </div>\n",
                  "application/vnd.google.colaboratory.intrinsic+json": {
                    "type": "dataframe"
                  }
                },
                "metadata": {}
              }
            ]
          }
        },
        "f9cc7bf4b4d841ebb28ec10c62bcdcd8": {
          "model_module": "@jupyter-widgets/output",
          "model_name": "OutputModel",
          "model_module_version": "1.0.0",
          "state": {
            "_dom_classes": [],
            "_model_module": "@jupyter-widgets/output",
            "_model_module_version": "1.0.0",
            "_model_name": "OutputModel",
            "_view_count": null,
            "_view_module": "@jupyter-widgets/output",
            "_view_module_version": "1.0.0",
            "_view_name": "OutputView",
            "layout": "IPY_MODEL_e701858194ae47d89706509973678679",
            "msg_id": "",
            "outputs": [
              {
                "output_type": "display_data",
                "data": {
                  "text/plain": "<Figure size 1000x400 with 1 Axes>",
                  "image/png": "iVBORw0KGgoAAAANSUhEUgAAA90AAAGGCAYAAABmGOKbAAAAOnRFWHRTb2Z0d2FyZQBNYXRwbG90bGliIHZlcnNpb24zLjEwLjAsIGh0dHBzOi8vbWF0cGxvdGxpYi5vcmcvlHJYcgAAAAlwSFlzAAAPYQAAD2EBqD+naQAAWX5JREFUeJzt3XmcjfX///Hnmd3stpkhw6CFQSk+MZZIlpiPUnxEi7GlbIVPRJ+ytZAWSpZW9I3qQ8vnQ5Yi9JUlS8oeIQpDZMaSYWZevz/85nydZsjoXHOYedxvt3PLua7rXM/365wzp+t1rutcl8vMTAAAAAAAwOv8fD0AAAAAAAAKK5puAAAAAAAcQtMNAAAAAIBDaLoBAAAAAHAITTcAAAAAAA6h6QYAAAAAwCE03QAAAAAAOISmGwAAAAAAh9B0AwAAAADgEJpuACiiOnfurISEBF8PAxeQkJCgzp07X9JjXS6Xhg8f7tXxFGXDhw+Xy+XySXbjxo3VuHFjn2QDAP46mm4AuIzlbOj/+uuvec6vXr06G+NAIbB582YNHz5cu3fv9vVQAABeFuDrAQAAfOPNN99Udna2r4cBQGeb7hEjRqhx48a5jkD5/PPPfTMoAIBXsKcbAIqowMBABQcH+3oYPnXixAlfDwH/38mTJx1Zb2Zmpk6fPu3IugtKUFCQgoKCfD0MnyoMryOAooumGwAKkSVLlsjlcunf//63nn32WZUrV04hISG67bbbtGPHDo9l8/pN99GjR9W5c2dFRUUpOjpaKSkpWr9+vVwul6ZOnepe7ny/Mc1rndnZ2Ro3bpyqVaumkJAQxcbG6qGHHtJvv/12UTVt3bpV7du3V+nSpVWsWDFdd911+te//uWe/9NPP6lXr1667rrrVKxYMZUsWVL/+Mc/ch2mO3XqVLlcLi1dulS9evVSTEyMypUrd97cc5/LESNG6KqrrlJERITatWuntLQ0ZWRkqF+/foqJiVF4eLi6dOmijIwMj3VkZmbq6aefVuXKlRUcHKyEhAQ98cQTuZYzMz3zzDMqV66cQkNDdeutt2rTpk15juvo0aPq16+f4uPjFRwcrKuvvlrPP//8nx61cOzYMfXr108JCQkKDg5WTEyMmjVrpnXr1l3wcTk/cch5HSIjI1WyZEk9+uijOnXqVK7l33vvPdWqVUvFihVTiRIl1KFDB+3du9djmcaNG6t69epau3atbrnlFoWGhuqJJ5447xg6d+6s8PBw7dy5Uy1atFBYWJjKli2rkSNHyszcy+3evVsul0svvviixo0b537eN2/eLEn68ssv1bBhQ4WFhSk6Olp33nmntmzZkitv2bJl+tvf/qaQkBBVrlxZr7/+eq5lcrLO/bvIkdfv6X/55Rd169ZNZcuWVXBwsCpWrKiePXvq9OnTmjp1qv7xj39Ikm699Va5XC65XC4tWbLE/Xz98e/t4MGD6tatm2JjYxUSEqIbbrhB06ZNy3OML774ot544w338/G3v/1Nq1evPu/zLUk7d+6Uy+XS2LFjc81bvny5XC6X3n//fY/6unbtqtjYWAUHB6tatWp65513PB53+vRpDR06VLVq1VJUVJTCwsLUsGFDLV68+Lzjzut1BIArDYeXA0AhNHr0aPn5+emxxx5TWlqaxowZo/vuu0+rVq0672PMTHfeeaeWLVumhx9+WFWrVtUnn3yilJSUvzSWhx56SFOnTlWXLl30yCOPaNeuXXrttdf07bff6uuvv1ZgYOB5H/v999+rYcOGCgwMVI8ePZSQkKAff/xRs2fP1rPPPitJWr16tZYvX64OHTqoXLly2r17tyZNmqTGjRtr8+bNCg0N9Vhnr169VLp0aQ0dOvSi9nSPGjVKxYoV0+DBg7Vjxw6NHz9egYGB8vPz02+//abhw4dr5cqVmjp1qipWrKihQ4e6H9u9e3dNmzZN7dq10z//+U+tWrVKo0aN0pYtW/TJJ5+4lxs6dKieeeYZtWrVSq1atdK6devUvHnzXHv2Tp48qUaNGumXX37RQw89pPLly2v58uUaMmSI9u/fr3Hjxp23jocfflizZs1Snz59lJiYqMOHD2vZsmXasmWLbrrppj99Htq3b6+EhASNGjVKK1eu1KuvvqrffvtN7777rnuZZ599Vk899ZTat2+v7t2769ChQxo/frxuueUWffvtt4qOjnYve/jwYbVs2VIdOnTQ/fffr9jY2AvmZ2Vl6fbbb1fdunU1ZswYzZ8/X8OGDVNmZqZGjhzpseyUKVN06tQp9ejRQ8HBwSpRooQWLlyoli1bqlKlSho+fLh+//13jR8/XvXr19e6devcXxZt2LBBzZs3V+nSpTV8+HBlZmZq2LBhfzq+C9m3b59uvvlmHT16VD169FCVKlX0yy+/aNasWTp58qRuueUWPfLII3r11Vf1xBNPqGrVqpLk/u8f/f7772rcuLF27NihPn36qGLFipo5c6Y6d+6so0eP6tFHH/VYfsaMGTp27JgeeughuVwujRkzRnfffbd27tx53r+/SpUqqX79+po+fbr69+/vMW/69OmKiIjQnXfeKUlKTU1V3bp15XK51KdPH5UuXVrz5s1Tt27dlJ6ern79+kmS0tPT9dZbb6ljx4568MEHdezYMb399ttq0aKFvvnmG9WsWdMjJ6/XEQCuSAYAuGwNGzbMJNmhQ4fynF+tWjVr1KiR+/7ixYtNklWtWtUyMjLc01955RWTZBs2bHBPS0lJsQoVKrjvf/rppybJxowZ456WmZlpDRs2NEk2ZcoU9/RGjRp55J5vnf/7v/9rkmz69Okey82fPz/P6X90yy23WEREhP30008e07Ozs93/PnnyZK7HrVixwiTZu+++6542ZcoUk2QNGjSwzMzMC+aa/d9zWb16dTt9+rR7eseOHc3lclnLli09lk9KSvKoff369SbJunfv7rHcY489ZpLsyy+/NDOzgwcPWlBQkCUnJ3vU9cQTT5gkS0lJcU97+umnLSwszH744QePdQ4ePNj8/f1tz5497mmSbNiwYe77UVFR1rt37z+t+49y3oN33HGHx/RevXqZJPvuu+/MzGz37t3m7+9vzz77rMdyGzZssICAAI/pjRo1Mkk2efLkixpDSkqKSbK+ffu6p2VnZ1tycrIFBQW5/z527dplkiwyMtIOHjzosY6aNWtaTEyMHT582D3tu+++Mz8/P+vUqZN7Wps2bSwkJMTjPbd582bz9/e3czebcrLO/bvI8cfnvlOnTubn52erV6/OtWzOaz5z5kyTZIsXL861zB//3saNG2eS7L333nNPO336tCUlJVl4eLilp6d7jLFkyZJ25MgR97L/+c9/TJLNnj07V9a5Xn/9dZNkW7Zs8cgpVaqUx/uyW7duVqZMGfv11189Ht+hQweLiopy/41mZmZ6fC6Zmf32228WGxtrXbt2dU+70OsIAFciDi8HgEKoS5cuHr8BbdiwoaSzh4yez9y5cxUQEKCePXu6p/n7+6tv376XPI6ZM2cqKipKzZo106+//uq+1apVS+Hh4bkOKz3XoUOH9NVXX6lr164qX768x7xzL91UrFgx97/PnDmjw4cP6+qrr1Z0dHSeh04/+OCD8vf3v+gaOnXq5LE3sE6dOjIzde3a1WO5OnXqaO/evcrMzJR09vmUpAEDBngs989//lOS9Nlnn0mSFi5cqNOnT6tv374edeXsHTzXzJkz1bBhQxUvXtzj+WzatKmysrL01VdfnbeO6OhorVq1Svv27bvo2s/Vu3dvj/s574ucOj/++GNlZ2erffv2HmOLi4vTNddck+u1Dg4OVpcuXfI1hj59+rj/nbNX9fTp01q4cKHHcm3btlXp0qXd9/fv36/169erc+fOHntLr7/+ejVr1sxdQ1ZWlhYsWKA2bdp4vOeqVq2qFi1a5GusObKzs/Xpp5+qdevWql27dq75l3IZsrlz5youLk4dO3Z0TwsMDNQjjzyi48ePa+nSpR7L33PPPSpevLj7/sV8Hkhnj24ICQnR9OnT3dMWLFigX3/9Vffff7+ks0fIfPTRR2rdurXMzOO1b9GihdLS0tx/h/7+/u7PpezsbB05ckSZmZmqXbt2nn+rf3wdAeBKxeHlAHCFy2uj/Y9Nas4G94V+R/3TTz+pTJkyCg8P95h+3XXXXfLYtm/frrS0NMXExOQ5/+DBg+d9bE5DUL169Qtm/P777xo1apSmTJmiX375xeM3vmlpabmWr1ix4sUM3e2Pz2VUVJQkKT4+Ptf07OxspaWlqWTJkvrpp5/k5+enq6++2mO5uLg4RUdH66effpIk93+vueYaj+VKly7t0ShJZ5/P77///ryNyIWezzFjxiglJUXx8fGqVauWWrVqpU6dOqlSpUrnfcy5/ji+ypUry8/Pz/3b+e3bt8vMci2X44+HMV911VX5OjmYn59frrFee+21kpTr9/t/fI1znuO83stVq1bVggULdOLECR07dky///57njVcd9117uY8Pw4dOqT09PQ/fR/nx08//aRrrrlGfn6e+05yDkfPqTfHpXweSGe/qGndurVmzJihp59+WtLZQ8uvuuoqNWnSRNLZ+o4ePao33nhDb7zxRp7rOfd9OW3aNL300kvaunWrzpw5456e199lfv9WAeByRdMNAJexkJAQSWcby7ycPHnSvcy5zrcn99yG9K9wuVx5risrK8vjfnZ2tmJiYjz2lJ3LG3ux+vbtqylTpqhfv35KSkpSVFSUXC6XOnTokOfJxc7dM34xzvdcXuxzfCl7Ms8nOztbzZo106BBg/Kcn9OE5qV9+/Zq2LChPvnkE33++ed64YUX9Pzzz+vjjz9Wy5Yt8z2WP9aVnZ0tl8ulefPm5fnc/PHLnPy+Dvnh5LpznO91/ePfwOXgr3wedOrUSTNnztTy5ctVo0YN/fe//1WvXr3cDX/O39j9999/3vM/XH/99ZLOnmSvc+fOatOmjQYOHKiYmBj5+/tr1KhR+vHHH3M9riBeRwAoCDTdAHAZq1ChgiRp27Ztufasnjx5Unv37lXz5s29lrVo0SIdP37co0Hatm1brmWLFy+e56Gpf9zDVrlyZS1cuFD169fP9wZ0zl7NjRs3XnC5WbNmKSUlRS+99JJ72qlTp3T06NF85XlbhQoVlJ2dre3bt3ucECs1NVVHjx51v7Y5/92+fbvHntxDhw7l2hNZuXJlHT9+XE2bNr2kMZUpU0a9evVSr169dPDgQd1000169tlnL6rp3r59u8eexx07dig7O9t9ArLKlSvLzFSxYsULNv+XKjs7Wzt37vRY9w8//CBJuc6Y/0fn/h390datW1WqVCmFhYUpJCRExYoV0/bt23Mt98fH5uwt/uP77I9/A6VLl1ZkZOSfvo/z8+VMhQoV9P333ys7O9tjb/fWrVvd873l9ttvV+nSpTV9+nTVqVNHJ0+e1AMPPOCeX7p0aUVERCgrK+tP35ezZs1SpUqV9PHHH3vUO2zYMK+NFwAuR/ymGwAuY7fddpuCgoI0adKkXHtt33jjDWVmZl7SXsq8tGrVSpmZmZo0aZJ7WlZWlsaPH59r2cqVK2vr1q06dOiQe9p3332nr7/+2mO59u3bKysry31o6rkyMzMv2BiXLl1at9xyi9555x3t2bPHY965e+j8/f1z7bEbP368z/c4tmrVSpJynVH85ZdfliQlJydLkpo2barAwECNHz/eo468zkTevn17rVixQgsWLMg17+jRo+7fk/9RVlZWrkPtY2JiVLZs2VyXLzufCRMmeNzPeV/kvP/uvvtu+fv7a8SIEbleDzPT4cOHLyrnQl577TWPdb722msKDAzUbbfddsHHlSlTRjVr1tS0adM83nMbN27U559/7n6t/P391aJFC3366ace77ktW7bkes4jIyNVqlSpXL+jnzhxosd9Pz8/tWnTRrNnz9aaNWtyjS3nuQoLC5OUu4nPS6tWrXTgwAF9+OGH7mmZmZkaP368wsPD1ahRoz9dx8UKCAhQx44d9e9//1tTp05VjRo13HuupbPPWdu2bfXRRx/l+cXCuZ8ROXvcz31/rFq1SitWrPDaeAHgcsSebgC4jMXExGjo0KF68skndcstt+iOO+5QaGioli9frvfff1/NmzdX69atvZLVunVr1a9fX4MHD9bu3buVmJiojz/+OM/fRXft2lUvv/yyWrRooW7duungwYOaPHmyqlWrpvT0dPdyjRo10kMPPaRRo0Zp/fr1at68uQIDA7V9+3bNnDlTr7zyitq1a3feMb366qtq0KCBbrrpJvXo0UMVK1bU7t279dlnn2n9+vWSpL///e/6n//5H0VFRSkxMVErVqzQwoULVbJkSa88L5fqhhtuUEpKit544w0dPXpUjRo10jfffKNp06apTZs2uvXWWyWd/XLhscce06hRo/T3v/9drVq10rfffqt58+apVKlSHuscOHCg/vvf/+rvf/+7OnfurFq1aunEiRPasGGDZs2apd27d+d6jHT2Gt3lypVTu3btdMMNNyg8PFwLFy7U6tWrPY4QuJBdu3bpjjvu0O23364VK1bovffe07333qsbbrhB0tkvYp555hkNGTJEu3fvVps2bRQREaFdu3bpk08+UY8ePfTYY49d8vMZEhKi+fPnKyUlRXXq1NG8efP02Wef6Yknnrionym88MILatmypZKSktStWzf3JcOioqI8rqk9YsQIzZ8/Xw0bNlSvXr3czWy1atX0/fffe6yze/fuGj16tLp3767atWvrq6++cu99P9dzzz2nzz//XI0aNVKPHj1UtWpV7d+/XzNnztSyZcsUHR2tmjVryt/fX88//7zS0tIUHBysJk2a5Hk+hB49euj1119X586dtXbtWiUkJGjWrFn6+uuvNW7cOEVEROT/Cb6ATp066dVXX9XixYv1/PPP55o/evRoLV68WHXq1NGDDz6oxMREHTlyROvWrdPChQt15MgRSWf/Vj/++GPdddddSk5O1q5duzR58mQlJibq+PHjXh0zAFxWCvp06QCA/Hvvvfesbt26FhYWZsHBwValShUbMWKEnTp1ymO5nMtczZw502N6Xpc3+uPlvczMDh8+bA888IBFRkZaVFSUPfDAA/btt9/meWmk9957zypVqmRBQUFWs2ZNW7BgQZ7rNDN74403rFatWlasWDGLiIiwGjVq2KBBg2zfvn1/WvvGjRvtrrvusujoaAsJCbHrrrvOnnrqKff83377zbp06WKlSpWy8PBwa9GihW3dutUqVKjgcVmjnEuG5XXZpryc77k833ryurzbmTNnbMSIEVaxYkULDAy0+Ph4GzJkSK7XLSsry0aMGGFlypSxYsWKWePGjW3jxo25ajAzO3bsmA0ZMsSuvvpqCwoKslKlSlm9evXsxRdf9Li0mc65bFVGRoYNHDjQbrjhBouIiLCwsDC74YYbbOLEiX/6POTUtXnzZmvXrp1FRERY8eLFrU+fPvb777/nWv6jjz6yBg0aWFhYmIWFhVmVKlWsd+/etm3bNvcyjRo1smrVqv1pdo6UlBQLCwuzH3/80Zo3b26hoaEWGxtrw4YNs6ysLPdyOe/zF154Ic/1LFy40OrXr2/FihWzyMhIa926tW3evDnXckuXLrVatWpZUFCQVapUySZPnux+Hs518uRJ69atm0VFRVlERIS1b9/eDh48mOuSYWZmP/30k3Xq1MlKly5twcHBVqlSJevdu7fHJbTefPNNq1SpkvvyZDmXD8vrEn2pqanu931QUJDVqFEj19/ohZ6PvMZ4IdWqVTM/Pz/7+eef85yfmppqvXv3tvj4eAsMDLS4uDi77bbb7I033nAvk52dbc8995xVqFDBgoOD7cYbb7Q5c+bk+tz4s9cRAK40LjMvnVUHAFAo7d69WxUrVtSUKVPUuXNnXw8HBWz48OEaMWKEDh06lOde9ILQuXNnzZo1i72hPnTjjTeqRIkSWrRoka+HAgBXHH7TDQAAgPNas2aN1q9fr06dOvl6KABwReI33QAAAMhl48aNWrt2rV566SWVKVNG99xzj6+HBABXJPZ0AwAAIJdZs2apS5cuOnPmjN5//32FhIT4ekgAcEXiN90AAAAAADiEPd0AAAAAADiEphsAAAAAAIdwIjVJ2dnZ2rdvnyIiIuRyuXw9HAAAAADAZc7MdOzYMZUtW1Z+fuffn03TLWnfvn2Kj4/39TAAAAAAAFeYvXv3qly5cuedT9MtKSIiQtLZJysyMtLHowEAAAAAXO7S09MVHx/v7ifPh6Zbch9SHhkZSdMNAAAAALhof/YTZU6kBgAAAACAQ2i6AQAAAABwCE03AAAAAAAOoekGAAAAAMAhNN0AAAAAADiEphsAAAAAAIfQdAMAAAAA4BCabgAAAAAAHELTDQAAAACAQ2i6AQAAAABwCE03AAAAAAAOCfD1AAAAAAAABSNh8GeX/Njdo5O9OJKigz3dAAAAAAA4hKYbAAAAAACH0HQDAAAAAOAQmm4AAAAAABxC0w0AAAAAgENougEAAAAAcAhNNwAAAAAADqHpBgAAAADAITTdAAAAAAA4hKYbAAAAAACH+LTpHj58uFwul8etSpUq7vmnTp1S7969VbJkSYWHh6tt27ZKTU31WMeePXuUnJys0NBQxcTEaODAgcrMzCzoUgAAAAAAyCXA1wOoVq2aFi5c6L4fEPB/Q+rfv78+++wzzZw5U1FRUerTp4/uvvtuff3115KkrKwsJScnKy4uTsuXL9f+/fvVqVMnBQYG6rnnnivwWgAAAAAAOJfPm+6AgADFxcXlmp6Wlqa3335bM2bMUJMmTSRJU6ZMUdWqVbVy5UrVrVtXn3/+uTZv3qyFCxcqNjZWNWvW1NNPP63HH39cw4cPV1BQUEGXAwAAAACAm89/0719+3aVLVtWlSpV0n333ac9e/ZIktauXaszZ86oadOm7mWrVKmi8uXLa8WKFZKkFStWqEaNGoqNjXUv06JFC6Wnp2vTpk3nzczIyFB6errHDQAAAAAAb/Np012nTh1NnTpV8+fP16RJk7Rr1y41bNhQx44d04EDBxQUFKTo6GiPx8TGxurAgQOSpAMHDng03Dnzc+adz6hRoxQVFeW+xcfHe7cwAAAAAADk48PLW7Zs6f739ddfrzp16qhChQr697//rWLFijmWO2TIEA0YMMB9Pz09ncYbAAAAAOB1Pj+8/FzR0dG69tprtWPHDsXFxen06dM6evSoxzKpqanu34DHxcXlOpt5zv28fieeIzg4WJGRkR43AAAAAAC87bJquo8fP64ff/xRZcqUUa1atRQYGKhFixa552/btk179uxRUlKSJCkpKUkbNmzQwYMH3ct88cUXioyMVGJiYoGPHwAAAACAc/n08PLHHntMrVu3VoUKFbRv3z4NGzZM/v7+6tixo6KiotStWzcNGDBAJUqUUGRkpPr27aukpCTVrVtXktS8eXMlJibqgQce0JgxY3TgwAE9+eST6t27t4KDg31ZGgAAAAAAvm26f/75Z3Xs2FGHDx9W6dKl1aBBA61cuVKlS5eWJI0dO1Z+fn5q27atMjIy1KJFC02cONH9eH9/f82ZM0c9e/ZUUlKSwsLClJKSopEjR/qqJAAAAAAA3FxmZr4ehK+lp6crKipKaWlp/L4bAAAAQKGVMPizS37s7tHJXhzJle9i+8jL6jfdAAAAAAAUJjTdAAAAAAA4hKYbAAAAAACH0HQDAAAAAOAQmm4AAAAAABxC0w0AAAAAgENougEAAAAAcAhNNwAAAAAADqHpBgAAAADAITTdAAAAAAA4hKYbAAAAAACH0HQDAAAAAOAQmm4AAAAAABxC0w0AAAAAgEMCfD0AAAAAAEDhlzD4s0t+7O7RyV4cScFiTzcAAAAAAA6h6QYAAAAAwCE03QAAAAAAOISmGwAAAAAAh9B0AwAAAADgEJpuAAAAAAAcQtMNAAAAAIBDaLoBAAAAAHAITTcAAAAAAA6h6QYAAAAAwCE03QAAAAAAOISmGwAAAAAAh9B0AwAAAADgEJpuAAAAAAAcQtMNAAAAAIBDaLoBAAAAAHAITTcAAAAAAA6h6QYAAAAAwCE03QAAAAAAOISmGwAAAAAAh9B0AwAAAADgEJpuAAAAAAAcQtMNAAAAAIBDaLoBAAAAAHDIZdN0jx49Wi6XS/369XNPO3XqlHr37q2SJUsqPDxcbdu2VWpqqsfj9uzZo+TkZIWGhiomJkYDBw5UZmZmAY8eAAAAAIDcLoume/Xq1Xr99dd1/fXXe0zv37+/Zs+erZkzZ2rp0qXat2+f7r77bvf8rKwsJScn6/Tp01q+fLmmTZumqVOnaujQoQVdAgAAAAAAuQT4egDHjx/XfffdpzfffFPPPPOMe3paWprefvttzZgxQ02aNJEkTZkyRVWrVtXKlStVt25dff7559q8ebMWLlyo2NhY1axZU08//bQef/xxDR8+XEFBQb4qCwAAAADOK2HwZ5f82N2jk704EjjN53u6e/fureTkZDVt2tRj+tq1a3XmzBmP6VWqVFH58uW1YsUKSdKKFStUo0YNxcbGupdp0aKF0tPTtWnTpoIpAAAAAACA8/Dpnu4PPvhA69at0+rVq3PNO3DggIKCghQdHe0xPTY2VgcOHHAvc27DnTM/Z975ZGRkKCMjw30/PT39UksAAAAAAOC8fLane+/evXr00Uc1ffp0hYSEFGj2qFGjFBUV5b7Fx8cXaD4AAAAAoGjwWdO9du1aHTx4UDfddJMCAgIUEBCgpUuX6tVXX1VAQIBiY2N1+vRpHT161ONxqampiouLkyTFxcXlOpt5zv2cZfIyZMgQpaWluW979+71bnEAAAAAAMiHTfdtt92mDRs2aP369e5b7dq1dd9997n/HRgYqEWLFrkfs23bNu3Zs0dJSUmSpKSkJG3YsEEHDx50L/PFF18oMjJSiYmJ580ODg5WZGSkxw0AAAAAAG/z2W+6IyIiVL16dY9pYWFhKlmypHt6t27dNGDAAJUoUUKRkZHq27evkpKSVLduXUlS8+bNlZiYqAceeEBjxozRgQMH9OSTT6p3794KDg4u8JoAAAAAAJcXX58p3ueXDLuQsWPHys/PT23btlVGRoZatGihiRMnuuf7+/trzpw56tmzp5KSkhQWFqaUlBSNHDnSh6MGAAAAAOCsy6rpXrJkicf9kJAQTZgwQRMmTDjvYypUqKC5c+c6PDIAAAAAAPLP59fpBgAAAACgsKLpBgAAAADAITTdAAAAAAA4hKYbAAAAAACH0HQDAAAAAOAQmm4AAAAAABxC0w0AAAAAgENougEAAAAAcAhNNwAAAAAADqHpBgAAAADAITTdAAAAAAA4hKYbAAAAAACH0HQDAAAAAOAQmm4AAAAAAByS76a7UqVKOnz4cK7pR48eVaVKlbwyKAAAAAAACoN8N927d+9WVlZWrukZGRn65ZdfvDIoAAAAAAAKg4CLXfC///2v+98LFixQVFSU+35WVpYWLVqkhIQErw4OAAAAAIAr2UU33W3atJEkuVwupaSkeMwLDAxUQkKCXnrpJa8ODgAAAACAK9lFN93Z2dmSpIoVK2r16tUqVaqUY4MCAAAAAKAwuOimO8euXbucGAcAAAAAAIVOvptuSVq0aJEWLVqkgwcPuveA53jnnXe8MjAAAAAAAK50+W66R4wYoZEjR6p27doqU6aMXC6XE+MCAAAAAOCKl++me/LkyZo6daoeeOABJ8YDAAAAAEChke/rdJ8+fVr16tVzYiwAAAAAABQq+d7T3b17d82YMUNPPfWUE+MBAAAAgAKRMPizS37s7tHJXhwJCrN8N92nTp3SG2+8oYULF+r6669XYGCgx/yXX37Za4MDAAAAAOBKlu+m+/vvv1fNmjUlSRs3bvSYx0nVAAAAAAD4P/luuhcvXuzEOAAAAAAAKHTyfSI1AAAAAABwcfK9p/vWW2+94GHkX3755V8aEAAAAAAAhUW+m+6c33PnOHPmjNavX6+NGzcqJSXFW+MCAAAAAOCKl++me+zYsXlOHz58uI4fP/6XBwQAAAAAQGHhtd9033///XrnnXe8tToAAAAAAK54+d7TfT4rVqxQSEiIt1YHAAAA+EzC4M/+0uN3j0720kgAXOny3XTffffdHvfNTPv379eaNWv01FNPeW1gAAAAAABc6fLddEdFRXnc9/Pz03XXXaeRI0eqefPmXhsYAAAAAABXunw33VOmTHFiHAAAAAAAFDqX/JvutWvXasuWLZKkatWq6cYbb/TaoAAAAAAAKAzy3XQfPHhQHTp00JIlSxQdHS1JOnr0qG699VZ98MEHKl26tLfHCAAAAADAFSnflwzr27evjh07pk2bNunIkSM6cuSINm7cqPT0dD3yyCNOjBEAAAAAgCtSvpvu+fPna+LEiapatap7WmJioiZMmKB58+bla12TJk3S9ddfr8jISEVGRiopKcljHadOnVLv3r1VsmRJhYeHq23btkpNTfVYx549e5ScnKzQ0FDFxMRo4MCByszMzG9ZAAAAAAB4Xb6b7uzsbAUGBuaaHhgYqOzs7Hytq1y5cho9erTWrl2rNWvWqEmTJrrzzju1adMmSVL//v01e/ZszZw5U0uXLtW+ffs8LlmWlZWl5ORknT59WsuXL9e0adM0depUDR06NL9lAQAAAADgdfn+TXeTJk306KOP6v3331fZsmUlSb/88ov69++v2267LV/rat26tcf9Z599VpMmTdLKlStVrlw5vf3225oxY4aaNGki6eyZ06tWraqVK1eqbt26+vzzz7V582YtXLhQsbGxqlmzpp5++mk9/vjjGj58uIKCgvJbHgAAAC4jCYM/u+TH7h6d7MWRAMClyfee7tdee03p6elKSEhQ5cqVVblyZVWsWFHp6ekaP378JQ8kKytLH3zwgU6cOKGkpCStXbtWZ86cUdOmTd3LVKlSReXLl9eKFSskSStWrFCNGjUUGxvrXqZFixZKT0937y0HAAAAAMBX8r2nOz4+XuvWrdPChQu1detWSVLVqlU9muP82LBhg5KSknTq1CmFh4frk08+UWJiotavX6+goCD3GdJzxMbG6sCBA5KkAwcOeDTcOfNz5p1PRkaGMjIy3PfT09MvaewAAAAAAFzIJV2n2+VyqVmzZmrWrNlfHsB1112n9evXKy0tTbNmzVJKSoqWLl36l9d7IaNGjdKIESMczQAAAAAAIN+Hlz/yyCN69dVXc01/7bXX1K9fv3wPICgoSFdffbVq1aqlUaNG6YYbbtArr7yiuLg4nT59WkePHvVYPjU1VXFxcZKkuLi4XGczz7mfs0xehgwZorS0NPdt7969+R43AAAAAAB/Jt9N90cffaT69evnml6vXj3NmjXrLw8oOztbGRkZqlWrlgIDA7Vo0SL3vG3btmnPnj1KSkqSJCUlJWnDhg06ePCge5kvvvhCkZGRSkxMPG9GcHCw+zJlOTcAAAAAALwt34eXHz58WFFRUbmmR0ZG6tdff83XuoYMGaKWLVuqfPnyOnbsmGbMmKElS5ZowYIFioqKUrdu3TRgwACVKFFCkZGR6tu3r5KSklS3bl1JUvPmzZWYmKgHHnhAY8aM0YEDB/Tkk0+qd+/eCg4Ozm9pAAAAAAB4Vb6b7quvvlrz589Xnz59PKbPmzdPlSpVyte6Dh48qE6dOmn//v2KiorS9ddfrwULFrh/Kz527Fj5+fmpbdu2ysjIUIsWLTRx4kT34/39/TVnzhz17NlTSUlJCgsLU0pKikaOHJnfsgAAAAAA8Lp8N90DBgxQnz59dOjQIff1sxctWqSXXnpJ48aNy9e63n777QvODwkJ0YQJEzRhwoTzLlOhQgXNnTs3X7kAAAAAABSEfDfdXbt2VUZGhp599lk9/fTTkqSEhARNmjRJnTp18voAAQAAgKIkYfBnl/zY3aOTvTgSAN5wSZcM69mzp3r27KlDhw6pWLFiCg8P9/a4AAAAAAC44l1S052jdOnS3hoHAAAAAACFzl9qugEAAFD4/ZXDnSUOeQZQtOX7Ot0AAAAAAODi0HQDAAAAAOAQmm4AAAAAABxyUb/pfvXVVy96hY888sglDwYAAAAAgMLkoprusWPHXtTKXC4XTTcAAAAAAP/fRTXdu3btcnocAAAAAAAUOpd8ybDTp09r165dqly5sgICuPIYAAAAgEvzVy5LxyXpcLnL94nUTp48qW7duik0NFTVqlXTnj17JEl9+/bV6NGjvT5AAAAAAACuVPluuocMGaLvvvtOS5YsUUhIiHt606ZN9eGHH3p1cAAAAAAAXMnyfVz4p59+qg8//FB169aVy+VyT69WrZp+/PFHrw4OAAAAAIArWb73dB86dEgxMTG5pp84ccKjCQcAAAAAoKjLd9Ndu3ZtffbZ/53oIKfRfuutt5SUlOS9kQEAAAAAcIXL9+Hlzz33nFq2bKnNmzcrMzNTr7zyijZv3qzly5dr6dKlTowRAAAAAIArUr73dDdo0EDr169XZmamatSooc8//1wxMTFasWKFatWq5cQYAQAAAAC4Il3SBbYrV66sN99809tjAQAAAACgULmopjs9Pf2iVxgZGXnJgwEAAFeWhMGf/flCF7B7dLKXRgIAwOXpopru6Ojoiz4zeVZW1l8aEAAAAPL2V77k4AsOAPCNi2q6Fy9e7P737t27NXjwYHXu3Nl9tvIVK1Zo2rRpGjVqlDOjBAAA+ANfNaDs3QcA5MdFNd2NGjVy/3vkyJF6+eWX1bFjR/e0O+64QzVq1NAbb7yhlJQU748SAAAAgKP4QglwRr5PpLZixQpNnjw51/TatWure/fuXhkUAADIHw47BgDg8pTvS4bFx8fneebyt956S/Hx8V4ZFAAAAAAAhUG+93SPHTtWbdu21bx581SnTh1J0jfffKPt27fro48+8voAAQC4UnBoJgAA+KN87+lu1aqVtm/frtatW+vIkSM6cuSIWrdurR9++EGtWrVyYowAAAAAAFyR8r2nW5LKlSun5557zttjAQAAAACgULmkpvvo0aN6++23tWXLFklStWrV1LVrV0VFRXl1cAAAAAAAXMnyfXj5mjVrVLlyZY0dO9Z9ePnLL7+sypUra926dU6MEQAAAACAK1K+93T3799fd9xxh958800FBJx9eGZmprp3765+/frpq6++8vogAQAAAAC4EuW76V6zZo1Hwy1JAQEBGjRokGrXru3VwQEAAAAAcCXL9+HlkZGR2rNnT67pe/fuVUREhFcGBQAAAABAYZDvpvuee+5Rt27d9OGHH2rv3r3au3evPvjgA3Xv3l0dO3Z0YowAAAAAAFyR8n14+YsvviiXy6VOnTopMzNTkhQYGKiePXtq9OjRXh8gAAAAAABXqnw33UFBQXrllVc0atQo/fjjj5KkypUrKzQ01OuDAwAAAADgSnZJ1+mWpNDQUNWoUcObYwEAAAAAoFC56Ka7a9euF7XcO++8c8mDAQDAGxIGf3bJj909OtmLIwEAAEXdRTfdU6dOVYUKFXTjjTfKzJwcEwAAAAAAhcJFN909e/bU+++/r127dqlLly66//77VaJECSfHBgAAAADAFe2iLxk2YcIE7d+/X4MGDdLs2bMVHx+v9u3ba8GCBZe853vUqFH629/+poiICMXExKhNmzbatm2bxzKnTp1S7969VbJkSYWHh6tt27ZKTU31WGbPnj1KTk5WaGioYmJiNHDgQPeZ1QEAAAAA8JV8Xac7ODhYHTt21BdffKHNmzerWrVq6tWrlxISEnT8+PF8hy9dulS9e/fWypUr9cUXX+jMmTNq3ry5Tpw44V6mf//+mj17tmbOnKmlS5dq3759uvvuu93zs7KylJycrNOnT2v58uWaNm2apk6dqqFDh+Z7PAAAAAAAeNMln73cz89PLpdLZqasrKxLWsf8+fM97k+dOlUxMTFau3atbrnlFqWlpentt9/WjBkz1KRJE0nSlClTVLVqVa1cuVJ169bV559/rs2bN2vhwoWKjY1VzZo19fTTT+vxxx/X8OHDFRQUdKklAgAAAADwl+RrT3dGRobef/99NWvWTNdee602bNig1157TXv27FF4ePhfHkxaWpokuX8rvnbtWp05c0ZNmzZ1L1OlShWVL19eK1askCStWLFCNWrUUGxsrHuZFi1aKD09XZs2bfrLYwIAAAAA4FJd9J7uXr166YMPPlB8fLy6du2q999/X6VKlfLaQLKzs9WvXz/Vr19f1atXlyQdOHBAQUFBio6O9lg2NjZWBw4ccC9zbsOdMz9nXl4yMjKUkZHhvp+enu6tMgAAAAAAcLvopnvy5MkqX768KlWqpKVLl2rp0qV5Lvfxxx9f0kB69+6tjRs3atmyZZf0+PwYNWqURowY4XgOAAAAAKBou+imu1OnTnK5XI4Mok+fPpozZ46++uorlStXzj09Li5Op0+f1tGjRz32dqempiouLs69zDfffOOxvpyzm+cs80dDhgzRgAED3PfT09MVHx/vrXIAAAAAAJCUj6Z76tSpXg83M/Xt21effPKJlixZoooVK3rMr1WrlgIDA7Vo0SK1bdtWkrRt2zbt2bNHSUlJkqSkpCQ9++yzOnjwoGJiYiRJX3zxhSIjI5WYmJhnbnBwsIKDg71eDwAAAAAA57rks5d7Q+/evTVjxgz95z//UUREhPs32FFRUSpWrJiioqLUrVs3DRgwQCVKlFBkZKT69u2rpKQk1a1bV5LUvHlzJSYm6oEHHtCYMWN04MABPfnkk+rduzeNNQAAAADAp3zadE+aNEmS1LhxY4/pU6ZMUefOnSVJY8eOlZ+fn9q2bauMjAy1aNFCEydOdC/r7++vOXPmqGfPnkpKSlJYWJhSUlI0cuTIgioDAAAAAIA8+bTpNrM/XSYkJEQTJkzQhAkTzrtMhQoVNHfuXG8ODQAAAACAvyxf1+kGAAAAAAAXj6YbAAAAAACH0HQDAAAAAOAQmm4AAAAAABxC0w0AAAAAgENougEAAAAAcAhNNwAAAAAADqHpBgAAAADAITTdAAAAAAA4hKYbAAAAAACH0HQDAAAAAOAQmm4AAAAAABxC0w0AAAAAgENougEAAAAAcAhNNwAAAAAADqHpBgAAAADAITTdAAAAAAA4hKYbAAAAAACH0HQDAAAAAOCQAF8PAACKioTBn13yY3ePTvbiSAAAAFBQ2NMNAAAAAIBDaLoBAAAAAHAIh5cDABzDIfUAAKCoY083AAAAAAAOoekGAAAAAMAhNN0AAAAAADiEphsAAAAAAIfQdAMAAAAA4BCabgAAAAAAHELTDQAAAACAQ7hONwAUclwrGwAAwHfY0w0AAAAAgENougEAAAAAcAhNNwAAAAAADqHpBgAAAADAITTdAAAAAAA4hKYbAAAAAACH0HQDAAAAAOAQmm4AAAAAABxC0w0AAAAAgEN82nR/9dVXat26tcqWLSuXy6VPP/3UY76ZaejQoSpTpoyKFSumpk2bavv27R7LHDlyRPfdd58iIyMVHR2tbt266fjx4wVYBQAAAAAAefNp033ixAndcMMNmjBhQp7zx4wZo1dffVWTJ0/WqlWrFBYWphYtWujUqVPuZe677z5t2rRJX3zxhebMmaOvvvpKPXr0KKgSAAAAAAA4rwBfhrds2VItW7bMc56Zady4cXryySd15513SpLeffddxcbG6tNPP1WHDh20ZcsWzZ8/X6tXr1bt2rUlSePHj1erVq304osvqmzZsgVWCwAAAAAAf3TZ/qZ7165dOnDggJo2beqeFhUVpTp16mjFihWSpBUrVig6OtrdcEtS06ZN5efnp1WrVp133RkZGUpPT/e4AQAAAADgbZdt033gwAFJUmxsrMf02NhY97wDBw4oJibGY35AQIBKlCjhXiYvo0aNUlRUlPsWHx/v5dEDAAAAAHAZN91OGjJkiNLS0ty3vXv3+npIAAAAAIBC6LJtuuPi4iRJqampHtNTU1Pd8+Li4nTw4EGP+ZmZmTpy5Ih7mbwEBwcrMjLS4wYAAAAAgLddtk13xYoVFRcXp0WLFrmnpaena9WqVUpKSpIkJSUl6ejRo1q7dq17mS+//FLZ2dmqU6dOgY8ZAAAAAIBz+fTs5cePH9eOHTvc93ft2qX169erRIkSKl++vPr166dnnnlG11xzjSpWrKinnnpKZcuWVZs2bSRJVatW1e23364HH3xQkydP1pkzZ9SnTx916NCBM5cDAAAAAHzOp033mjVrdOutt7rvDxgwQJKUkpKiqVOnatCgQTpx4oR69Oiho0ePqkGDBpo/f75CQkLcj5k+fbr69Omj2267TX5+fmrbtq1effXVAq8FAAAAAIA/8mnT3bhxY5nZeee7XC6NHDlSI0eOPO8yJUqU0IwZM5wYHoBCKGHwZ5f82N2jk704EgAAABQFl+1vugEAAAAAuNLRdAMAAAAA4BCfHl4OwLc41BoAAABwFnu6AQAAAABwCE03AAAAAAAO4fByAD7Boe0AAAAoCtjTDQAAAACAQ2i6AQAAAABwCIeXA5cBDrUGAAAACif2dAMAAAAA4BCabgAAAAAAHELTDQAAAACAQ2i6AQAAAABwCE03AAAAAAAO4ezlwP/HGcQBAAAAeBt7ugEAAAAAcAhNNwAAAAAADqHpBgAAAADAITTdAAAAAAA4hKYbAAAAAACH0HQDAAAAAOAQLhmGyw6X7gIAAABQWLCnGwAAAAAAh7CnG3libzMAAAAA/HXs6QYAAAAAwCE03QAAAAAAOITDyy9zHOYNAAAAAFcu9nQDAAAAAOAQmm4AAAAAABxC0w0AAAAAgENougEAAAAAcAhNNwAAAAAADqHpBgAAAADAITTdAAAAAAA4hKYbAAAAAACHBPh6AFeChMGf/aXH7x6d7KWRAAAAAACuJOzpBgAAAADAITTdAAAAAAA4hKYbAAAAAACH0HQDAAAAAOCQQtN0T5gwQQkJCQoJCVGdOnX0zTff+HpIAAAAAIAirlA03R9++KEGDBigYcOGad26dbrhhhvUokULHTx40NdDAwAAAAAUYYWi6X755Zf14IMPqkuXLkpMTNTkyZMVGhqqd955x9dDAwAAAAAUYVf8dbpPnz6ttWvXasiQIe5pfn5+atq0qVasWJHnYzIyMpSRkeG+n5aWJklKT0/Pc/nsjJN/aYznW+/F+CvZV2KuL7OpueByfZlNzQWX68vsKzHXl9nUXHC5vsym5oLL9WU2NV8Zub7Mpmbv5ebMM7MLrsNlf7bEZW7fvn266qqrtHz5ciUlJbmnDxo0SEuXLtWqVatyPWb48OEaMWJEQQ4TAAAAAFAI7d27V+XKlTvv/Ct+T/elGDJkiAYMGOC+n52drSNHjqhkyZJyuVz5Wld6erri4+O1d+9eRUZGenuol12uL7OpmZoLazY1U3NhzaZmai6Mub7MpmZqLqzZV2rNZqZjx46pbNmyF1zuim+6S5UqJX9/f6WmpnpMT01NVVxcXJ6PCQ4OVnBwsMe06OjovzSOyMjIAn+D+DLXl9nUXDSyqbloZFNz0cim5qKRXdRyfZlNzUUjm5qvjOyoqKg/XeaKP5FaUFCQatWqpUWLFrmnZWdna9GiRR6HmwMAAAAAUNCu+D3dkjRgwAClpKSodu3auvnmmzVu3DidOHFCXbp08fXQAAAAAABFWKFouu+55x4dOnRIQ4cO1YEDB1SzZk3Nnz9fsbGxjmcHBwdr2LBhuQ5XL6y5vsym5oJFzYU/15fZ1FywqLnw5/oyu6jl+jKbmgsWNRf+3ILKvuLPXg4AAAAAwOXqiv9NNwAAAAAAlyuabgAAAAAAHELTDQAAAACAQ2i6AQAAAABwCE03AAAAAAAOoekG/kRGRoYyMjJ8PQwUkCVLluj333/39TAKTEZGhn788cci9x5PTU3VgQMHCiQrKytLqampOnToUIHknSstLU3btm3Ttm3blJaWVuD5RZWZKSsryyfZU6dOLTKv9fbt27Vo0SLt2LHD10Nx1B/fS998841WrlxZYJ/be/bs0apVq7R69WodPny4QDJzsA1WtBTmbTCa7r/g6NGjevPNN/XUU0/prbfecvR/cmvXrnVs3X/m4MGD+vLLL931paamasyYMRo9erQ2bNjgeP7OnTv17rvv6vnnn9cLL7ygjz76SOnp6Y5mfvHFF2rVqpWKFy+u0NBQhYaGqnjx4mrVqpUWLlzoaPb5bNmyRZUqVXJs/d99952eeeYZTZw4Ub/++qvHvPT0dHXt2tWR3LfeekspKSmaMmWKJOnDDz9U1apVValSJQ0bNsyRzAtp3ry5du/e7dj6Dx486HF//fr1SklJUf369dWuXTstWbLEseypU6dqxYoVkqRTp06pW7duCgsL07XXXqvw8HA9/PDDjmzc1KhRQ08//bT27t3r9XX/mSNHjqhdu3YqX768evbsqaysLHXv3l1lypTRVVddpXr16mn//v2OZH/22We65ZZbFBYWprJlyyouLk7R0dF64IEHtGfPHkcyc7z11ltKTExUiRIllJiY6PHvt99+29Hs8/nuu+/k7+/v2Prnzp2r7t27a9CgQdq6davHvN9++01NmjTxemZmZqaefPJJNWrUyP159cILLyg8PFyhoaFKSUnR6dOnvZ57IT169NC+ffscW/8333zj0QTOmTNHjRo10lVXXaXatWvr3XffdSR31KhRWrRokaSzr2fTpk113XXXqVmzZrruuuvUsmVLHT161JHsiIgIdevWTcuXL3dk/efz008/qXbt2goODlbLli2Vnp6uZs2aqW7duqpXr54SExP1ww8/OJY/ceJEVahQQRUrVlS9evVUt25dxcTEqEGDBo5ul16O22CSs9thvtoGky6v7TCnt8EkH26HGS7aXXfdZTNnzjQzs40bN1qpUqWsdOnSVqdOHYuNjbW4uDjbvHmzI9kul8sqV65szz77rP3yyy+OZORl8eLFFhYWZi6Xy+Li4mz9+vVWrlw5u+aaa+y6666z4OBgW7BggSPZx48ft3bt2pnL5TKXy2V+fn4WFxdn/v7+Fh4ebq+99pojuVOnTrWAgADr0KGDTZkyxebOnWtz5861KVOmWMeOHS0wMNDeffddR7IvZP369ebn5+fIuhcsWGBBQUFWrVo1K1++vJUsWdK+/PJL9/wDBw44kj127FgLCwuzu+++28qUKWPPPPOMlSxZ0p555hkbMWKERUZG2uuvv+71XDOzG2+8Mc+by+WyqlWruu97m5+fn6WmppqZ2ddff22BgYHWqFEjGzhwoDVr1swCAgJs6dKlXs81M6tYsaKtXLnSzMwee+wxS0hIsI8//ti2bNlin376qV177bU2cOBAr+e6XC4rWbKk+fv7W4sWLWzWrFl25swZr+fkpWvXrla9enUbP368NWrUyO688067/vrrbdmyZbZ8+XL729/+Zp06dfJ67rvvvmsRERH2z3/+0/71r39ZXFycDR482CZNmmSNGjWyUqVK2Q8//OD1XDOzMWPGWGhoqA0ePNgWL15smzdvts2bN9vixYttyJAhFhYWZi+88IIj2Reyfv16c7lcjqx7+vTp5u/vb8nJydagQQMLCQmx9957zz3fqc+wJ5980mJjY23AgAGWmJhoDz/8sMXHx9t7771n06ZNs6uuusqef/55r+eamRUvXjzPm8vlsqioKPd9bzv3M+y///2v+fn5WadOnWzChAnWvXt3CwgIsI8//tjrueXKlbN169aZmVn37t3txhtvtHXr1tnvv/9u69evt7p161q3bt28nmt29jOsWrVq5nK5rEqVKvbiiy/awYMHHck6V9u2ba1Ro0Y2e/Zsa9++vdWvX98aN25sP//8s+3bt89atGhhbdq0cST7hRdesLJly9r48ePtzTfftKpVq9rIkSNt3rx59sADD1hoaKitXr3a67mX6zaYmXPbYb7aBjPz3XaYr7bBzHy3HUbTnQ/Fixe3LVu2mJlZy5Yt7d5777WMjAwzMzt9+rR169bNmjdv7ki2y+WyBx980GJiYiwgIMCSk5Ptk08+sczMTEfycjRo0MB69+5tx44dsxdeeMGuuuoq6927t3v+Y489ZvXq1XMku0ePHla/fn3bsGGDbd++3dq1a2eDBg2yEydO2Ntvv22hoaE2ffp0r+dec801F2zoJ0yYYFdffbXXc/v373/B2/333+/Yh25SUpI98cQTZmaWnZ1tzz//vIWHh9u8efPMzLkP/CpVqrhfw3Xr1llAQIC99dZb7vlvvfWW1apVy+u5ZmYBAQF2++232/Dhw923YcOGmZ+fn/Xq1cs9zdtcLpf7w75Zs2bWtWtXj/mPPvqoNWnSxOu5ZmbBwcH2008/mZnZtdde6359cyxdutTKly/v9VyXy2W//PKLffLJJ9a6dWsLCAiw0qVL2z//+U/HvqjMUaZMGfv666/N7Oz72OVy2eeff+6ev2zZMrvqqqu8nlulShX74IMP3PdXr15t5cqVs+zsbDMzu+eee+yuu+7yeq6ZWfny5e3DDz887/wPPvjA4uPjvZ571113XfDWpEkTxz7Datasaa+88or7/ocffmhhYWHuzxOnPsMqVapks2fPNjOz7du3m5+fn8fr/uGHH1r16tW9nmtmFh4ebsnJyTZ16lT3bcqUKebv72/PPvuse5q3nfsZ1qBBAxs8eLDH/Geffdbq1q3r9dzg4GDbvXu3mZklJCTk2ihes2aNlSlTxuu5Zv9X8/r1661Pnz5WokQJCwoKsrvvvtvmzp3r/rv2ttKlS9u3335rZmZHjx41l8tl//u//+uev3btWouNjXUkOyEhwebOneu+v23bNitZsqT7C9NHHnnEmjVr5vVcX22DmfluO8xX22BmvtsO89U2mJnvtsNouvOhWLFitmPHDjM7uyGX841rjm3btllUVJQj2TlvkDNnztisWbOsVatW5u/vb7GxsTZo0CDbtm2bI7mRkZHums+cOWMBAQHu/wGYmf3www+O1VyqVClbs2aN+/6RI0csJCTETpw4YWZmr732mtWsWdPrucHBwbZ169bzzt+6dauFhIR4PdfPz89uuukma9y4cZ632rVrO/ahe+7rnGP69OkWFhZms2fPduwDv1ixYu4m0Ozsc79x40b3/e3bt1t0dLTXc83ONluVK1e2oUOHWlZWlnt6QECAbdq0yZFMM88P+zJlytiKFSs85uccReOEChUquL89v+qqq3Ltpdi8ebOFhYV5Pffcms3M9u3bZ88995xdc8015ufnZ0lJSfb22297PdfMLDQ01L2hbmYWGBhoGzZscN/fuXOnIzUXK1bMdu3a5TEtICDAfaTSqlWrHHtvh4SEXPDLjE2bNlmxYsW8nhsQEGAtW7a0zp0753m74447HPsMCwsLs507d3pM+/LLLy08PNwmTZrk2GdYSEiI7dmzx+N+zpfzZmffXxEREV7PNTv7+ZhzpMaxY8fc0wvyMywmJsbj/9NmZ/8f6cR7+9prr7U5c+aY2dmjdnK+TMvx7bffWmRkpNdzzXJ/hp06dcpmzJhht912m/n5+Vm5cuXsqaee8npuRESE+32dlZVlAQEBtn79evf87du3O/b+Cg0N9fgMy87OtoCAANu3b5+Znd3rGx4e7vVcX22DmfluO8xX22BmvtsO89U2mJnvtsNouvOhTp069sYbb5jZ2cMiPvnkE4/5n3/+ucXFxTmS/ccPfDOzn3/+2UaOHGmVKlUyPz8/a9iwoddzS5Uq5f7jO3HihPn5+Xm8Ob/77jvHGoTo6GiPwy9Pnz5tAQEB7kO6fvjhB0c+eG+66aYLHmI7aNAgu+mmm7yee+2119r//M//nHf+t99+69iHbunSpXNtOJmZvf/++xYaGmqTJk1yJLtkyZIezUG5cuU8GqTt27c78j/1HEePHrUOHTpYnTp13P/DK4gN1h07dlhaWppVrFgx15d3O3bssNDQUEeyn3jiCUtKSrLffvvNBg8ebK1bt3ZvrJ84ccLat2/vyNE65x7K9UeLFy+2+++/35HG18zshhtucO81mTt3rkVERNhLL73knj9p0iRH9kRWrVrV/XMks7N7pIKCgtxHJ23fvt2xmhs2bGidOnXK8xD+zMxM69Spk91yyy1ez61Ro4bHHpI/cvIzLK8NJzOzJUuWWHh4uP3rX/9yJDs2Nta+//579/169erZzz//7L6/ZcsWxxpBs7Nfhg8aNMgqV65sy5YtM7OC+QxbvHixfffdd1ahQgX75ptvPOZv3brVkc/tF154wapWrWrbt2+3l156yZKSktyf2zt37rTGjRtbu3btvJ5rduHPsF27dtmTTz7pyNEjdevWtSeffNLMzN555x2LjY31OLJg5MiRjh0NVrNmTfc2r5nZokWLLDQ01L1Xf+vWrY40/L7aBjPz3XaYr7bBzHy7HeaLbTAz322H0XTnw5w5c6xEiRI2ZcoUmzJliiUkJNhbb71lX3/9tb3zzjsWHx/vyO8hzS78gW9mtnDhQrv33nu9nnvnnXfa3//+d1u2bJn16NHDateubcnJyXb8+HE7ceKEtWvXzm6//Xav55qdPeTj3EPZX3jhBY9Dx9atW+dIw5/zO/YaNWpY//79bfTo0TZ69Gjr37+/XX/99RYeHu7Ibz3uvfde69ev33nnO/l7yGbNmp33N54zZsywwMBARz7w69ev73Eo5h/Nnj3bsUMzz/XOO+9YXFycvf766xYYGOj4Bqufn5/5+fmZy+Xy2KgxM/vPf/7j2KFzGRkZdscdd1jx4sWtWbNmFhISYqGhoXbNNddYWFiYlS9f3pGjZvL60vCP0tLSvJ5rZvbee++Zv7+/XX311RYcHGwzZ860smXLWvv27a1Dhw4WFBTkyPkhXnvtNYuKirJBgwbZ0KFDrWzZsh6/N33vvfcc+73ad999Z3FxcVayZEm766677OGHH7aHH37Y7rrrLitZsqSVKVPGY2+/t3Tu3Nl69ep13vmbN2+2hIQEr+eanf1/1dChQ/Ocl/OZ7sRn2K233nrBQ7j//e9/O9YUnWvRokVWvnx5GzJkSIF9huWcb2Xs2LEe899//31LTEx0JLtv374WGBhoVapUsZCQEPPz87OgoCDz8/Oz2rVr2/79+x3JvZjPMCcOMZ8/f76FhIRYUFCQhYSE2NKlS+3aa6+1m2++2erWrWv+/v4X/CnJX/Hhhx9aYGCgtW/f3jp16mTh4eEeDf/kyZMtKSnJ67m+2gYz8912mK+2wcwuj+2wgtwGM/PddpjLzMyZU7QVTh999JH69eunffv26dynLjg4WA8//LBefPFFR87O6ufnpwMHDigmJsbr676Q7du3Kzk5WTt27FCVKlX0xRdfqFevXpo7d64kqXjx4po/f75uuukmr2evW7dOzZo1U1BQkIKCgnTgwAFNmzZNHTp0kCRNmDBB33zzjaZNm+b17N27d2vSpElauXKl+7JCcXFxSkpK0sMPP6yEhASvZx44cEAZGRmqUKGC19f9Zz755BN99dVXGjt2bJ7zZ8yYoTfffFOLFy/2au7XX3+tsLAw1axZM8/5EydOVHZ2tvr06ePV3Lxs375d9913n9asWaONGzcqMTHRkZylS5d63C9TpoyuvfZa9/1XXnlFp0+f1sCBAx3Jl6T58+dr9uzZ2rlzp7Kzs1WmTBnVr19f9957r8LCwrye16VLF7366quKiIjw+rovxtdff62VK1cqKSlJ9erV0+bNmzV69GidPHlSrVu3VkpKiiO5kyZN0nvvvaeMjAy1aNFCTz31lEJCQiSdfb9lZWWpSpUqjmQfO3ZM7733Xp6fYffee68iIyO9npmRkaGsrCyFhoZ6fd1/ZunSpVq+fLmGDBmS5/zFixfr3XffdZ+d11t++OEHBQYGqmLFinnOnzFjhgICAtS+fXuv5ubl8OHDevDBB7V48WKtXLlS1113nSM5P/30k8f98PBwlSxZ0n0/5+zlnTp1ciR/y5YtmjNnTq7Pr6ZNm8rlcjmSOWLECA0cONAn7+3du3dr7dq1qlWrlhISEpSamqoJEybo5MmTSk5O1q233upY9rx58zw+wx588EH3vJxLh5372nuLL7bBJN9th/lqG0y6fLbDCmobTPLddhhN9yXIysrS2rVrtWvXLvcHfq1atRzdoFy6dKnq16+vgIAAxzIu5PDhwx4frIsWLdLvv/+upKQkRz5wc+zfv19z5sxRRkaGmjRp4ugfIZCdna1jx44pMjLSsY03AAAAeCrs22A03cB5ZGZmatOmTe5vWcuUKaOqVasqMDCwQHPj4uKUmJjoeK4vs6mZmp1WFGs+nzNnzmj//v0qX758geZmZmZq3759BZ7ry2xqLji+el9LRe+59nU2cEXy+gHrRcCiRYtsxIgR9vDDD1uvXr3sxRdfdOx6q5dLdlGqOSsry/71r39ZdHS0+zdrObfo6Gh78sknPc60eKXn+jKbmqmZmgueU9eavVxzfZlNzYU/15fZhbXmCRMm2G233Wb/+Mc/bOHChR7zDh06ZBUrVnQk15fZ1Fz4a6bpzofU1FS7+eabzc/PzwICAszPz89q1aplcXFx5u/v79hJ1HyZXRRrHjhwoJUuXdomT55su3btspMnT9rJkydt165d9vrrr1tMTIwNGjSo0OT6MpuaqZmaCx4NQuHP9WV2Ucv1ZXZhrPmVV16x0NBQ6927t91///0WFBRkzz33nHu+k5fP8lU2NReNmmm68+Gee+6xNm3aWFpamp06dcr69OljnTp1MrOze2NLlixp48aNK1TZRbHm2NhYmz9//nnnz58/32JiYgpNri+zqbngcn2ZTc0Fl2t29pKWF7pVqVLFkQ0KX+X6MpuaC3+uL7OLYs2JiYk2ffp09/2vv/7aSpcu7b4OupPNmK+yqblo1Oybs3JdoebNm6fly5e7z/o6evRoFS9eXOPHj1eTJk00btw4PfPMM3r00UcLTXZRrPnYsWMqW7bseeeXKVNGJ06c8GqmL3N9mU3NBZfry2xqLrhcSdq8ebM6dOhw3jNq79+/Xz/88EOhyfVlNjUX/lxfZhfFmnft2qV69eq579erV09ffvmlmjZtqjNnzqhfv35ez/R1NjUXjZrZ050PpUuX9rh23MmTJ83Pz88OHz5sZmY//vijBQcHF6rsolhzq1atrHnz5nbo0KFc8w4dOmS33367JScnF5pcX2ZTc8Hl+jKbmgsu18ysVq1aNnHixPPO//bbbx35Ft9Xub7MpubCn+vL7KJYc3x8vH311Ve5pm/atMliY2OtU6dOjtXsq2xqLrhcX2azpzsfGjRooKFDh2ratGkKCgrSE088oUqVKqlEiRKSpEOHDql48eKFKrso1jx58mS1atVKZcqUUY0aNRQbGytJSk1N1YYNG5SYmKg5c+YUmlxfZlMzNVOz99WvX1/btm077/yIiAjdcssthSbXl9nUXPhzfZldFGtu0KCBPv74YzVs2NBjemJiohYtWuTodcl9lU3NBZfry2wuGZYPO3fuVPPmzfXTTz/J5XIpLCxMM2fOVNOmTSVJU6dO1bZt2zRq1KhCk10Ua5bOXitwwYIFWrlypcelfpKSktS8eXP5+fl5PdOXub7MpmZqpmYAgCR9//33Wrt2rbp06ZLn/I0bN+qjjz7SsGHDCk02NRdcri+zabrz6eTJk1q2bJlOnz6tunXrqlSpUoU+uyjWDAAAAADeQNMNnMc333yjFStWeOyhqlevnv72t78VylxfZlMzNTuNmv9vL/vNN99cKHN9mU3NhT/Xl9nUTM1Oo+YCyPb6r8QLuZMnT9rbb79tXbp0sdtvv91atWplffr0yXVh9cKUXdRqTk1NtQYNGpjL5bIKFSrYzTffbDfffLNVqFDBXC6XNWjQwFJTUwtNri+zqZmaqdn7qJmaC2PNPNdFp+b69ev7rGZfZFNz0aiZpjsftm/fbhUqVLCYmBiLj483l8tlycnJVqdOHfP397d//OMfdubMmUKVXRRrbtu2rSUlJdnWrVtzzdu6davVq1fP2rVrV2hyfZlNzQWX68tsai64XF9mU3PB5foyu6jl+jKbmgsu15fZ1Fxwub7MpunOh5YtW9pDDz1k2dnZZmY2evRoa9mypZmZ/fDDD5aQkGDDhg0rVNlFsebw8HBbt27deeevWbPGwsPDC02uL7OpueByfZlNzQWX68tsai64XF9mF7VcX2ZTc8Hl+jKbmgsu15fZnDo1H5YuXap//vOfcrlckqT+/ftr4cKFOnz4sK655hqNGzdO06ZNK1TZRbHm4OBgpaenn3f+sWPHFBwcXGhyfZlNzQWX68tsai64XF9mU3PB5foyu6jl+jKbmgsu15fZ1FxwuT7N9nobX4iVLVvW1q5d677/22+/mcvlsvT0dDMz27lzpwUHBxeq7KJYc69evaxChQr28ccfW1pamnt6Wlqaffzxx5aQkGB9+vQpNLm+zKZmaqZm76Nmai6MNfNcUzM1ex81F1w2TXc+pKSkWKNGjWzLli22c+dOu+eee+zGG290z1+yZInFx8cXquyiWPOpU6fs4YcftqCgIPPz87OQkBALCQkxPz8/CwoKsp49e9qpU6cKTa4vs6mZmqnZ+6iZmgtjzTzX1EzN3kfNBZfNJcPy4eDBg7rzzju1atUquVwuxcfH65NPPtGNN94oSZo1a5b279+vvn37FprsolhzjvT0dK1du9bjUgK1atVSZGSkI3m+zvVlNjVTs9OomZoLY64vs4tari+zqZmanUbNzmfTdF+C7du3KyMjQ1WqVFFAQECRyC6KNQMAAADAX8WJ1C7BNddco+rVq+dqAPfu3auuXbsWyuyiVvPvv/+uZcuWafPmzbnmnTp1Su+++26hyvVlNjUXXK4vs6m54HJ9mU3NBZfry+yiluvLbGouuFxfZlNzweX6LNvrB6wXYevXrzc/P78ilV0Ya962bZtVqFDBXC6X+fn52S233GK//PKLe/6BAwcKVa4vs6mZmp3M9WU2NVOzk7m+zC5qub7MpmZqdjLXl9lFsWb2dOfDf//73wveFi9eXOiyi2LNjz/+uKpXr66DBw9q27ZtioiIUIMGDbRnzx5H8nyd68tsaqZmp1EzNRfGXF9mF7VcX2ZTMzU7jZoLMNvrbXwhlvONiMvlOu/NqW9lfJVdFGuOiYmx77//3n0/OzvbHn74YStfvrz9+OOPjn0D5qtcX2ZTMzVTs/dRMzUXxpp5rqmZmr2Pmgsum6Y7H8qWLWuffvrpeed/++23jr1BfJVdFGuOiIiwzZs355reu3dvK1eunH311VeFKteX2dRccLm+zKbmgsv1ZTY1F1yuL7OLWq4vs6m54HJ9mU3NBZfry2xOBZ0PtWrV0tq1a3XnnXfmOd/lcskcOhm8r7KLYs1VqlTRmjVrVLVqVY/pr732miTpjjvu8HqmL3N9mU3NBZfry2xqLrhcX2ZTc8Hl+jK7qOX6MpuaCy7Xl9nUXHC5Ps32ehtfiH311Vc2b968884/fvy4LVmypFBlF8Wan3vuOWvZsuV55/fs2dNcLlehyfVlNjUXXK4vs6m54HJ9mU3NBZfry+yiluvLbGouuFxfZlNzweX6MpvrdAMAAAAA4BDOXg4AAAAAgENougEAAAAAcAhNNwAAAAAADqHpBgAAAADAITTdAAAAAAA4hKYbAIAiwMzUtGlTtWjRIte8iRMnKjo6Wj///LMPRgYAQOFG0w0AQBHgcrk0ZcoUrVq1Sq+//rp7+q5duzRo0CCNHz9e5cqV82rmmTNnvLo+AACuRDTdAAAUEfHx8XrllVf02GOPadeuXTIzdevWTc2bN9eNN96oli1bKjw8XLGxsXrggQf066+/uh87f/58NWjQQNHR0SpZsqT+/ve/68cff3TP3717t1wulz788EM1atRIISEhmj59ui/KBADgsuIyM/P1IAAAQMFp06aN0tLSdPfdd+vpp5/Wpk2bVK1aNXXv3l2dOnXS77//rscff1yZmZn68ssvJUkfffSRXC6Xrr/+eh0/flxDhw7V7t27tX79evn5+Wn37t2qWLGiEhIS9NJLL+nGG29USEiIypQp4+NqAQDwLZpuAACKmIMHD6patWo6cuSIPvroI23cuFH/+7//qwULFriX+fnnnxUfH69t27bp2muvzbWOX3/9VaVLl9aGDRtUvXp1d9M9btw4PfroowVZDgAAlzUOLwcAoIiJiYnRQw89pKpVq6pNmzb67rvvtHjxYoWHh7tvVapUkST3IeTbt29Xx44dValSJUVGRiohIUGStGfPHo91165du0BrAQDgchfg6wEAAICCFxAQoICAs5sBx48fV+vWrfX888/nWi7n8PDWrVurQoUKevPNN1W2bFllZ2erevXqOn36tMfyYWFhzg8eAIArCE03AABF3E033aSPPvpICQkJ7kb8XIcPH9a2bdv05ptvqmHDhpKkZcuWFfQwAQC4InF4OQAARVzv3r115MgRdezYUatXr9aPP/6oBQsWqEuXLsrKylLx4sVVsmRJvfHGG9qxY4e+/PJLDRgwwNfDBgDgikDTDQBAEVe2bFl9/fXXysrKUvPmzVWjRg3169dP0dHR8vPzk5+fnz744AOtXbtW1atXV//+/fXCCy/4etgAAFwROHs5AAAAAAAOYU83AAAAAAAOoekGAAAAAMAhNN0AAAAAADiEphsAAAAAAIfQdAMAAAAA4BCabgAAAAAAHELTDQAAAACAQ2i6AQAAAABwCE03AAAAAAAOoekGAAAAAMAhNN0AAAAAADiEphsAAAAAAIf8P2loeBSaFSyrAAAAAElFTkSuQmCC\n"
                },
                "metadata": {}
              }
            ]
          }
        },
        "108ae0d2546f4def801164d5cccbe6c9": {
          "model_module": "@jupyter-widgets/base",
          "model_name": "LayoutModel",
          "model_module_version": "1.2.0",
          "state": {
            "_model_module": "@jupyter-widgets/base",
            "_model_module_version": "1.2.0",
            "_model_name": "LayoutModel",
            "_view_count": null,
            "_view_module": "@jupyter-widgets/base",
            "_view_module_version": "1.2.0",
            "_view_name": "LayoutView",
            "align_content": null,
            "align_items": null,
            "align_self": null,
            "border": null,
            "bottom": null,
            "display": null,
            "flex": null,
            "flex_flow": null,
            "grid_area": null,
            "grid_auto_columns": null,
            "grid_auto_flow": null,
            "grid_auto_rows": null,
            "grid_column": null,
            "grid_gap": null,
            "grid_row": null,
            "grid_template_areas": null,
            "grid_template_columns": null,
            "grid_template_rows": null,
            "height": null,
            "justify_content": null,
            "justify_items": null,
            "left": null,
            "margin": null,
            "max_height": null,
            "max_width": null,
            "min_height": null,
            "min_width": null,
            "object_fit": null,
            "object_position": null,
            "order": null,
            "overflow": null,
            "overflow_x": null,
            "overflow_y": null,
            "padding": null,
            "right": null,
            "top": null,
            "visibility": null,
            "width": null
          }
        },
        "94b17a555530442ca66185522dd0278e": {
          "model_module": "@jupyter-widgets/base",
          "model_name": "LayoutModel",
          "model_module_version": "1.2.0",
          "state": {
            "_model_module": "@jupyter-widgets/base",
            "_model_module_version": "1.2.0",
            "_model_name": "LayoutModel",
            "_view_count": null,
            "_view_module": "@jupyter-widgets/base",
            "_view_module_version": "1.2.0",
            "_view_name": "LayoutView",
            "align_content": null,
            "align_items": null,
            "align_self": null,
            "border": null,
            "bottom": null,
            "display": null,
            "flex": null,
            "flex_flow": null,
            "grid_area": null,
            "grid_auto_columns": null,
            "grid_auto_flow": null,
            "grid_auto_rows": null,
            "grid_column": null,
            "grid_gap": null,
            "grid_row": null,
            "grid_template_areas": null,
            "grid_template_columns": null,
            "grid_template_rows": null,
            "height": "400px",
            "justify_content": null,
            "justify_items": null,
            "left": null,
            "margin": null,
            "max_height": null,
            "max_width": null,
            "min_height": null,
            "min_width": null,
            "object_fit": null,
            "object_position": null,
            "order": null,
            "overflow": "auto",
            "overflow_x": null,
            "overflow_y": null,
            "padding": null,
            "right": null,
            "top": null,
            "visibility": null,
            "width": null
          }
        },
        "cd81eb96259747e3b411ca9b54499440": {
          "model_module": "@jupyter-widgets/base",
          "model_name": "LayoutModel",
          "model_module_version": "1.2.0",
          "state": {
            "_model_module": "@jupyter-widgets/base",
            "_model_module_version": "1.2.0",
            "_model_name": "LayoutModel",
            "_view_count": null,
            "_view_module": "@jupyter-widgets/base",
            "_view_module_version": "1.2.0",
            "_view_name": "LayoutView",
            "align_content": null,
            "align_items": null,
            "align_self": null,
            "border": null,
            "bottom": null,
            "display": null,
            "flex": null,
            "flex_flow": null,
            "grid_area": null,
            "grid_auto_columns": null,
            "grid_auto_flow": null,
            "grid_auto_rows": null,
            "grid_column": null,
            "grid_gap": null,
            "grid_row": null,
            "grid_template_areas": null,
            "grid_template_columns": null,
            "grid_template_rows": null,
            "height": "400px",
            "justify_content": null,
            "justify_items": null,
            "left": null,
            "margin": null,
            "max_height": null,
            "max_width": null,
            "min_height": null,
            "min_width": null,
            "object_fit": null,
            "object_position": null,
            "order": null,
            "overflow": "scroll hidden",
            "overflow_x": null,
            "overflow_y": null,
            "padding": null,
            "right": null,
            "top": null,
            "visibility": null,
            "width": null
          }
        },
        "e701858194ae47d89706509973678679": {
          "model_module": "@jupyter-widgets/base",
          "model_name": "LayoutModel",
          "model_module_version": "1.2.0",
          "state": {
            "_model_module": "@jupyter-widgets/base",
            "_model_module_version": "1.2.0",
            "_model_name": "LayoutModel",
            "_view_count": null,
            "_view_module": "@jupyter-widgets/base",
            "_view_module_version": "1.2.0",
            "_view_name": "LayoutView",
            "align_content": null,
            "align_items": null,
            "align_self": null,
            "border": null,
            "bottom": null,
            "display": null,
            "flex": null,
            "flex_flow": null,
            "grid_area": null,
            "grid_auto_columns": null,
            "grid_auto_flow": null,
            "grid_auto_rows": null,
            "grid_column": null,
            "grid_gap": null,
            "grid_row": null,
            "grid_template_areas": null,
            "grid_template_columns": null,
            "grid_template_rows": null,
            "height": null,
            "justify_content": null,
            "justify_items": null,
            "left": null,
            "margin": null,
            "max_height": null,
            "max_width": null,
            "min_height": null,
            "min_width": null,
            "object_fit": null,
            "object_position": null,
            "order": null,
            "overflow": null,
            "overflow_x": null,
            "overflow_y": null,
            "padding": null,
            "right": null,
            "top": null,
            "visibility": null,
            "width": null
          }
        }
      }
    }
  },
  "cells": [
    {
      "cell_type": "markdown",
      "metadata": {
        "id": "view-in-github",
        "colab_type": "text"
      },
      "source": [
        "<a href=\"https://colab.research.google.com/github/Method-for-Software-System-Development/Cloud_Computing/blob/tirgul-Omer-Matan/Lab4.ipynb\" target=\"_parent\"><img src=\"https://colab.research.google.com/assets/colab-badge.svg\" alt=\"Open In Colab\"/></a>"
      ]
    },
    {
      "cell_type": "code",
      "execution_count": 5,
      "metadata": {
        "id": "mn8DgkcsERnp"
      },
      "outputs": [],
      "source": [
        "import pandas as pd, requests, matplotlib.pyplot as plt, ipywidgets as wg\n",
        "from IPython.display import display, clear_output"
      ]
    },
    {
      "cell_type": "code",
      "source": [
        "url = 'https://data.gov.il/api/3/action/datastore_search?resource_id=053cea08-09bc-40ec-8f7a-156f0677aff3'"
      ],
      "metadata": {
        "id": "BkOcOV7JGNoq"
      },
      "execution_count": 8,
      "outputs": []
    },
    {
      "cell_type": "code",
      "source": [
        "\n",
        "resp = requests.get(url, params={'limit': 100_000}, timeout=120)\n",
        "resp.raise_for_status()\n",
        "df = pd.DataFrame(resp.json()['result']['records'])\n",
        "print(f'✅ loaded {len(df):,} rows  |  {df.shape[1]} columns')\n",
        "# basic type casting\n",
        "df['shnat_yitzur']  = pd.to_numeric(df['shnat_yitzur'], errors='coerce')\n",
        "df['kinuy_mishari'] = df['kinuy_mishari'].astype(str)\n",
        "\n",
        "# pre-compute chart data\n",
        "models_by_year = (df.groupby('shnat_yitzur')['kinuy_mishari']\n",
        "                    .nunique()\n",
        "                    .dropna()\n",
        "                    .sort_index())\n"
      ],
      "metadata": {
        "colab": {
          "base_uri": "https://localhost:8080/"
        },
        "id": "TBen79eUHMKl",
        "outputId": "384f2a25-f784-420a-b6ce-de0fe73e84bf"
      },
      "execution_count": 10,
      "outputs": [
        {
          "output_type": "stream",
          "name": "stdout",
          "text": [
            "✅ loaded 100,000 rows  |  24 columns\n"
          ]
        }
      ]
    },
    {
      "cell_type": "code",
      "source": [
        "tab1 = wg.Output(layout={'height': '400px', 'overflow': 'auto'})\n",
        "with tab1:\n",
        "    print('GLOBAL STATISTICS')\n",
        "    display(df.describe(include='all'))\n",
        "\n",
        "tab2 = wg.Output(layout={'height': '400px', 'overflow': 'scroll hidden'})\n",
        "with tab2:\n",
        "    print('RAW DATA  (first 20k rows)')\n",
        "    display(df.head(20_000))\n",
        "\n",
        "tab3 = wg.Output()\n",
        "with tab3:\n",
        "    clear_output(wait=True)\n",
        "    plt.figure(figsize=(10, 4))\n",
        "    models_by_year.plot(kind='bar')\n",
        "    plt.title('Unique car models per production year')\n",
        "    plt.xlabel('Year')\n",
        "    plt.ylabel('Model count')\n",
        "    plt.tight_layout()\n",
        "    plt.show()\n"
      ],
      "metadata": {
        "id": "Y12ciPH6HZ9o"
      },
      "execution_count": 13,
      "outputs": []
    },
    {
      "cell_type": "code",
      "source": [
        "tabs = wg.Tab(children=[tab1, tab2, tab3])\n",
        "tabs.set_title(0, 'Statistics')\n",
        "tabs.set_title(1, 'Table')\n",
        "tabs.set_title(2, 'Chart')\n",
        "display(tabs)"
      ],
      "metadata": {
        "colab": {
          "base_uri": "https://localhost:8080/",
          "height": 469,
          "referenced_widgets": [
            "72f805d07386435e97832f55a3c96726",
            "89419e6aa49c4776b337de9991c81dbe",
            "1db50a6244b84d08bf394a35c62577fb",
            "f9cc7bf4b4d841ebb28ec10c62bcdcd8",
            "108ae0d2546f4def801164d5cccbe6c9",
            "94b17a555530442ca66185522dd0278e",
            "cd81eb96259747e3b411ca9b54499440",
            "e701858194ae47d89706509973678679"
          ]
        },
        "id": "pSTmrT4eHg3x",
        "outputId": "1a9984ba-3a41-47d9-e73b-5d95f3e9dd3c"
      },
      "execution_count": 14,
      "outputs": [
        {
          "output_type": "display_data",
          "data": {
            "text/plain": [
              "Tab(children=(Output(layout=Layout(height='400px', overflow='auto')), Output(layout=Layout(height='400px', ove…"
            ],
            "application/vnd.jupyter.widget-view+json": {
              "version_major": 2,
              "version_minor": 0,
              "model_id": "72f805d07386435e97832f55a3c96726"
            }
          },
          "metadata": {}
        }
      ]
    }
  ]
}