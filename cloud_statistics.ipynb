{
  "nbformat": 4,
  "nbformat_minor": 0,
  "metadata": {
    "colab": {
      "provenance": [],
      "authorship_tag": "ABX9TyN2hkWZ1V3zxK+MLiVVIWHe",
      "include_colab_link": true
    },
    "kernelspec": {
      "name": "python3",
      "display_name": "Python 3"
    },
    "language_info": {
      "name": "python"
    }
  },
  "cells": [
    {
      "cell_type": "markdown",
      "metadata": {
        "id": "view-in-github",
        "colab_type": "text"
      },
      "source": [
        "<a href=\"https://colab.research.google.com/github/Method-for-Software-System-Development/Cloud_Computing/blob/develop/cloud_statistics.ipynb\" target=\"_parent\"><img src=\"https://colab.research.google.com/assets/colab-badge.svg\" alt=\"Open In Colab\"/></a>"
      ]
    },
    {
      "cell_type": "markdown",
      "source": [
        "# Setup"
      ],
      "metadata": {
        "id": "KZPH4VSBIEFo"
      }
    },
    {
      "cell_type": "code",
      "source": [
        "DBLink = \"https://cloud-project-5adfc-default-rtdb.europe-west1.firebasedatabase.app/\""
      ],
      "metadata": {
        "id": "t5-w9tnDHqmo"
      },
      "execution_count": 1,
      "outputs": []
    },
    {
      "cell_type": "markdown",
      "source": [
        "#Read sensor data part"
      ],
      "metadata": {
        "id": "7qsmwFT6G0Y3"
      }
    },
    {
      "cell_type": "code",
      "execution_count": 2,
      "metadata": {
        "colab": {
          "base_uri": "https://localhost:8080/"
        },
        "id": "0wpLKe2iG75s",
        "outputId": "d232a14a-e3b8-4048-f78b-98e214bd6763"
      },
      "outputs": [
        {
          "output_type": "stream",
          "name": "stdout",
          "text": [
            "Collecting paho-mqtt\n",
            "  Downloading paho_mqtt-2.1.0-py3-none-any.whl.metadata (23 kB)\n",
            "Downloading paho_mqtt-2.1.0-py3-none-any.whl (67 kB)\n",
            "\u001b[2K   \u001b[90m━━━━━━━━━━━━━━━━━━━━━━━━━━━━━━━━━━━━━━━━\u001b[0m \u001b[32m67.2/67.2 kB\u001b[0m \u001b[31m1.8 MB/s\u001b[0m eta \u001b[36m0:00:00\u001b[0m\n",
            "\u001b[?25hInstalling collected packages: paho-mqtt\n",
            "Successfully installed paho-mqtt-2.1.0\n"
          ]
        }
      ],
      "source": [
        "!pip install paho-mqtt"
      ]
    },
    {
      "cell_type": "code",
      "source": [
        "#Imports\n",
        "import paho.mqtt.client as mqtt\n",
        "import json\n",
        "import threading"
      ],
      "metadata": {
        "id": "8q2WPk4bKvMV"
      },
      "execution_count": 3,
      "outputs": []
    },
    {
      "cell_type": "code",
      "source": [
        "# Callback function for when a message is received\n",
        "def indoor_on_message(client, userdata, msg):\n",
        "  try:\n",
        "    data = json.loads(msg.payload.decode())\n",
        "    # Extract values with lowercase field names\n",
        "    temperature = data.get(\"Temperature\", \"N/A\")\n",
        "    humidity = data.get(\"Humidity\", \"N/A\")\n",
        "    pressure = data.get(\"Pressure\", \"N/A\")\n",
        "    distance = data.get(\"Distance\", \"N/A\")\n",
        "    print(f\"Indoor: Temperature: {temperature}°C, Humidity: {humidity}%, Pressure: {pressure} hPa, Distance: {distance} mm\")\n",
        "\n",
        "  except json.JSONDecodeError:\n",
        "    print(\"Received invalid JSON data\")\n",
        "\n",
        "# Callback function for when a message is received\n",
        "def outdoor_on_message(client, userdata, msg):\n",
        "  try:\n",
        "    data = json.loads(msg.payload.decode())\n",
        "    # Extract values with lowercase field names\n",
        "    temperature = data.get(\"Temperature\", \"N/A\")\n",
        "    humidity = data.get(\"Humidity\", \"N/A\")\n",
        "    dlight = data.get(\"Dlight\", \"N/A\")\n",
        "    print(f\"Outdoor: Temperature: {temperature}°C, Humidity: {humidity}%, Dlight: {dlight} Lux\")\n",
        "\n",
        "  except json.JSONDecodeError:\n",
        "    print(\"Received invalid JSON data\")\n"
      ],
      "metadata": {
        "id": "m2JFG5XTHG9U"
      },
      "execution_count": 4,
      "outputs": []
    },
    {
      "cell_type": "code",
      "source": [
        "# Get the data and print\n",
        "\n",
        "# MQTT setup\n",
        "broker = \"test.mosquitto.org\"\n",
        "topic_indoor = \"braude/D106/indoor\"\n",
        "topic_outdoor = \"braude/D106/outdoor\"\n",
        "\n",
        "client_indoor = mqtt.Client()\n",
        "client_indoor.on_message = indoor_on_message\n",
        "\n",
        "client_indoor.connect(broker, 1883, 60)\n",
        "client_indoor.subscribe(topic_indoor)\n",
        "\n",
        "client_outdoor = mqtt.Client()\n",
        "client_outdoor.on_message = outdoor_on_message\n",
        "\n",
        "client_outdoor.connect(broker, 1883, 60)\n",
        "client_outdoor.subscribe(topic_outdoor)\n",
        "\n",
        "# Create and start threads for each client\n",
        "indoor_thread = threading.Thread(target=client_indoor.loop_forever)\n",
        "outdoor_thread = threading.Thread(target=client_outdoor.loop_forever)\n",
        "\n",
        "indoor_thread.start()\n",
        "outdoor_thread.start()\n",
        "\n",
        "# Keep the main thread alive\n",
        "outdoor_thread.join()\n",
        "indoor_thread.join()\n"
      ],
      "metadata": {
        "colab": {
          "base_uri": "https://localhost:8080/",
          "height": 448
        },
        "id": "aZ6nRarYH2Y3",
        "outputId": "b8aa1563-6c06-4b49-b316-f4e7d4cde993",
        "collapsed": true
      },
      "execution_count": null,
      "outputs": [
        {
          "output_type": "stream",
          "name": "stderr",
          "text": [
            "<ipython-input-4-80d0e13ff08a>:8: DeprecationWarning: Callback API version 1 is deprecated, update to latest version\n",
            "  client_indoor = mqtt.Client()\n",
            "<ipython-input-4-80d0e13ff08a>:14: DeprecationWarning: Callback API version 1 is deprecated, update to latest version\n",
            "  client_outdoor = mqtt.Client()\n"
          ]
        },
        {
          "output_type": "error",
          "ename": "KeyboardInterrupt",
          "evalue": "",
          "traceback": [
            "\u001b[0;31m---------------------------------------------------------------------------\u001b[0m",
            "\u001b[0;31mKeyboardInterrupt\u001b[0m                         Traceback (most recent call last)",
            "\u001b[0;32m<ipython-input-4-80d0e13ff08a>\u001b[0m in \u001b[0;36m<cell line: 0>\u001b[0;34m()\u001b[0m\n\u001b[1;32m     26\u001b[0m \u001b[0;34m\u001b[0m\u001b[0m\n\u001b[1;32m     27\u001b[0m \u001b[0;31m# Keep the main thread alive\u001b[0m\u001b[0;34m\u001b[0m\u001b[0;34m\u001b[0m\u001b[0m\n\u001b[0;32m---> 28\u001b[0;31m \u001b[0moutdoor_thread\u001b[0m\u001b[0;34m.\u001b[0m\u001b[0mjoin\u001b[0m\u001b[0;34m(\u001b[0m\u001b[0;34m)\u001b[0m\u001b[0;34m\u001b[0m\u001b[0;34m\u001b[0m\u001b[0m\n\u001b[0m\u001b[1;32m     29\u001b[0m \u001b[0mindoor_thread\u001b[0m\u001b[0;34m.\u001b[0m\u001b[0mjoin\u001b[0m\u001b[0;34m(\u001b[0m\u001b[0;34m)\u001b[0m\u001b[0;34m\u001b[0m\u001b[0;34m\u001b[0m\u001b[0m\n",
            "\u001b[0;32m/usr/lib/python3.11/threading.py\u001b[0m in \u001b[0;36mjoin\u001b[0;34m(self, timeout)\u001b[0m\n\u001b[1;32m   1117\u001b[0m \u001b[0;34m\u001b[0m\u001b[0m\n\u001b[1;32m   1118\u001b[0m         \u001b[0;32mif\u001b[0m \u001b[0mtimeout\u001b[0m \u001b[0;32mis\u001b[0m \u001b[0;32mNone\u001b[0m\u001b[0;34m:\u001b[0m\u001b[0;34m\u001b[0m\u001b[0;34m\u001b[0m\u001b[0m\n\u001b[0;32m-> 1119\u001b[0;31m             \u001b[0mself\u001b[0m\u001b[0;34m.\u001b[0m\u001b[0m_wait_for_tstate_lock\u001b[0m\u001b[0;34m(\u001b[0m\u001b[0;34m)\u001b[0m\u001b[0;34m\u001b[0m\u001b[0;34m\u001b[0m\u001b[0m\n\u001b[0m\u001b[1;32m   1120\u001b[0m         \u001b[0;32melse\u001b[0m\u001b[0;34m:\u001b[0m\u001b[0;34m\u001b[0m\u001b[0;34m\u001b[0m\u001b[0m\n\u001b[1;32m   1121\u001b[0m             \u001b[0;31m# the behavior of a negative timeout isn't documented, but\u001b[0m\u001b[0;34m\u001b[0m\u001b[0;34m\u001b[0m\u001b[0m\n",
            "\u001b[0;32m/usr/lib/python3.11/threading.py\u001b[0m in \u001b[0;36m_wait_for_tstate_lock\u001b[0;34m(self, block, timeout)\u001b[0m\n\u001b[1;32m   1137\u001b[0m \u001b[0;34m\u001b[0m\u001b[0m\n\u001b[1;32m   1138\u001b[0m         \u001b[0;32mtry\u001b[0m\u001b[0;34m:\u001b[0m\u001b[0;34m\u001b[0m\u001b[0;34m\u001b[0m\u001b[0m\n\u001b[0;32m-> 1139\u001b[0;31m             \u001b[0;32mif\u001b[0m \u001b[0mlock\u001b[0m\u001b[0;34m.\u001b[0m\u001b[0macquire\u001b[0m\u001b[0;34m(\u001b[0m\u001b[0mblock\u001b[0m\u001b[0;34m,\u001b[0m \u001b[0mtimeout\u001b[0m\u001b[0;34m)\u001b[0m\u001b[0;34m:\u001b[0m\u001b[0;34m\u001b[0m\u001b[0;34m\u001b[0m\u001b[0m\n\u001b[0m\u001b[1;32m   1140\u001b[0m                 \u001b[0mlock\u001b[0m\u001b[0;34m.\u001b[0m\u001b[0mrelease\u001b[0m\u001b[0;34m(\u001b[0m\u001b[0;34m)\u001b[0m\u001b[0;34m\u001b[0m\u001b[0;34m\u001b[0m\u001b[0m\n\u001b[1;32m   1141\u001b[0m                 \u001b[0mself\u001b[0m\u001b[0;34m.\u001b[0m\u001b[0m_stop\u001b[0m\u001b[0;34m(\u001b[0m\u001b[0;34m)\u001b[0m\u001b[0;34m\u001b[0m\u001b[0;34m\u001b[0m\u001b[0m\n",
            "\u001b[0;31mKeyboardInterrupt\u001b[0m: "
          ]
        }
      ]
    },
    {
      "cell_type": "markdown",
      "source": [
        "#Generate fake sensor data"
      ],
      "metadata": {
        "id": "cGENGIu4G-jB"
      }
    },
    {
      "cell_type": "code",
      "source": [
        "import pandas as pd\n",
        "import numpy as np\n",
        "from datetime import datetime, timedelta\n",
        "\n",
        "# Define the duration of the data (e.g., 24 hours)\n",
        "duration_hours = 24\n",
        "num_minutes = duration_hours * 60\n",
        "\n",
        "# Define a starting timestamp\n",
        "start_time = datetime.now().replace(second=0, microsecond=0)\n",
        "\n",
        "# Generate timestamps for each minute\n",
        "timestamps = [start_time + timedelta(minutes=i) for i in range(num_minutes)]\n",
        "\n",
        "# Define realistic ranges for sensor data\n",
        "ranges = {\n",
        "    'Outdoor Dlight': (0, 900), # 0-900 for light levels\n",
        "    'Outdoor Temperature': (10, 35), # Realistic outdoor temperature range\n",
        "    'Outdoor Humidity': (30, 90),  # Realistic outdoor humidity range\n",
        "    'Indoor Humidity': (30, 70),   # Realistic indoor humidity range\n",
        "    'Indoor Temperature': (20, 28), # More stable indoor temperature\n",
        "    'Indoor Pressure': (980, 1020), # Atmospheric pressure range\n",
        "    'Indoor Distance': (400, 600)  # Plausible range for a distance sensor\n",
        "}\n",
        "\n",
        "# Generate fictional data with some variation\n",
        "data = {\n",
        "    'Timestamp': timestamps,\n",
        "    'Outdoor Dlight': np.random.uniform(ranges['Outdoor Dlight'][0], ranges['Outdoor Dlight'][1], num_minutes),\n",
        "    'Outdoor Temperature': np.random.uniform(ranges['Outdoor Temperature'][0], ranges['Outdoor Temperature'][1], num_minutes),\n",
        "    'Outdoor Humidity': np.random.uniform(ranges['Outdoor Humidity'][0], ranges['Outdoor Humidity'][1], num_minutes),\n",
        "    'Indoor Humidity': np.random.uniform(ranges['Indoor Humidity'][0], ranges['Indoor Humidity'][1], num_minutes),\n",
        "    'Indoor Temperature': np.random.uniform(ranges['Indoor Temperature'][0], ranges['Indoor Temperature'][1], num_minutes),\n",
        "    'Indoor Pressure': np.random.uniform(ranges['Indoor Pressure'][0], ranges['Indoor Pressure'][1], num_minutes),\n",
        "    'Indoor Distance': np.random.uniform(ranges['Indoor Distance'][0], ranges['Indoor Distance'][1], num_minutes)\n",
        "}\n",
        "\n",
        "# Introduce some basic daily trends (optional, making it slightly more realistic)\n",
        "# For example, temperature rises during the day and falls at night, Dlight follows a sun pattern.\n",
        "time_of_day = (np.array([t.hour for t in timestamps]) + np.array([t.minute for t in timestamps])/60) # Time in hours\n",
        "\n",
        "# Simple sine wave for temperature (peaks around midday)\n",
        "data['Outdoor Temperature'] = data['Outdoor Temperature'] + 5 * np.sin(2 * np.pi * (time_of_day - 10)/24)\n",
        "data['Indoor Temperature'] = data['Indoor Temperature'] + 1 * np.sin(2 * np.pi * (time_of_day - 12)/24)\n",
        "\n",
        "# Simple sine wave for Dlight (peaks around midday, stays low at night)\n",
        "data['Outdoor Dlight'] = data['Outdoor Dlight'] * (0.5 + 0.5 * np.sin(2 * np.pi * (time_of_day - 6)/24))\n",
        "data['Outdoor Dlight'][data['Outdoor Dlight'] < 0] = 0 # Ensure Dlight is not negative\n",
        "\n",
        "# Simple inverse sine wave for outdoor humidity (dips around midday)\n",
        "data['Outdoor Humidity'] = data['Outdoor Humidity'] - 10 * np.sin(2 * np.pi * (time_of_day - 10)/24)\n",
        "data['Outdoor Humidity'][data['Outdoor Humidity'] > 100] = 100 # Cap humidity at 100\n",
        "data['Outdoor Humidity'][data['Outdoor Humidity'] < 0] = 0 # Ensure humidity is not negative\n",
        "\n",
        "\n",
        "# Create a pandas DataFrame\n",
        "df = pd.DataFrame(data)\n",
        "\n",
        "# Round the data to a few decimal places for cleaner look\n",
        "df = df.round(2)\n",
        "\n",
        "# Define the filename\n",
        "excel_filename = 'sensor_data.xlsx'\n",
        "\n",
        "# Save the DataFrame to an Excel file\n",
        "df.to_excel(excel_filename, index=False)\n",
        "\n",
        "print(f\"קובץ האקסל '{excel_filename}' נוצר בהצלחה עם {num_minutes} שורות של נתונים פיקטיביים.\")"
      ],
      "metadata": {
        "colab": {
          "base_uri": "https://localhost:8080/"
        },
        "id": "CAXHDHOTwHH2",
        "outputId": "8253a460-4cb0-4f13-d239-69f2407a090b"
      },
      "execution_count": null,
      "outputs": [
        {
          "output_type": "stream",
          "name": "stdout",
          "text": [
            "קובץ האקסל 'sensor_data.xlsx' נוצר בהצלחה עם 1440 שורות של נתונים פיקטיביים.\n"
          ]
        }
      ]
    },
    {
      "cell_type": "code",
      "source": [
        "from firebase import firebase\n",
        "\n",
        "FBconn = firebase.FirebaseApplication(DBLink, None)"
      ],
      "metadata": {
        "id": "9-yYCcObHo12"
      },
      "execution_count": null,
      "outputs": []
    },
    {
      "cell_type": "code",
      "source": [
        "# Read the Excel file into a pandas DataFrame\n",
        "df = pd.read_excel('sensor_data.xlsx')\n",
        "\n",
        "# Iterate through each row in the DataFrame\n",
        "for index, row in df.iterrows():\n",
        "    # Use the Timestamp as the key for Firebase\n",
        "    timestamp_str = row['Timestamp'].strftime('%Y-%m-%d %H:%M:%S') # Format timestamp as string\n",
        "\n",
        "    # Create a dictionary with the sensor data for this timestamp\n",
        "    sensor_data = {\n",
        "        'Outdoor Dlight': row['Outdoor Dlight'],\n",
        "        'Outdoor Temperature': row['Outdoor Temperature'],\n",
        "        'Outdoor Humidity': row['Outdoor Humidity'],\n",
        "        'Indoor Humidity': row['Indoor Humidity'],\n",
        "        'Indoor Temperature': row['Indoor Temperature'],\n",
        "        'Indoor Pressure': row['Indoor Pressure'],\n",
        "        'Indoor Distance': row['Indoor Distance']\n",
        "    }\n",
        "\n",
        "    # Save the data to Firebase with the timestamp as the key\n",
        "    FBconn.put('/sensor_readings', timestamp_str, sensor_data)\n",
        "\n",
        "    print(f\"Saved data for timestamp: {timestamp_str}\")"
      ],
      "metadata": {
        "collapsed": true,
        "id": "BL1NXWWrwpu5"
      },
      "execution_count": null,
      "outputs": []
    },
    {
      "cell_type": "markdown",
      "source": [
        "# Statistics window"
      ],
      "metadata": {
        "id": "6Dt5YPEXHDZw"
      }
    },
    {
      "cell_type": "code",
      "source": [
        "!pip install requests beautifulsoup4\n",
        "!pip install firebase\n",
        "!pip install -q gradio\n",
        "!pip install -q matplotlib"
      ],
      "metadata": {
        "colab": {
          "base_uri": "https://localhost:8080/"
        },
        "collapsed": true,
        "id": "f_qrjxx6xHjd",
        "outputId": "3fb91e1d-723f-4373-985e-4361359ffa56"
      },
      "execution_count": 3,
      "outputs": [
        {
          "output_type": "stream",
          "name": "stdout",
          "text": [
            "Requirement already satisfied: requests in /usr/local/lib/python3.11/dist-packages (2.32.3)\n",
            "Requirement already satisfied: beautifulsoup4 in /usr/local/lib/python3.11/dist-packages (4.13.4)\n",
            "Requirement already satisfied: charset-normalizer<4,>=2 in /usr/local/lib/python3.11/dist-packages (from requests) (3.4.2)\n",
            "Requirement already satisfied: idna<4,>=2.5 in /usr/local/lib/python3.11/dist-packages (from requests) (3.10)\n",
            "Requirement already satisfied: urllib3<3,>=1.21.1 in /usr/local/lib/python3.11/dist-packages (from requests) (2.4.0)\n",
            "Requirement already satisfied: certifi>=2017.4.17 in /usr/local/lib/python3.11/dist-packages (from requests) (2025.4.26)\n",
            "Requirement already satisfied: soupsieve>1.2 in /usr/local/lib/python3.11/dist-packages (from beautifulsoup4) (2.7)\n",
            "Requirement already satisfied: typing-extensions>=4.0.0 in /usr/local/lib/python3.11/dist-packages (from beautifulsoup4) (4.13.2)\n",
            "Requirement already satisfied: firebase in /usr/local/lib/python3.11/dist-packages (4.0.1)\n",
            "Requirement already satisfied: requests in /usr/local/lib/python3.11/dist-packages (from firebase) (2.32.3)\n",
            "Requirement already satisfied: charset-normalizer<4,>=2 in /usr/local/lib/python3.11/dist-packages (from requests->firebase) (3.4.2)\n",
            "Requirement already satisfied: idna<4,>=2.5 in /usr/local/lib/python3.11/dist-packages (from requests->firebase) (3.10)\n",
            "Requirement already satisfied: urllib3<3,>=1.21.1 in /usr/local/lib/python3.11/dist-packages (from requests->firebase) (2.4.0)\n",
            "Requirement already satisfied: certifi>=2017.4.17 in /usr/local/lib/python3.11/dist-packages (from requests->firebase) (2025.4.26)\n"
          ]
        }
      ]
    },
    {
      "cell_type": "code",
      "source": [
        "from firebase import firebase\n",
        "\n",
        "FBconn = firebase.FirebaseApplication(DBLink, None)"
      ],
      "metadata": {
        "id": "nccd0MzQw4iR"
      },
      "execution_count": 4,
      "outputs": []
    },
    {
      "cell_type": "code",
      "source": [
        "import gradio as gr\n",
        "import matplotlib.pyplot as plt\n",
        "import pandas as pd\n",
        "from datetime import datetime, timedelta\n",
        "\n",
        "# Function to fetch data from Firebase for a specific time range\n",
        "def fetch_data_from_firebase(full_start_time_str):\n",
        "    try:\n",
        "        start_time = datetime.strptime(full_start_time_str, '%Y-%m-%d %H:%M:%S')\n",
        "    except ValueError as e:\n",
        "        print(f\"Error parsing start time string '{full_start_time_str}': {e}\")\n",
        "        return pd.DataFrame()\n",
        "\n",
        "    end_time = start_time + timedelta(hours=1)\n",
        "\n",
        "    all_data = FBconn.get('/sensor_readings', None)\n",
        "\n",
        "    if not all_data:\n",
        "        return pd.DataFrame()\n",
        "\n",
        "    filtered_data = {}\n",
        "    for timestamp_str, data in all_data.items():\n",
        "        try:\n",
        "            timestamp = datetime.strptime(timestamp_str, '%Y-%m-%d %H:%M:%S')\n",
        "            if start_time <= timestamp < end_time:\n",
        "                filtered_data[timestamp] = data\n",
        "        except ValueError:\n",
        "            print(f\"Skipping entry with invalid timestamp in Firebase: {timestamp_str}\")\n",
        "            pass\n",
        "\n",
        "    if not filtered_data:\n",
        "        return pd.DataFrame()\n",
        "\n",
        "    df = pd.DataFrame.from_dict(filtered_data, orient='index')\n",
        "    if not df.empty: # Ensure index is DatetimeIndex for plotting if df is not empty\n",
        "        df.index = pd.to_datetime(df.index)\n",
        "        df.index.name = 'Timestamp'\n",
        "        df = df.sort_index()\n",
        "    return df\n",
        "\n",
        "# Helper function to create plots (reduces redundancy)\n",
        "def create_sensor_plot(df, column_name, title, ylabel):\n",
        "    plt.figure(figsize=(10, 4))\n",
        "    if column_name in df.columns and not df[column_name].empty:\n",
        "        plt.plot(df.index, df[column_name])\n",
        "    else:\n",
        "        plt.text(0.5, 0.5, f'No data for {column_name}', horizontalalignment='center', verticalalignment='center')\n",
        "    plt.grid(True) # Add grid\n",
        "    plt.title(title)\n",
        "    plt.xlabel('Timestamp')\n",
        "    plt.ylabel(ylabel)\n",
        "    plt.xticks(rotation=45, ha='right')\n",
        "    plt.tight_layout()\n",
        "    plot_fig = plt.gcf()\n",
        "    plt.close()\n",
        "    return plot_fig\n",
        "\n",
        "# Function to generate plots for the selected time range\n",
        "def generate_plots(selected_date_str, selected_hour_str):\n",
        "    if not selected_date_str or not selected_hour_str:\n",
        "        print(\"Date or hour not selected.\")\n",
        "        # Return Nones for all 7 plot outputs\n",
        "        return None, None, None, None, None, None, None\n",
        "\n",
        "    try:\n",
        "        # selected_date_str is already \"YYYY-MM-DD\"\n",
        "        selected_hour_int = int(selected_hour_str)\n",
        "        full_start_time_str = f\"{selected_date_str} {selected_hour_int:02d}:00:00\"\n",
        "    except ValueError:\n",
        "        print(f\"Invalid hour format: {selected_hour_str}\")\n",
        "        return None, None, None, None, None, None, None\n",
        "\n",
        "    df_hour = fetch_data_from_firebase(full_start_time_str)\n",
        "\n",
        "    if df_hour.empty:\n",
        "        print(f\"No data found for {full_start_time_str}\")\n",
        "        return None, None, None, None, None, None, None\n",
        "\n",
        "    plot_dlight = create_sensor_plot(df_hour, 'Outdoor Dlight', 'Outdoor Dlight', 'Dlight (Lux)')\n",
        "    plot_out_temp = create_sensor_plot(df_hour, 'Outdoor Temperature', 'Outdoor Temperature', 'Temp (°C)')\n",
        "    plot_out_humidity = create_sensor_plot(df_hour, 'Outdoor Humidity', 'Outdoor Humidity', 'Humidity (%)')\n",
        "    plot_in_humidity = create_sensor_plot(df_hour, 'Indoor Humidity', 'Indoor Humidity', 'Humidity (%)')\n",
        "    plot_in_temp = create_sensor_plot(df_hour, 'Indoor Temperature', 'Indoor Temperature', 'Temp (°C)')\n",
        "    plot_pressure = create_sensor_plot(df_hour, 'Indoor Pressure', 'Indoor Pressure', 'Pressure (hPa)')\n",
        "    plot_distance = create_sensor_plot(df_hour, 'Indoor Distance', 'Indoor Distance', 'Distance (mm)')\n",
        "\n",
        "    return plot_dlight, plot_out_temp, plot_out_humidity, plot_in_humidity, plot_in_temp, plot_pressure, plot_distance\n",
        "\n",
        "# --- Data Preparation for Dropdowns ---\n",
        "all_data_keys = FBconn.get('/sensor_readings', None) #\n",
        "if all_data_keys:\n",
        "    available_timestamps_str = sorted(all_data_keys.keys())\n",
        "else:\n",
        "    available_timestamps_str = []\n",
        "\n",
        "# Get unique dates as STRINGS\n",
        "unique_date_strings = sorted(list(set([\n",
        "    datetime.strptime(ts, '%Y-%m-%d %H:%M:%S').strftime('%Y-%m-%d')\n",
        "    for ts in available_timestamps_str\n",
        "])))\n",
        "\n",
        "#ToDo: Add refresh button to be able to see new datetime if running too long    ##############################################\n",
        "\n",
        "# Create mapping from STRING date to list of hours (as strings or ints)\n",
        "date_to_hours_map = {}\n",
        "for ts_str in available_timestamps_str:\n",
        "    dt_obj = datetime.strptime(ts_str, '%Y-%m-%d %H:%M:%S')\n",
        "    date_key_str = dt_obj.strftime('%Y-%m-%d')\n",
        "    hour_val = dt_obj.hour # Keep as int for now, or str(dt_obj.hour)\n",
        "    if date_key_str not in date_to_hours_map:\n",
        "        date_to_hours_map[date_key_str] = []\n",
        "    if hour_val not in date_to_hours_map[date_key_str]: # Avoid duplicate hours\n",
        "        date_to_hours_map[date_key_str].append(hour_val)\n",
        "\n",
        "for date_key_str in date_to_hours_map:\n",
        "    date_to_hours_map[date_key_str].sort()\n",
        "    # Convert hours to string if you prefer string choices for hour dropdown too\n",
        "    date_to_hours_map[date_key_str] = [str(h) for h in date_to_hours_map[date_key_str]]\n",
        "\n",
        "\n",
        "# --- Gradio Interface ---\n",
        "with gr.Blocks() as demo:\n",
        "  gr.Markdown(\"## Sensor Data Statistics\")\n",
        "\n",
        "  if unique_date_strings:\n",
        "      # Initial values for dropdowns\n",
        "      initial_selected_date_str = unique_date_strings[0]\n",
        "      initial_hour_choices = date_to_hours_map.get(initial_selected_date_str, [])\n",
        "      initial_selected_hour_str = initial_hour_choices[0] if initial_hour_choices else None\n",
        "\n",
        "      date_dropdown = gr.Dropdown(\n",
        "          choices=unique_date_strings, # STRING choices\n",
        "          value=initial_selected_date_str, # STRING value\n",
        "          label=\"Select Date\"\n",
        "      )\n",
        "\n",
        "      time_dropdown = gr.Dropdown(\n",
        "          choices=initial_hour_choices, # Hour choices (can be string or int)\n",
        "          value=initial_selected_hour_str, # Initial hour value\n",
        "          label=\"Select Start Hour for 1 Hour Interval\"\n",
        "      )\n",
        "\n",
        "      #ToDo: Maybe add a option to choose which gragh is the main, and show it first bigger\n",
        "\n",
        "      with gr.Row():\n",
        "          plot_dlight_out = gr.Plot(label=\"Outdoor Dlight\")\n",
        "          plot_temp_out = gr.Plot(label=\"Outdoor Temperature\")\n",
        "      with gr.Row():\n",
        "          plot_humidity_out = gr.Plot(label=\"Outdoor Humidity\")\n",
        "          plot_humidity_in = gr.Plot(label=\"Indoor Humidity\")\n",
        "      with gr.Row():\n",
        "          plot_temp_in = gr.Plot(label=\"Indoor Temperature\")\n",
        "          plot_pressure_in = gr.Plot(label=\"Indoor Pressure\")\n",
        "      with gr.Row():\n",
        "          plot_distance_in = gr.Plot(label=\"Indoor Distance\")\n",
        "\n",
        "      plot_outputs_list = [\n",
        "          plot_dlight_out, plot_temp_out, plot_humidity_out,\n",
        "          plot_humidity_in, plot_temp_in, plot_pressure_in, plot_distance_in\n",
        "      ]\n",
        "\n",
        "      def update_hour_dropdown_and_plots(selected_date_str_event):\n",
        "          # This function is triggered by date_dropdown change.\n",
        "          # It needs to update hour_dropdown's choices AND trigger plot regeneration.\n",
        "          new_hour_choices = date_to_hours_map.get(selected_date_str_event, [])\n",
        "          new_selected_hour = new_hour_choices[0] if new_hour_choices else None\n",
        "\n",
        "          # Update plots based on the new date and the first available hour\n",
        "          plot_updates = generate_plots(selected_date_str_event, new_selected_hour)\n",
        "\n",
        "          # Return updates for time_dropdown and all plot outputs\n",
        "          return [gr.update(choices=new_hour_choices, value=new_selected_hour)] + list(plot_updates if plot_updates else [None]*7)\n",
        "\n",
        "      date_dropdown.change(\n",
        "          fn=update_hour_dropdown_and_plots,#update_hour_dropdown_and_plots,\n",
        "          inputs=date_dropdown, # Passes selected string date\n",
        "          outputs=[time_dropdown] + plot_outputs_list # Update time_dropdown AND all plots\n",
        "      )\n",
        "\n",
        "      time_dropdown.change(\n",
        "          fn=generate_plots, # Already expects string date and string hour\n",
        "          inputs=[date_dropdown, time_dropdown],\n",
        "          outputs=plot_outputs_list # Correct: output to the plot components\n",
        "      )\n",
        "\n",
        "      # Initial plot generation on load\n",
        "      demo.load(\n",
        "          fn=generate_plots,\n",
        "          inputs=[date_dropdown, time_dropdown], # Will use initial string values\n",
        "          outputs=plot_outputs_list\n",
        "      )\n",
        "  else:\n",
        "      gr.Markdown(\"No data available to determine dates from Firebase.\")\n",
        "\n",
        "demo.launch()"
      ],
      "metadata": {
        "colab": {
          "base_uri": "https://localhost:8080/",
          "height": 676
        },
        "id": "I_vYOoWXAxER",
        "outputId": "1e130e06-a656-4d97-f6bb-48514ae5cebc"
      },
      "execution_count": 5,
      "outputs": [
        {
          "output_type": "stream",
          "name": "stdout",
          "text": [
            "IMPORTANT: You are using gradio version 3.50.2, however version 4.44.1 is available, please upgrade.\n",
            "--------\n",
            "Setting queue=True in a Colab notebook requires sharing enabled. Setting `share=True` (you can turn this off by setting `share=False` in `launch()` explicitly).\n",
            "\n",
            "Colab notebook detected. To show errors in colab notebook, set debug=True in launch()\n",
            "Running on public URL: https://e774d8321039e0b5e2.gradio.live\n",
            "\n",
            "This share link expires in 72 hours. For free permanent hosting and GPU upgrades, run `gradio deploy` from Terminal to deploy to Spaces (https://huggingface.co/spaces)\n"
          ]
        },
        {
          "output_type": "display_data",
          "data": {
            "text/plain": [
              "<IPython.core.display.HTML object>"
            ],
            "text/html": [
              "<div><iframe src=\"https://e774d8321039e0b5e2.gradio.live\" width=\"100%\" height=\"500\" allow=\"autoplay; camera; microphone; clipboard-read; clipboard-write;\" frameborder=\"0\" allowfullscreen></iframe></div>"
            ]
          },
          "metadata": {}
        },
        {
          "output_type": "execute_result",
          "data": {
            "text/plain": []
          },
          "metadata": {},
          "execution_count": 5
        }
      ]
    }
  ]
}