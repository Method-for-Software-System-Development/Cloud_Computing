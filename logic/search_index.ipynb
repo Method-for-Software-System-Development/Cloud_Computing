{
  "nbformat": 4,
  "nbformat_minor": 0,
  "metadata": {
    "colab": {
      "provenance": [],
      "include_colab_link": true
    },
    "kernelspec": {
      "name": "python3",
      "display_name": "Python 3"
    },
    "language_info": {
      "name": "python"
    }
  },
  "cells": [
    {
      "cell_type": "markdown",
      "metadata": {
        "id": "view-in-github",
        "colab_type": "text"
      },
      "source": [
        "<a href=\"https://colab.research.google.com/github/Method-for-Software-System-Development/Cloud_Computing/blob/develop/logic/search_index.ipynb\" target=\"_parent\"><img src=\"https://colab.research.google.com/assets/colab-badge.svg\" alt=\"Open In Colab\"/></a>"
      ]
    },
    {
      "cell_type": "code",
      "execution_count": null,
      "metadata": {
        "id": "WHxMC3X59fzQ"
      },
      "outputs": [],
      "source": [
        "DBLink = \"https://optiline-kakado-default-rtdb.europe-west1.firebasedatabase.app/\"\n",
        "url = 'https://mqtt.org/'\n",
        "\n",
        "import requests\n",
        "import re\n",
        "from bs4 import BeautifulSoup\n",
        "from nltk.stem import PorterStemmer\n",
        "from firebase import firebase\n",
        "import matplotlib.pyplot as plt\n",
        "from urllib.parse import urljoin\n",
        "\n",
        "\n",
        "# --- Save the index to FireBase ---\n",
        "\n",
        "# Initialize Firebase connection\n",
        "FBconn = firebase.FirebaseApplication(DBLink, None)\n",
        "\n",
        "from difflib import get_close_matches\n",
        "\n",
        "def read_index_from_firebase():\n",
        "  \"\"\"Reads the site index from the Firebase database.\"\"\"\n",
        "  FBconn = firebase.FirebaseApplication(DBLink, None)\n",
        "  site_index = FBconn.get('/', 'site_index')\n",
        "  return site_index if site_index else {}\n",
        "\n",
        "def search_words(query):\n",
        "    \"\"\"\n",
        "    Searches for words in the index and returns the URLs ordered by count.\n",
        "    Attempts to fix typos and suggest unstemmed words from a dictionary.\n",
        "    Formats output as HTML with clickable links.\n",
        "    \"\"\"\n",
        "    site_index = read_index_from_firebase()\n",
        "    if not site_index:\n",
        "        # Return a simple error message formatted as HTML\n",
        "        return \"<p>Error: Could not read index from Firebase.</p>\"\n",
        "\n",
        "    stemmer = PorterStemmer()\n",
        "    query_words = re.findall(r'\\w+', query.lower())\n",
        "    output_html = \"\" # Use an HTML string for output\n",
        "\n",
        "    for word in query_words:\n",
        "        stemmed_word = stemmer.stem(word)\n",
        "\n",
        "        if stemmed_word in site_index:\n",
        "            output_html += f\"<h2>Results for '{word}':</h2>\"\n",
        "            # Get the url with the counter\n",
        "            word_index = [(site_index[stemmed_word]['DocIDs'][i], site_index[stemmed_word]['DocCounts'][i]) for i in range(len(site_index[stemmed_word]['DocIDs']))]\n",
        "\n",
        "            # Sort URLs by count in descending order\n",
        "            sorted_urls = sorted(word_index, key=lambda item: item[1], reverse=True)\n",
        "            output_html += \"<ul>\" # Use an unordered list for the links\n",
        "            for url, count in sorted_urls:\n",
        "                # Format the URL as an HTML link\n",
        "                output_html += f\"<li><a href='{url}' target='_blank'>{url}</a> (Count: {count})</li>\"\n",
        "            output_html += \"</ul>\"\n",
        "            output_html += \"<br>\" # Add a break after each word's results\n",
        "        else:\n",
        "            # Try to fix typo (search for the steammed word)\n",
        "            # ToDo?: try to create the currect word\n",
        "            all_words = list(site_index.keys())\n",
        "            matches = get_close_matches(stemmed_word, all_words, n=1, cutoff=0.8)\n",
        "            if matches:\n",
        "                corrected_stemmed_word = matches[0]\n",
        "\n",
        "                output_html += f\"<p>Did you mean '{corrected_stemmed_word}'?</p>\"\n",
        "                output_html += f\"<h2>Results for '{corrected_stemmed_word}':</h2>\"\n",
        "\n",
        "                # Get the url with the counter\n",
        "                word_index = [(site_index[corrected_stemmed_word]['DocIDs'][i], site_index[corrected_stemmed_word]['DocCounts'][i]) for i in range(len(site_index[corrected_stemmed_word]['DocIDs']))]\n",
        "\n",
        "                # Sort URLs by count in descending order\n",
        "                sorted_urls = sorted(word_index, key=lambda item: item[1], reverse=True)\n",
        "                output_html += \"<ul>\" # Use an unordered list for the links\n",
        "                for url, count in sorted_urls:\n",
        "                     # Format the URL as an HTML link\n",
        "                     output_html += f\"<li><a href='{url}' target='_blank'>{url}</a> (Count: {count})</li>\"\n",
        "                output_html += \"</ul>\"\n",
        "                output_html += \"<br>\"\n",
        "            else:\n",
        "                output_html += f\"<p>No results found for '{word}' and no close matches found.</p><br>\"\n",
        "\n",
        "    if not output_html: # Check if any output was generated\n",
        "        return \"<p>No results found for your query.</p>\"\n",
        "\n",
        "    return output_html"
      ]
    }
  ]
}