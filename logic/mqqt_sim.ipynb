{
  "nbformat": 4,
  "nbformat_minor": 0,
  "metadata": {
    "colab": {
      "provenance": [],
      "authorship_tag": "ABX9TyMGp3UcF/iIOACEbj200/LL",
      "include_colab_link": true
    },
    "kernelspec": {
      "name": "python3",
      "display_name": "Python 3"
    },
    "language_info": {
      "name": "python"
    }
  },
  "cells": [
    {
      "cell_type": "markdown",
      "metadata": {
        "id": "view-in-github",
        "colab_type": "text"
      },
      "source": [
        "<a href=\"https://colab.research.google.com/github/Method-for-Software-System-Development/Cloud_Computing/blob/develop/logic/mqqt_sim.ipynb\" target=\"_parent\"><img src=\"https://colab.research.google.com/assets/colab-badge.svg\" alt=\"Open In Colab\"/></a>"
      ]
    },
    {
      "cell_type": "code",
      "execution_count": null,
      "metadata": {
        "colab": {
          "base_uri": "https://localhost:8080/"
        },
        "id": "XYzv4RAB2Zrf",
        "outputId": "b1ce3e27-2d78-47fb-bfbb-f1976f8d238d"
      },
      "outputs": [
        {
          "output_type": "stream",
          "name": "stdout",
          "text": [
            "Collecting paho-mqtt\n",
            "  Downloading paho_mqtt-2.1.0-py3-none-any.whl.metadata (23 kB)\n",
            "Downloading paho_mqtt-2.1.0-py3-none-any.whl (67 kB)\n",
            "\u001b[2K   \u001b[90m━━━━━━━━━━━━━━━━━━━━━━━━━━━━━━━━━━━━━━━━\u001b[0m \u001b[32m67.2/67.2 kB\u001b[0m \u001b[31m2.5 MB/s\u001b[0m eta \u001b[36m0:00:00\u001b[0m\n",
            "\u001b[?25hInstalling collected packages: paho-mqtt\n",
            "Successfully installed paho-mqtt-2.1.0\n"
          ]
        }
      ],
      "source": [
        "pip install paho-mqtt"
      ]
    },
    {
      "cell_type": "code",
      "source": [
        "import paho.mqtt.client as mqtt\n",
        "import json\n",
        "import random\n",
        "import time\n",
        "\n",
        "# ========== Configuration ==========\n",
        "\n",
        "MODE = \"simulation\"  # Change to \"mqtt\" for live MQTT mode\n",
        "\n",
        "MQTT_BROKER = \"test.mosquitto.org\"\n",
        "MQTT_TOPIC = \"braude/D106/indoor\"\n",
        "MQTT_PORT = 1883\n",
        "\n",
        "\n",
        "# ========== Message Object for Simulation ==========\n",
        "\n",
        "class FakeMessage:\n",
        "    \"\"\"\n",
        "    A mock message class to simulate an MQTT message structure.\n",
        "    \"\"\"\n",
        "    def __init__(self, payload_dict):\n",
        "        self.payload = json.dumps(payload_dict).encode()\n",
        "\n",
        "\n",
        "# ========== Callback Function ==========\n",
        "\n",
        "def on_message(client, userdata, msg):\n",
        "    \"\"\"\n",
        "    Parses an incoming MQTT message payload and prints the sensor data.\n",
        "\n",
        "    Args:\n",
        "        client: The MQTT client instance (unused in simulation).\n",
        "        userdata: User-defined data passed to the callback (unused).\n",
        "        msg: Message object containing 'payload' as bytes with JSON content.\n",
        "    \"\"\"\n",
        "    try:\n",
        "        data = json.loads(msg.payload.decode())\n",
        "\n",
        "        temperature = data.get(\"Temperature\", \"N/A\")\n",
        "        humidity = data.get(\"Humidity\", \"N/A\")\n",
        "        pressure = data.get(\"Pressure\", \"N/A\")\n",
        "\n",
        "        print(f\"Temperature: {temperature}°C\")\n",
        "        print(f\"Humidity: {humidity}%\")\n",
        "        print(f\"Pressure: {pressure} hPa\")\n",
        "        print(\"-\" * 30)\n",
        "\n",
        "    except json.JSONDecodeError:\n",
        "        print(\"Received invalid JSON data\")\n",
        "\n",
        "\n",
        "# ========== Simulation Mode ==========\n",
        "\n",
        "def run_simulation(delay_seconds=2):\n",
        "    \"\"\"\n",
        "    Continuously simulates sensor data messages.\n",
        "    \"\"\"\n",
        "    while True:\n",
        "        simulated_data = {\n",
        "            \"Temperature\": round(random.uniform(22, 28), 2),\n",
        "            \"Humidity\": round(random.uniform(40, 70), 2),\n",
        "            \"Pressure\": round(random.uniform(1005, 1020), 2)\n",
        "        }\n",
        "        fake_msg = FakeMessage(simulated_data)\n",
        "        on_message(None, None, fake_msg)\n",
        "        time.sleep(delay_seconds)\n",
        "\n",
        "\n",
        "# ========== MQTT Live Mode ==========\n",
        "\n",
        "def run_mqtt():\n",
        "    \"\"\"\n",
        "    Connects to the MQTT broker and subscribes to the topic.\n",
        "    Runs a blocking loop to listen for incoming messages.\n",
        "    \"\"\"\n",
        "    client = mqtt.Client()\n",
        "    client.on_message = on_message\n",
        "\n",
        "    print(f\"Connecting to MQTT broker at {MQTT_BROKER}:{MQTT_PORT}...\")\n",
        "    client.connect(MQTT_BROKER, MQTT_PORT, keepalive=60)\n",
        "\n",
        "    print(f\"Subscribing to topic: {MQTT_TOPIC}\")\n",
        "    client.subscribe(MQTT_TOPIC)\n",
        "\n",
        "    print(\"Waiting for messages. Press stop to exit.\")\n",
        "    client.loop_forever()\n",
        "\n",
        "\n",
        "# ========== Main Runner ==========\n",
        "\n",
        "if MODE == \"simulation\":\n",
        "    print(\"Running in SIMULATION mode...\\n\")\n",
        "    run_simulation()\n",
        "elif MODE == \"mqtt\":\n",
        "    print(\"Running in MQTT LIVE mode...\")\n",
        "    run_mqtt()\n",
        "else:\n",
        "    print(f\"Unknown mode: {MODE}. Please choose 'simulation' or 'mqtt'.\")"
      ],
      "metadata": {
        "colab": {
          "base_uri": "https://localhost:8080/",
          "height": 1000
        },
        "id": "ObBRJu844E_g",
        "outputId": "f12ac229-7cad-4f4b-a5ae-17cede43f2cc"
      },
      "execution_count": null,
      "outputs": [
        {
          "output_type": "stream",
          "name": "stdout",
          "text": [
            "Running in SIMULATION mode...\n",
            "\n",
            "Temperature: 26.75°C\n",
            "Humidity: 51.28%\n",
            "Pressure: 1010.97 hPa\n",
            "------------------------------\n",
            "Temperature: 22.73°C\n",
            "Humidity: 67.02%\n",
            "Pressure: 1006.22 hPa\n",
            "------------------------------\n",
            "Temperature: 22.2°C\n",
            "Humidity: 58.23%\n",
            "Pressure: 1006.23 hPa\n",
            "------------------------------\n",
            "Temperature: 27.07°C\n",
            "Humidity: 44.24%\n",
            "Pressure: 1005.03 hPa\n",
            "------------------------------\n",
            "Temperature: 24.14°C\n",
            "Humidity: 63.65%\n",
            "Pressure: 1007.54 hPa\n",
            "------------------------------\n",
            "Temperature: 26.96°C\n",
            "Humidity: 62.58%\n",
            "Pressure: 1009.1 hPa\n",
            "------------------------------\n",
            "Temperature: 27.11°C\n",
            "Humidity: 54.96%\n",
            "Pressure: 1006.58 hPa\n",
            "------------------------------\n",
            "Temperature: 27.04°C\n",
            "Humidity: 51.49%\n",
            "Pressure: 1010.88 hPa\n",
            "------------------------------\n",
            "Temperature: 25.68°C\n",
            "Humidity: 57.88%\n",
            "Pressure: 1010.63 hPa\n",
            "------------------------------\n",
            "Temperature: 22.76°C\n",
            "Humidity: 68.12%\n",
            "Pressure: 1011.34 hPa\n",
            "------------------------------\n"
          ]
        },
        {
          "output_type": "error",
          "ename": "KeyboardInterrupt",
          "evalue": "",
          "traceback": [
            "\u001b[0;31m---------------------------------------------------------------------------\u001b[0m",
            "\u001b[0;31mKeyboardInterrupt\u001b[0m                         Traceback (most recent call last)",
            "\u001b[0;32m<ipython-input-6-b1312f9eefb0>\u001b[0m in \u001b[0;36m<cell line: 0>\u001b[0;34m()\u001b[0m\n\u001b[1;32m     91\u001b[0m \u001b[0;32mif\u001b[0m \u001b[0mMODE\u001b[0m \u001b[0;34m==\u001b[0m \u001b[0;34m\"simulation\"\u001b[0m\u001b[0;34m:\u001b[0m\u001b[0;34m\u001b[0m\u001b[0;34m\u001b[0m\u001b[0m\n\u001b[1;32m     92\u001b[0m     \u001b[0mprint\u001b[0m\u001b[0;34m(\u001b[0m\u001b[0;34m\"Running in SIMULATION mode...\\n\"\u001b[0m\u001b[0;34m)\u001b[0m\u001b[0;34m\u001b[0m\u001b[0;34m\u001b[0m\u001b[0m\n\u001b[0;32m---> 93\u001b[0;31m     \u001b[0mrun_simulation\u001b[0m\u001b[0;34m(\u001b[0m\u001b[0;34m)\u001b[0m\u001b[0;34m\u001b[0m\u001b[0;34m\u001b[0m\u001b[0m\n\u001b[0m\u001b[1;32m     94\u001b[0m \u001b[0;32melif\u001b[0m \u001b[0mMODE\u001b[0m \u001b[0;34m==\u001b[0m \u001b[0;34m\"mqtt\"\u001b[0m\u001b[0;34m:\u001b[0m\u001b[0;34m\u001b[0m\u001b[0;34m\u001b[0m\u001b[0m\n\u001b[1;32m     95\u001b[0m     \u001b[0mprint\u001b[0m\u001b[0;34m(\u001b[0m\u001b[0;34m\"Running in MQTT LIVE mode...\"\u001b[0m\u001b[0;34m)\u001b[0m\u001b[0;34m\u001b[0m\u001b[0;34m\u001b[0m\u001b[0m\n",
            "\u001b[0;32m<ipython-input-6-b1312f9eefb0>\u001b[0m in \u001b[0;36mrun_simulation\u001b[0;34m(delay_seconds)\u001b[0m\n\u001b[1;32m     64\u001b[0m         \u001b[0mfake_msg\u001b[0m \u001b[0;34m=\u001b[0m \u001b[0mFakeMessage\u001b[0m\u001b[0;34m(\u001b[0m\u001b[0msimulated_data\u001b[0m\u001b[0;34m)\u001b[0m\u001b[0;34m\u001b[0m\u001b[0;34m\u001b[0m\u001b[0m\n\u001b[1;32m     65\u001b[0m         \u001b[0mon_message\u001b[0m\u001b[0;34m(\u001b[0m\u001b[0;32mNone\u001b[0m\u001b[0;34m,\u001b[0m \u001b[0;32mNone\u001b[0m\u001b[0;34m,\u001b[0m \u001b[0mfake_msg\u001b[0m\u001b[0;34m)\u001b[0m\u001b[0;34m\u001b[0m\u001b[0;34m\u001b[0m\u001b[0m\n\u001b[0;32m---> 66\u001b[0;31m         \u001b[0mtime\u001b[0m\u001b[0;34m.\u001b[0m\u001b[0msleep\u001b[0m\u001b[0;34m(\u001b[0m\u001b[0mdelay_seconds\u001b[0m\u001b[0;34m)\u001b[0m\u001b[0;34m\u001b[0m\u001b[0;34m\u001b[0m\u001b[0m\n\u001b[0m\u001b[1;32m     67\u001b[0m \u001b[0;34m\u001b[0m\u001b[0m\n\u001b[1;32m     68\u001b[0m \u001b[0;34m\u001b[0m\u001b[0m\n",
            "\u001b[0;31mKeyboardInterrupt\u001b[0m: "
          ]
        }
      ]
    }
  ]
}