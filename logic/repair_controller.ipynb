{
  "nbformat": 4,
  "nbformat_minor": 0,
  "metadata": {
    "colab": {
      "provenance": [],
      "authorship_tag": "ABX9TyNLICZyTTblC4xYtdlCsXUC",
      "include_colab_link": true
    },
    "kernelspec": {
      "name": "python3",
      "display_name": "Python 3"
    },
    "language_info": {
      "name": "python"
    }
  },
  "cells": [
    {
      "cell_type": "markdown",
      "metadata": {
        "id": "view-in-github",
        "colab_type": "text"
      },
      "source": [
        "<a href=\"https://colab.research.google.com/github/Method-for-Software-System-Development/Cloud_Computing/blob/develop/logic/repair_controller.ipynb\" target=\"_parent\"><img src=\"https://colab.research.google.com/assets/colab-badge.svg\" alt=\"Open In Colab\"/></a>"
      ]
    },
    {
      "cell_type": "code",
      "source": [
        "# Navigate to project folder and ensure we're on the 'develop' branch\n",
        "import os, subprocess, sys\n",
        "\n",
        "REPO_DIR = \"/content/Cloud_Computing\"\n",
        "if not os.path.isdir(REPO_DIR):\n",
        "    subprocess.run([\n",
        "        \"git\", \"clone\", \"-b\", \"develop\",\n",
        "        \"https://github.com/Method-for-Software-System-Development/Cloud_Computing.git\",\n",
        "        REPO_DIR\n",
        "    ], check=True)\n",
        "\n",
        "# Update & checkout develop if repo already exists\n",
        "subprocess.run([\"git\", \"-C\", REPO_DIR, \"fetch\", \"origin\"], check=True)\n",
        "subprocess.run([\"git\", \"-C\", REPO_DIR, \"checkout\", \"develop\"], check=True)\n",
        "subprocess.run([\"git\", \"-C\", REPO_DIR, \"pull\"], check=True)\n",
        "\n",
        "# Install importnb (only needed once per session)\n",
        "%pip install importnb --quiet\n",
        "\n",
        "# Add firebase folder to Python path and import its notebook as module\n",
        "sys.path.append(os.path.join(REPO_DIR, \"firebase\"))\n",
        "from importnb import Notebook\n",
        "\n",
        "with Notebook():\n",
        "    import FireBase as fb\n",
        "\n",
        "from datetime import datetime\n",
        "\n"
      ],
      "metadata": {
        "id": "JzpApTxMO3Z8"
      },
      "execution_count": 3,
      "outputs": []
    },
    {
      "cell_type": "code",
      "execution_count": 5,
      "metadata": {
        "id": "SgPuRYL1hvNX"
      },
      "outputs": [],
      "source": [
        "# Calculate score for a fault based on severity and time since it was reported\n",
        "def calculate_fault_score(fault):\n",
        "    severity_multipliers = {\n",
        "        \"Low\": 1,\n",
        "        \"Medium\": 2,\n",
        "        \"High\": 3,\n",
        "        \"Critical\": 5\n",
        "    }\n",
        "\n",
        "    severity = fault.get(\"severity\", \"Low\")\n",
        "    multiplier = severity_multipliers.get(severity, 1)\n",
        "\n",
        "    try:\n",
        "        fault_time = datetime.fromisoformat(fault[\"timestamp\"])\n",
        "        hours_passed = max(1, round((datetime.now() - fault_time).total_seconds() / 3600))\n",
        "    except Exception:\n",
        "        hours_passed = 1  # Default to 1 hour if timestamp is invalid\n",
        "\n",
        "    return multiplier * hours_passed\n",
        "\n",
        "\n",
        "# Handle the full repair process: fetch fault, calculate score, update user and fault\n",
        "def handle_fault_repair(sensor: str, username: str):\n",
        "    \"\"\"\n",
        "    Repairs a fault and updates the user's score accordingly.\n",
        "\n",
        "    Steps:\n",
        "    1. Retrieve fault data\n",
        "    2. Calculate the fault score based on severity and elapsed time\n",
        "    3. Mark the fault as repaired\n",
        "    4. Update the user's total score in Firebase\n",
        "\n",
        "    Returns a status message.\n",
        "    \"\"\"\n",
        "    # Step 1: Get the fault details\n",
        "    code, fault = fb.get_fault(sensor)\n",
        "    if code != 200 or fault is None:\n",
        "        return f\"Fault '{sensor}' not found.\"\n",
        "\n",
        "    # Step 2: Calculate the score for repairing this fault\n",
        "    score = calculate_fault_score(fault)\n",
        "\n",
        "    # Step 3: Mark the fault as repaired in Firebase\n",
        "    code, updated_fault = fb.mark_fault_as_repaired(sensor, username)\n",
        "    if code != 200:\n",
        "        return f\"Failed to mark fault as repaired: {updated_fault.get('error', 'Unknown error')}\"\n",
        "\n",
        "    # Step 4: Retrieve the user data\n",
        "    code, user_data = fb.get_user(username)\n",
        "    if code != 200 or user_data is None:\n",
        "        return f\"User '{username}' not found.\"\n",
        "\n",
        "    # Step 5: Update the user's score\n",
        "    current_score = user_data.get(\"score\", 0)\n",
        "    new_score = current_score + score\n",
        "    fb.update_user(username, {\"score\": new_score})\n",
        "\n",
        "    return f\"Fault '{sensor}' repaired by {username}. Awarded {score} points (Total: {new_score}).\"\n"
      ]
    }
  ]
}