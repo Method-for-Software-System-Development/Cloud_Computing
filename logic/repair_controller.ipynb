{
  "nbformat": 4,
  "nbformat_minor": 0,
  "metadata": {
    "colab": {
      "provenance": [],
      "authorship_tag": "ABX9TyOvYil5agiZLGgQ9/2+4izd",
      "include_colab_link": true
    },
    "kernelspec": {
      "name": "python3",
      "display_name": "Python 3"
    },
    "language_info": {
      "name": "python"
    }
  },
  "cells": [
    {
      "cell_type": "markdown",
      "metadata": {
        "id": "view-in-github",
        "colab_type": "text"
      },
      "source": [
        "<a href=\"https://colab.research.google.com/github/Method-for-Software-System-Development/Cloud_Computing/blob/develop/logic/repair_controller.ipynb\" target=\"_parent\"><img src=\"https://colab.research.google.com/assets/colab-badge.svg\" alt=\"Open In Colab\"/></a>"
      ]
    },
    {
      "cell_type": "code",
      "source": [
        "# Navigate to project folder and ensure we're on the 'develop' branch\n",
        "import os, subprocess, sys\n",
        "\n",
        "REPO_DIR = \"/content/Cloud_Computing\"\n",
        "if not os.path.isdir(REPO_DIR):\n",
        "    subprocess.run([\n",
        "        \"git\", \"clone\", \"-b\", \"develop\",\n",
        "        \"https://github.com/Method-for-Software-System-Development/Cloud_Computing.git\",\n",
        "        REPO_DIR\n",
        "    ], check=True)\n",
        "\n",
        "# Update & checkout develop if repo already exists\n",
        "subprocess.run([\"git\", \"-C\", REPO_DIR, \"fetch\", \"origin\"], check=True)\n",
        "subprocess.run([\"git\", \"-C\", REPO_DIR, \"checkout\", \"develop\"], check=True)\n",
        "subprocess.run([\"git\", \"-C\", REPO_DIR, \"pull\"], check=True)\n",
        "\n",
        "# Install importnb (only needed once per session)\n",
        "%pip install importnb --quiet\n",
        "\n",
        "# Add firebase folder to Python path and import its notebook as module\n",
        "sys.path.append(os.path.join(REPO_DIR, \"firebase\"))\n",
        "from importnb import Notebook\n",
        "\n",
        "with Notebook():\n",
        "    import FireBase as fb\n",
        "\n",
        "from datetime import datetime\n",
        "\n"
      ],
      "metadata": {
        "id": "JzpApTxMO3Z8"
      },
      "execution_count": null,
      "outputs": []
    },
    {
      "cell_type": "code",
      "source": [
        "def start_repair(sensor: str):\n",
        "    \"\"\"\n",
        "    Logs the start time of a repair process.\n",
        "    This function does not give points – only starts the timer.\n",
        "    \"\"\"\n",
        "    code, fault = fb.get_fault(sensor)\n",
        "    if code != 200 or fault is None:\n",
        "        return f\"Fault '{sensor}' not found.\"\n",
        "\n",
        "    now_iso = datetime.now().isoformat()\n",
        "    fb.update_fault(sensor, {\"repair_start_time\": now_iso, \"status\": \"Repair Started\"})\n",
        "    return f\"Repair for '{sensor}' started at {now_iso}.\"\n",
        "\n",
        "def calculate_fault_score(fault):\n",
        "    severity_multipliers = {\n",
        "        \"Low\": 1,\n",
        "        \"Medium\": 2,\n",
        "        \"High\": 3,\n",
        "        \"Critical\": 5\n",
        "    }\n",
        "\n",
        "    severity = fault.get(\"severity\", \"Low\")\n",
        "    multiplier = severity_multipliers.get(severity, 1)\n",
        "\n",
        "    try:\n",
        "        start_time = datetime.fromisoformat(fault[\"repair_start_time\"])\n",
        "        end_time = datetime.now()\n",
        "        minutes_passed = max(1, (end_time - start_time).total_seconds() / 60)\n",
        "    except Exception:\n",
        "        minutes_passed = 1\n",
        "\n",
        "    score = round(multiplier * (60 / minutes_passed))\n",
        "    return max(1, score)\n",
        "\n",
        "def complete_repair(sensor: str, username: str):\n",
        "    \"\"\"\n",
        "    Completes the repair, updates score, and marks fault as repaired.\n",
        "    \"\"\"\n",
        "    code, fault = fb.get_fault(sensor)\n",
        "    if code != 200 or fault is None:\n",
        "        return f\"Fault '{sensor}' not found.\"\n",
        "\n",
        "    score = calculate_fault_score(fault)\n",
        "\n",
        "    fb.mark_fault_as_repaired(sensor, username)\n",
        "\n",
        "    code, user_data = fb.get_user(username)\n",
        "    if code != 200 or user_data is None:\n",
        "        return f\"User '{username}' not found.\"\n",
        "\n",
        "    current_score = user_data.get(\"score\", 0)\n",
        "    new_score = current_score + score\n",
        "    fb.update_user(username, {\"score\": new_score})\n",
        "\n",
        "    return f\"✅ Fault '{sensor}' repaired by {username}. +{score} XP (Total: {new_score}).\""
      ],
      "metadata": {
        "id": "uWtBoHm-3BfL"
      },
      "execution_count": null,
      "outputs": []
    }
  ]
}