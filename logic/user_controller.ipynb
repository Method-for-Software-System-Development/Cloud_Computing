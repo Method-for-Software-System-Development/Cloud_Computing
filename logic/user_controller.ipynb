{
  "nbformat": 4,
  "nbformat_minor": 0,
  "metadata": {
    "colab": {
      "provenance": [],
      "authorship_tag": "ABX9TyN5aXvcNkeAJ9h9OXp7izhT",
      "include_colab_link": true
    },
    "kernelspec": {
      "name": "python3",
      "display_name": "Python 3"
    },
    "language_info": {
      "name": "python"
    }
  },
  "cells": [
    {
      "cell_type": "markdown",
      "metadata": {
        "id": "view-in-github",
        "colab_type": "text"
      },
      "source": [
        "<a href=\"https://colab.research.google.com/github/Method-for-Software-System-Development/Cloud_Computing/blob/develop/logic/user_controller.ipynb\" target=\"_parent\"><img src=\"https://colab.research.google.com/assets/colab-badge.svg\" alt=\"Open In Colab\"/></a>"
      ]
    },
    {
      "cell_type": "code",
      "source": [
        "# Navigate to project folder and ensure we're on the 'develop' branch\n",
        "import os, subprocess, sys\n",
        "\n",
        "REPO_DIR = \"/content/Cloud_Computing\"\n",
        "if not os.path.isdir(REPO_DIR):\n",
        "    subprocess.run([\n",
        "        \"git\", \"clone\", \"-b\", \"develop\",\n",
        "        \"https://github.com/Method-for-Software-System-Development/Cloud_Computing.git\",\n",
        "        REPO_DIR\n",
        "    ], check=True)\n",
        "\n",
        "# Update & checkout develop if repo already exists\n",
        "subprocess.run([\"git\", \"-C\", REPO_DIR, \"fetch\", \"origin\"], check=True)\n",
        "subprocess.run([\"git\", \"-C\", REPO_DIR, \"checkout\", \"develop\"], check=True)\n",
        "subprocess.run([\"git\", \"-C\", REPO_DIR, \"pull\"], check=True)\n",
        "\n",
        "# Install importnb (only needed once per session)\n",
        "%pip install importnb --quiet\n",
        "\n",
        "# Add firebase folder to Python path and import its notebook as module\n",
        "sys.path.append(os.path.join(REPO_DIR, \"firebase\"))\n",
        "from importnb import Notebook\n",
        "\n",
        "with Notebook():\n",
        "    import FireBase as fb   # now fb.add_user, fb.get_user, etc. are available\n"
      ],
      "metadata": {
        "id": "JXJzG72LW8qc"
      },
      "execution_count": 17,
      "outputs": []
    },
    {
      "cell_type": "code",
      "source": [
        "def login(username: str, password: str) -> bool:\n",
        "    # Try direct key lookup first\n",
        "    status, user = fb.get_user(username)\n",
        "    if status == 200 and user and user.get(\"password\") == password:\n",
        "        return True\n",
        "\n",
        "    # Fallback: scan all users and compare 'username' field\n",
        "    status, all_users = fb.get_all_users()\n",
        "    if status != 200 or all_users is None:\n",
        "        return False\n",
        "\n",
        "    for u in all_users.values():\n",
        "        if u.get(\"username\") == username and u.get(\"password\") == password:\n",
        "            return True\n",
        "\n",
        "    return False\n",
        "\n"
      ],
      "metadata": {
        "id": "j6777toLW9wl"
      },
      "execution_count": 18,
      "outputs": []
    },
    {
      "cell_type": "code",
      "source": [
        "def get_leaderboard(current_user: str, top_n: int = 5):\n",
        "    \"\"\"\n",
        "    Returns a leaderboard with top N users sorted by score.\n",
        "    If the current user is not in the top N, also returns their actual rank.\n",
        "\n",
        "    Args:\n",
        "        current_user (str): the value of \"user_name\" of the logged-in user\n",
        "        top_n (int): number of top users to return\n",
        "\n",
        "    Returns:\n",
        "        list of (rank, name, score), and index of current_user in full list\n",
        "    \"\"\"\n",
        "    status, all_users = fb.get_user(\"\")  # get all /users\n",
        "    if status != 200 or not all_users:\n",
        "        return [], None\n",
        "\n",
        "    # Build list of (user_name, score)\n",
        "    all_scores = []\n",
        "    for uid, user in all_users.items():\n",
        "        name = user.get(\"username\", uid)\n",
        "        score = user.get(\"score\", 0)\n",
        "        all_scores.append((name, score))\n",
        "\n",
        "    # Sort by score descending\n",
        "    all_scores.sort(key=lambda x: x[1], reverse=True)\n",
        "\n",
        "    # Add ranking index\n",
        "    ranked = [(i+1, name, score) for i, (name, score) in enumerate(all_scores)]\n",
        "\n",
        "    # Extract top N\n",
        "    top_entries = ranked[:top_n]\n",
        "\n",
        "    # Find current user's rank\n",
        "    user_entry = next(((rank, name, score) for rank, name, score in ranked if name == current_user), None)\n",
        "\n",
        "    if user_entry and user_entry not in top_entries:\n",
        "        top_entries.append(user_entry)  # Add current user as last row\n",
        "\n",
        "    return top_entries, user_entry[0] if user_entry else None\n",
        "\n"
      ],
      "metadata": {
        "id": "LKGrZPbkXI5n"
      },
      "execution_count": 19,
      "outputs": []
    }
  ]
}