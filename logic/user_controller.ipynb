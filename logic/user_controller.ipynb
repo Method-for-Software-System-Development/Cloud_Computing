{
  "nbformat": 4,
  "nbformat_minor": 0,
  "metadata": {
    "colab": {
      "provenance": [],
      "authorship_tag": "ABX9TyPYyDP5BPXWtlJSsI/HII6U",
      "include_colab_link": true
    },
    "kernelspec": {
      "name": "python3",
      "display_name": "Python 3"
    },
    "language_info": {
      "name": "python"
    }
  },
  "cells": [
    {
      "cell_type": "markdown",
      "metadata": {
        "id": "view-in-github",
        "colab_type": "text"
      },
      "source": [
        "<a href=\"https://colab.research.google.com/github/Method-for-Software-System-Development/Cloud_Computing/blob/develop/logic/user_controller.ipynb\" target=\"_parent\"><img src=\"https://colab.research.google.com/assets/colab-badge.svg\" alt=\"Open In Colab\"/></a>"
      ]
    },
    {
      "cell_type": "code",
      "source": [
        "# Move to repo folder and switch to the correct branch\n",
        "%cd /content/Cloud_Computing\n",
        "\n",
        "# List all branches (for verification)\n",
        "!git branch -a\n",
        "\n",
        "# Update and switch to develop branch\n",
        "!git fetch origin\n",
        "!git checkout develop\n"
      ],
      "metadata": {
        "colab": {
          "base_uri": "https://localhost:8080/"
        },
        "id": "JXJzG72LW8qc",
        "outputId": "efd9538d-b054-40f2-bea5-15bba615f410"
      },
      "execution_count": 33,
      "outputs": [
        {
          "output_type": "stream",
          "name": "stdout",
          "text": [
            "/content/Cloud_Computing\n",
            "* \u001b[32mdevelop\u001b[m\n",
            "  main\u001b[m\n",
            "  \u001b[31mremotes/origin/HEAD\u001b[m -> origin/main\n",
            "  \u001b[31mremotes/origin/develop\u001b[m\n",
            "  \u001b[31mremotes/origin/main\u001b[m\n",
            "  \u001b[31mremotes/origin/tirgul-Noa-Tal\u001b[m\n",
            "  \u001b[31mremotes/origin/tirgul-Omer-Matan\u001b[m\n",
            "Already on 'develop'\n",
            "Your branch is up to date with 'origin/develop'.\n"
          ]
        }
      ]
    },
    {
      "cell_type": "code",
      "source": [
        "import os, sys, pprint\n",
        "\n",
        "REPO_DIR = \"/content/Cloud_Computing\"\n",
        "FIREBASE_DIR = REPO_DIR + \"/firebase\"\n",
        "\n",
        "# Check folder exists and print contents\n",
        "print(\"firebase/ exists:\", os.path.isdir(FIREBASE_DIR))\n",
        "print(\"Files inside firebase/:\")\n",
        "pprint.pp(os.listdir(FIREBASE_DIR))\n",
        "\n",
        "# Add firebase folder to Python path\n",
        "sys.path.append(FIREBASE_DIR)\n",
        "\n",
        "# Install importnb to allow importing .ipynb notebooks\n",
        "!pip -q install importnb\n",
        "\n",
        "from importnb import Notebook\n",
        "\n",
        "# Import FireBase.ipynb as module\n",
        "with Notebook():\n",
        "    import FireBase as fb\n"
      ],
      "metadata": {
        "colab": {
          "base_uri": "https://localhost:8080/"
        },
        "id": "j6777toLW9wl",
        "outputId": "258a61b0-2ffd-42d6-d913-3a3191f7844e"
      },
      "execution_count": 34,
      "outputs": [
        {
          "output_type": "stream",
          "name": "stdout",
          "text": [
            "firebase/ exists: True\n",
            "Files inside firebase/:\n",
            "['FireBase.ipynb', '__pycache__']\n"
          ]
        }
      ]
    },
    {
      "cell_type": "code",
      "source": [
        "def login(username, password):\n",
        "    \"\"\"\n",
        "    Returns True if user exists AND password matches.\n",
        "    \"\"\"\n",
        "    status, user = fb.get_user(username)\n",
        "    if status != 200 or user is None:\n",
        "        return False\n",
        "    return user.get(\"password\") == password\n"
      ],
      "metadata": {
        "id": "LKGrZPbkXI5n"
      },
      "execution_count": 35,
      "outputs": []
    }
  ]
}