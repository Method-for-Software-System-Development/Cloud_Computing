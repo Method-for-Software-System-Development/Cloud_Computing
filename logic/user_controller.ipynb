{
  "nbformat": 4,
  "nbformat_minor": 0,
  "metadata": {
    "colab": {
      "provenance": [],
      "authorship_tag": "ABX9TyN2YtomykKTWP2eYbx0quX8",
      "include_colab_link": true
    },
    "kernelspec": {
      "name": "python3",
      "display_name": "Python 3"
    },
    "language_info": {
      "name": "python"
    }
  },
  "cells": [
    {
      "cell_type": "markdown",
      "metadata": {
        "id": "view-in-github",
        "colab_type": "text"
      },
      "source": [
        "<a href=\"https://colab.research.google.com/github/Method-for-Software-System-Development/Cloud_Computing/blob/develop/logic/user_controller.ipynb\" target=\"_parent\"><img src=\"https://colab.research.google.com/assets/colab-badge.svg\" alt=\"Open In Colab\"/></a>"
      ]
    },
    {
      "cell_type": "code",
      "source": [
        "# Navigate to project folder and ensure we're on the 'develop' branch\n",
        "import os, subprocess, sys\n",
        "\n",
        "REPO_DIR = \"/content/Cloud_Computing\"\n",
        "if not os.path.isdir(REPO_DIR):\n",
        "    subprocess.run([\n",
        "        \"git\", \"clone\", \"-b\", \"develop\",\n",
        "        \"https://github.com/Method-for-Software-System-Development/Cloud_Computing.git\",\n",
        "        REPO_DIR\n",
        "    ], check=True)\n",
        "\n",
        "# Update & checkout develop if repo already exists\n",
        "subprocess.run([\"git\", \"-C\", REPO_DIR, \"fetch\", \"origin\"], check=True)\n",
        "subprocess.run([\"git\", \"-C\", REPO_DIR, \"checkout\", \"develop\"], check=True)\n",
        "subprocess.run([\"git\", \"-C\", REPO_DIR, \"pull\"], check=True)\n",
        "\n",
        "# Install importnb (only needed once per session)\n",
        "%pip install importnb --quiet\n",
        "\n",
        "# Add firebase folder to Python path and import its notebook as module\n",
        "sys.path.append(os.path.join(REPO_DIR, \"firebase\"))\n",
        "from importnb import Notebook\n",
        "\n",
        "with Notebook():\n",
        "    import FireBase as fb   # now fb.add_user, fb.get_user, etc. are available\n"
      ],
      "metadata": {
        "id": "JXJzG72LW8qc",
        "outputId": "6ab79be6-10b4-430e-96e0-072c30066e5a",
        "colab": {
          "base_uri": "https://localhost:8080/"
        }
      },
      "execution_count": 1,
      "outputs": [
        {
          "output_type": "stream",
          "name": "stdout",
          "text": [
            "\u001b[?25l   \u001b[90m━━━━━━━━━━━━━━━━━━━━━━━━━━━━━━━━━━━━━━━━\u001b[0m \u001b[32m0.0/46.0 kB\u001b[0m \u001b[31m?\u001b[0m eta \u001b[36m-:--:--\u001b[0m\r\u001b[2K   \u001b[90m━━━━━━━━━━━━━━━━━━━━━━━━━━━━━━━━━━━━━━━━\u001b[0m \u001b[32m46.0/46.0 kB\u001b[0m \u001b[31m1.1 MB/s\u001b[0m eta \u001b[36m0:00:00\u001b[0m\n",
            "\u001b[?25homer_cohen 200\n",
            "shira_gold 200\n",
            "daniel_bar 200\n",
            "roni_benami 200\n",
            "lior_levi 200\n",
            "yael_elyashiv 200\n",
            "noa_katz 200\n",
            "matan_tal 200\n",
            "or_peled 200\n",
            "tom_segal 200\n",
            "Indoor Sensor Data:\n",
            "Status: 200 | Uploaded: {'Temperature': 26.4, 'Humidity': 41.0, 'Pressure': 974.1, 'Distance': 210.1}\n",
            "Status: 200 | Uploaded: {'Temperature': 30.2, 'Humidity': 28.7, 'Pressure': 963.5, 'Distance': 8.9}\n",
            "Status: 200 | Uploaded: {'Temperature': 36.5, 'Humidity': 91.3, 'Pressure': 919.8, 'Distance': 12.2}\n",
            "Status: 200 | Uploaded: {'Temperature': 27.1, 'Humidity': 73.0, 'Pressure': 1050.4, 'Distance': 205.0}\n",
            "Status: 200 | Uploaded: {'Temperature': 25.8, 'Humidity': 45.2, 'Pressure': 960.0, 'Distance': 210.0}\n",
            "Status: 200 | Uploaded: {'Temperature': 32.7, 'Humidity': 29.5, 'Pressure': 940.2, 'Distance': 7.5}\n",
            "Status: 200 | Uploaded: {'Temperature': 28.9, 'Humidity': 89.9, 'Pressure': 950.6, 'Distance': 250.0}\n",
            "Status: 200 | Uploaded: {'Temperature': 30.0, 'Humidity': 70.1, 'Pressure': 960.1, 'Distance': 9.5}\n",
            "Status: 200 | Uploaded: {'Temperature': 35.1, 'Humidity': 93.0, 'Pressure': 1082.3, 'Distance': 10.1}\n",
            "Status: 200 | Uploaded: {'Temperature': 29.4, 'Humidity': 55.6, 'Pressure': 1045.0, 'Distance': 300.0}\n",
            "Status: 200 | Uploaded: {'Temperature': 26.2, 'Humidity': 31.5, 'Pressure': 978.0, 'Distance': 190.0}\n",
            "Status: 200 | Uploaded: {'Temperature': 33.3, 'Humidity': 85.0, 'Pressure': 941.0, 'Distance': 199.9}\n",
            "Status: 200 | Uploaded: {'Temperature': 24.6, 'Humidity': 27.9, 'Pressure': 938.5, 'Distance': 180.0}\n",
            "Status: 200 | Uploaded: {'Temperature': 37.0, 'Humidity': 95.2, 'Pressure': 930.0, 'Distance': 6.5}\n",
            "Status: 200 | Uploaded: {'Temperature': 31.0, 'Humidity': 65.0, 'Pressure': 970.2, 'Distance': 15.0}\n",
            "Outdoor Sensor Data:\n",
            "Status: 200 | Uploaded: {'Temperature': 27.3, 'Humidity': 65.2, 'Dlight': 8500}\n",
            "Status: 200 | Uploaded: {'Temperature': 41.2, 'Humidity': 78.5, 'Dlight': 12000}\n",
            "Status: 200 | Uploaded: {'Temperature': 50.1, 'Humidity': 82.3, 'Dlight': 9800}\n",
            "Status: 200 | Uploaded: {'Temperature': 19.8, 'Humidity': 55.1, 'Dlight': 450}\n",
            "Status: 200 | Uploaded: {'Temperature': 38.6, 'Humidity': 79.9, 'Dlight': 7300}\n",
            "Status: 200 | Uploaded: {'Temperature': 44.4, 'Humidity': 81.0, 'Dlight': 6500}\n",
            "Status: 200 | Uploaded: {'Temperature': -1.2, 'Humidity': 63.4, 'Dlight': 200}\n",
            "Status: 200 | Uploaded: {'Temperature': 0.0, 'Humidity': 70.2, 'Dlight': 500}\n",
            "Status: 200 | Uploaded: {'Temperature': 31.0, 'Humidity': 85.0, 'Dlight': 9100}\n",
            "Status: 200 | Uploaded: {'Temperature': 48.8, 'Humidity': 74.0, 'Dlight': 13000}\n",
            "Status: 200 | Uploaded: {'Temperature': 35.6, 'Humidity': 60.6, 'Dlight': 10200}\n",
            "Status: 200 | Uploaded: {'Temperature': 40.1, 'Humidity': 80.1, 'Dlight': 10800}\n",
            "Status: 200 | Uploaded: {'Temperature': 50.0, 'Humidity': 77.7, 'Dlight': 9900}\n",
            "Status: 200 | Uploaded: {'Temperature': 45.3, 'Humidity': 88.0, 'Dlight': 8700}\n",
            "Status: 200 | Uploaded: {'Temperature': 32.5, 'Humidity': 64.0, 'Dlight': 300}\n",
            "Status: 200 | Uploaded: {'Temperature': 29.4, 'Humidity': 82.5, 'Dlight': 1400}\n",
            "Status: 200 | Uploaded: {'Temperature': 42.2, 'Humidity': 90.1, 'Dlight': 250}\n",
            "Status: 200 | Uploaded: {'Temperature': 30.0, 'Humidity': 79.8, 'Dlight': 10000}\n",
            "Status: 200 | Uploaded: {'Temperature': 49.0, 'Humidity': 81.9, 'Dlight': 11500}\n",
            "Status: 200 | Uploaded: {'Temperature': -3.5, 'Humidity': 67.2, 'Dlight': 5}\n"
          ]
        }
      ]
    },
    {
      "cell_type": "code",
      "source": [
        "current_user = None\n",
        "def login(username: str, password: str) -> bool:\n",
        "    global current_user\n",
        "    # Try direct key lookup first\n",
        "    status, user = fb.get_user(username)\n",
        "    if status == 200 and user and user.get(\"password\") == password:\n",
        "        current_user = username\n",
        "        return True\n",
        "\n",
        "    # Fallback: scan all users and compare 'username' field\n",
        "    status, all_users = fb.get_all_users()\n",
        "    if status != 200 or all_users is None:\n",
        "        return False\n",
        "\n",
        "    for u in all_users.values():\n",
        "        if u.get(\"username\") == username and u.get(\"password\") == password:\n",
        "            current_user = username\n",
        "            return True\n",
        "\n",
        "    return False\n",
        "\n",
        "def get_current_user():\n",
        "    \"\"\"\n",
        "    Returns the currently logged-in user's full data.\n",
        "    Returns (status_code, user_dict | error)\n",
        "    \"\"\"\n",
        "    if not current_user:\n",
        "        return 400, {\"error\": \"No user is currently logged in.\"}\n",
        "    return fb.get_user(current_user)\n"
      ],
      "metadata": {
        "id": "j6777toLW9wl"
      },
      "execution_count": 2,
      "outputs": []
    },
    {
      "cell_type": "code",
      "source": [
        "def get_leaderboard(current_user: str, top_n: int = 5):\n",
        "    \"\"\"\n",
        "    Returns a leaderboard with top N users sorted by score.\n",
        "    If the current user is not in the top N, also returns their actual rank.\n",
        "\n",
        "    Args:\n",
        "        current_user (str): the value of \"user_name\" of the logged-in user\n",
        "        top_n (int): number of top users to return\n",
        "\n",
        "    Returns:\n",
        "        list of (rank, name, score), and index of current_user in full list\n",
        "    \"\"\"\n",
        "    status, all_users = fb.get_user(\"\")  # get all /users\n",
        "    if status != 200 or not all_users:\n",
        "        return [], None\n",
        "\n",
        "    # Build list of (user_name, score)\n",
        "    all_scores = []\n",
        "    for uid, user in all_users.items():\n",
        "        name = user.get(\"username\", uid)\n",
        "        score = user.get(\"score\", 0)\n",
        "        all_scores.append((name, score))\n",
        "\n",
        "    # Sort by score descending\n",
        "    all_scores.sort(key=lambda x: x[1], reverse=True)\n",
        "\n",
        "    # Add ranking index\n",
        "    ranked = [(i+1, name, score) for i, (name, score) in enumerate(all_scores)]\n",
        "\n",
        "    # Extract top N\n",
        "    top_entries = ranked[:top_n]\n",
        "\n",
        "    # Find current user's rank\n",
        "    user_entry = next(((rank, name, score) for rank, name, score in ranked if name == current_user), None)\n",
        "\n",
        "    if user_entry and user_entry not in top_entries:\n",
        "        top_entries.append(user_entry)  # Add current user as last row\n",
        "\n",
        "    return top_entries, user_entry[0] if user_entry else None\n",
        "\n"
      ],
      "metadata": {
        "id": "LKGrZPbkXI5n"
      },
      "execution_count": 3,
      "outputs": []
    }
  ]
}