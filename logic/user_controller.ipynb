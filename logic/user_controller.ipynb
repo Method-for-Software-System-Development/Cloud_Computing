{
  "nbformat": 4,
  "nbformat_minor": 0,
  "metadata": {
    "colab": {
      "provenance": [],
      "authorship_tag": "ABX9TyNuYv1toECRjpnnpetEtEyz",
      "include_colab_link": true
    },
    "kernelspec": {
      "name": "python3",
      "display_name": "Python 3"
    },
    "language_info": {
      "name": "python"
    }
  },
  "cells": [
    {
      "cell_type": "markdown",
      "metadata": {
        "id": "view-in-github",
        "colab_type": "text"
      },
      "source": [
        "<a href=\"https://colab.research.google.com/github/Method-for-Software-System-Development/Cloud_Computing/blob/develop/logic/user_controller.ipynb\" target=\"_parent\"><img src=\"https://colab.research.google.com/assets/colab-badge.svg\" alt=\"Open In Colab\"/></a>"
      ]
    },
    {
      "cell_type": "code",
      "source": [
        "# Navigate to project folder and ensure we're on the 'develop' branch\n",
        "import os, subprocess, sys\n",
        "\n",
        "REPO_DIR = \"/content/Cloud_Computing\"\n",
        "if not os.path.isdir(REPO_DIR):\n",
        "    subprocess.run([\n",
        "        \"git\", \"clone\", \"-b\", \"develop\",\n",
        "        \"https://github.com/Method-for-Software-System-Development/Cloud_Computing.git\",\n",
        "        REPO_DIR\n",
        "    ], check=True)\n",
        "\n",
        "# Update & checkout develop if repo already exists\n",
        "subprocess.run([\"git\", \"-C\", REPO_DIR, \"fetch\", \"origin\"], check=True)\n",
        "subprocess.run([\"git\", \"-C\", REPO_DIR, \"checkout\", \"develop\"], check=True)\n",
        "subprocess.run([\"git\", \"-C\", REPO_DIR, \"pull\"], check=True)\n",
        "\n",
        "# Install importnb (only needed once per session)\n",
        "%pip install importnb --quiet\n",
        "\n",
        "# Add firebase folder to Python path and import its notebook as module\n",
        "sys.path.append(os.path.join(REPO_DIR, \"firebase\"))\n",
        "from importnb import Notebook\n",
        "\n",
        "with Notebook():\n",
        "    import FireBase as fb   # now fb.add_user, fb.get_user, etc. are available\n"
      ],
      "metadata": {
        "id": "JXJzG72LW8qc"
      },
      "execution_count": 8,
      "outputs": []
    },
    {
      "cell_type": "code",
      "source": [
        "def login(username: str, password: str) -> bool:\n",
        "    \"\"\"\n",
        "    Authenticate a user by:\n",
        "      1. Direct key lookup: /users/{username}\n",
        "      2. Fallback: scan all users for matching 'username' field (snake_case)\n",
        "\n",
        "    Args:\n",
        "      username (str): the username key or the 'username' field value\n",
        "      password (str): the password to check\n",
        "\n",
        "    Returns:\n",
        "      bool: True if credentials are valid, False otherwise\n",
        "    \"\"\"\n",
        "    # 1) direct lookup by key\n",
        "    status, user = fb.get_user(username)\n",
        "    if status == 200 and user and user.get(\"password\") == password:\n",
        "        return True\n",
        "\n",
        "    # 2) fallback: scan all users\n",
        "    status, all_users = fb.get_all_users()\n",
        "    if status != 200 or all_users is None:\n",
        "        return False\n",
        "\n",
        "    for u in all_users.values():\n",
        "        if u.get(\"username\") == username and u.get(\"password\") == password:\n",
        "            return True\n",
        "\n",
        "    return False\n",
        "\n"
      ],
      "metadata": {
        "id": "j6777toLW9wl"
      },
      "execution_count": 7,
      "outputs": []
    },
    {
      "cell_type": "code",
      "source": [
        "from importnb import Notebook\n",
        "\n",
        "with Notebook():\n",
        "    import FireBase as fb\n",
        "\n",
        "def login(username: str, password: str) -> bool:\n",
        "    \"\"\"\n",
        "    Authenticate by key OR by 'username' field (snake_case).\n",
        "    \"\"\"\n",
        "    # 1) direct key lookup\n",
        "    st, user = fb.get_user(username)\n",
        "    if st == 200 and user and user.get(\"password\") == password:\n",
        "        return True\n",
        "\n",
        "    # 2) search all users by 'username' field\n",
        "    st, all_users = fb.get_all_users()\n",
        "    if st != 200 or all_users is None:\n",
        "        return False\n",
        "    for u in all_users.values():\n",
        "        if u.get(\"username\") == username and u.get(\"password\") == password:\n",
        "            return True\n",
        "    return False\n"
      ],
      "metadata": {
        "id": "LKGrZPbkXI5n"
      },
      "execution_count": 9,
      "outputs": []
    }
  ]
}