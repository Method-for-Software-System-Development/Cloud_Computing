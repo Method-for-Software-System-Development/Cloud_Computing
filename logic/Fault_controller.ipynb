{
  "nbformat": 4,
  "nbformat_minor": 0,
  "metadata": {
    "colab": {
      "provenance": [],
      "include_colab_link": true
    },
    "kernelspec": {
      "name": "python3",
      "display_name": "Python 3"
    },
    "language_info": {
      "name": "python"
    }
  },
  "cells": [
    {
      "cell_type": "markdown",
      "metadata": {
        "id": "view-in-github",
        "colab_type": "text"
      },
      "source": [
        "<a href=\"https://colab.research.google.com/github/Method-for-Software-System-Development/Cloud_Computing/blob/develop/logic/Fault_controller.ipynb\" target=\"_parent\"><img src=\"https://colab.research.google.com/assets/colab-badge.svg\" alt=\"Open In Colab\"/></a>"
      ]
    },
    {
      "cell_type": "markdown",
      "source": [
        "# Project Initialization and Firebase Setup\n",
        "\n",
        "This section prepares the project by cloning the repository, ensuring it's on the correct branch, and loading Firebase-related logic and rules for use in the notebook."
      ],
      "metadata": {
        "id": "hGgRCrKMgqsP"
      }
    },
    {
      "cell_type": "code",
      "execution_count": null,
      "metadata": {
        "id": "jXQAE1kYgNYA",
        "collapsed": true
      },
      "outputs": [],
      "source": [
        "# Navigate to project folder and ensure we're on the 'develop' branch\n",
        "import os, subprocess, sys\n",
        "\n",
        "REPO_DIR = \"/content/Cloud_Computing\"\n",
        "if not os.path.isdir(REPO_DIR):\n",
        "    subprocess.run([\n",
        "        \"git\", \"clone\", \"-b\", \"develop\",\n",
        "        \"https://github.com/Method-for-Software-System-Development/Cloud_Computing.git\",\n",
        "        REPO_DIR\n",
        "    ], check=True)\n",
        "\n",
        "# Update & checkout develop if repo already exists\n",
        "subprocess.run([\"git\", \"-C\", REPO_DIR, \"fetch\", \"origin\"], check=True)\n",
        "subprocess.run([\"git\", \"-C\", REPO_DIR, \"checkout\", \"develop\"], check=True)\n",
        "subprocess.run([\"git\", \"-C\", REPO_DIR, \"pull\"], check=True)\n",
        "\n",
        "# Install importnb (only needed once per session)\n",
        "%pip install importnb --quiet\n",
        "\n",
        "# Add firebase folder to Python path and import its notebook as module\n",
        "sys.path.append(os.path.join(REPO_DIR, \"firebase\"))  # for FireBase.ipynb\n",
        "sys.path.append(REPO_DIR)                            # for FAULT_RULES.ipynb\n",
        "from importnb import Notebook\n",
        "\n",
        "with Notebook():\n",
        "    import FireBase as fb                           # now fb.add_user, fb.get_user, etc. are available\n",
        "    from FAULT_RULES import FAULT_RULES as fr       # now FAULT_RULES are aviable to use\n",
        "\n",
        "\n",
        "firebase_url = fb.firebase_url"
      ]
    },
    {
      "cell_type": "markdown",
      "source": [
        "# Fault Controller\n",
        "\n",
        "## Detect and Log Active Faults from Sensor Data\n",
        "\n",
        "retrieves real-time indoor and outdoor sensor data from Firebase and compares each reading against predefined thresholds from `FAULT_RULES`. If a value falls outside the allowed range and hasn’t been previously logged, a new fault is created in the active faults database.\n"
      ],
      "metadata": {
        "id": "QD3rwoKYgrFV"
      }
    },
    {
      "cell_type": "code",
      "source": [
        "import requests\n",
        "import json\n",
        "from datetime import datetime\n",
        "\n",
        "def process_faults_from_database():\n",
        "    active_faults = fb.get_active_faults()\n",
        "    existing_titles = set()\n",
        "\n",
        "    if isinstance(active_faults, dict):\n",
        "        existing_titles = {\n",
        "            fault[\"title\"]\n",
        "            for fault in active_faults.values()\n",
        "            if isinstance(fault, dict) and \"title\" in fault\n",
        "        }\n",
        "\n",
        "    location_map = {\n",
        "        \"IndoorData\": \"Indoor\",\n",
        "        \"OutdoorData\": \"Outdoor\"\n",
        "    }\n",
        "\n",
        "    for folder, location in location_map.items():\n",
        "        url = f\"{firebase_url}SensorsData/{folder}.json\"\n",
        "        response = requests.get(url)\n",
        "        if response.status_code != 200:\n",
        "            print(f\"Failed to load {folder}\")\n",
        "            continue\n",
        "\n",
        "        data = response.json()\n",
        "        if not isinstance(data, dict):\n",
        "            print(f\"No valid data in {folder}\")\n",
        "            continue\n",
        "\n",
        "        for reading in data.values():\n",
        "            if not isinstance(reading, dict):\n",
        "                continue\n",
        "\n",
        "            for sensor_type, value in reading.items():\n",
        "                key = f\"{sensor_type.lower()}_{location.lower()}\"\n",
        "                for rule in fr.get(key, []):\n",
        "                    min_val = rule.get(\"min\")\n",
        "                    max_val = rule.get(\"max\")\n",
        "\n",
        "                    if (min_val is None or value >= min_val) and (max_val is None or value < max_val):\n",
        "                        if rule[\"title\"] in existing_titles:\n",
        "                            continue\n",
        "\n",
        "                        title_key = f\"{rule['title']} ({datetime.now().strftime('%d-%m-%Y %H:%M:%S')})\"\n",
        "\n",
        "                        fault = {\n",
        "                            \"sensor\": rule[\"sensor\"],\n",
        "                            \"severity\": rule[\"severity\"],\n",
        "                            \"title\": rule[\"title\"],\n",
        "                            \"value\": value,\n",
        "                            \"status\": \"Active\",\n",
        "                            \"repaired_by\": \"\",\n",
        "                            \"timestamp\": datetime.now().isoformat(),\n",
        "                            \"actions\": rule[\"actions\"]\n",
        "                        }\n",
        "\n",
        "                        fb.add_active_fault(title_key, fault)\n",
        "                        existing_titles.add(rule[\"title\"])\n",
        "                        print(f\"[{location}] Fault Created: {rule['title']} (Severity: {rule['severity']})\")\n",
        "\n",
        "process_faults_from_database()"
      ],
      "metadata": {
        "id": "Ho3auU6B7OZb",
        "collapsed": true
      },
      "execution_count": null,
      "outputs": []
    }
  ]
}