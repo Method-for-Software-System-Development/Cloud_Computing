{
  "nbformat": 4,
  "nbformat_minor": 0,
  "metadata": {
    "colab": {
      "provenance": [],
      "include_colab_link": true
    },
    "kernelspec": {
      "name": "python3",
      "display_name": "Python 3"
    },
    "language_info": {
      "name": "python"
    }
  },
  "cells": [
    {
      "cell_type": "markdown",
      "metadata": {
        "id": "view-in-github",
        "colab_type": "text"
      },
      "source": [
        "<a href=\"https://colab.research.google.com/github/Method-for-Software-System-Development/Cloud_Computing/blob/develop/logic/Fault_controller.ipynb\" target=\"_parent\"><img src=\"https://colab.research.google.com/assets/colab-badge.svg\" alt=\"Open In Colab\"/></a>"
      ]
    },
    {
      "cell_type": "code",
      "execution_count": 1,
      "metadata": {
        "id": "jXQAE1kYgNYA",
        "collapsed": true,
        "outputId": "df93e12a-242d-44ed-a776-839b7b12c525",
        "colab": {
          "base_uri": "https://localhost:8080/"
        }
      },
      "outputs": [
        {
          "output_type": "stream",
          "name": "stdout",
          "text": [
            "omer_cohen 050-111-2222 200\n",
            "shira_gold 050-222-3333 200\n",
            "daniel_bar 050-333-4444 200\n",
            "roni_benami 050-444-5555 200\n",
            "lior_levi 050-555-6666 200\n",
            "yael_elyashiv 050-666-7777 200\n",
            "noa_katz 050-777-8888 200\n",
            "matan_tal 050-888-9999 200\n",
            "or_peled 050-999-0000 200\n",
            "tom_segal 050-000-1111 200\n",
            "Daniel Bar | 050-333-4444 | Robotics Engineer\n",
            "Lior Levi | 050-555-6666 | Backend Developer\n",
            "Matan Tal | 050-888-9999 | Mechanical Engineer\n",
            "Noa Katz | 050-777-8888 | UX Designer\n",
            "Omer Cohen | 050-111-2222 | Automation Engineer\n",
            "Or Peled | 050-999-0000 | System Engineer\n",
            "Roni Ben Ami | 050-444-5555 | QA Engineer\n",
            "Shira Gold | 050-222-3333 | Electrical Engineer\n",
            "Tom Segal | 050-000-1111 | Production Engineer\n",
            "Yael Elyashiv | 050-666-7777 | Hardware Engineer\n"
          ]
        }
      ],
      "source": [
        "# Navigate to project folder and ensure we're on the 'develop' branch\n",
        "import os, subprocess, sys\n",
        "\n",
        "REPO_DIR = \"/content/Cloud_Computing\"\n",
        "if not os.path.isdir(REPO_DIR):\n",
        "    subprocess.run([\n",
        "        \"git\", \"clone\", \"-b\", \"develop\",\n",
        "        \"https://github.com/Method-for-Software-System-Development/Cloud_Computing.git\",\n",
        "        REPO_DIR\n",
        "    ], check=True)\n",
        "\n",
        "# Update & checkout develop if repo already exists\n",
        "subprocess.run([\"git\", \"-C\", REPO_DIR, \"fetch\", \"origin\"], check=True)\n",
        "subprocess.run([\"git\", \"-C\", REPO_DIR, \"checkout\", \"develop\"], check=True)\n",
        "subprocess.run([\"git\", \"-C\", REPO_DIR, \"pull\"], check=True)\n",
        "\n",
        "# Install importnb (only needed once per session)\n",
        "%pip install importnb --quiet\n",
        "\n",
        "# Add firebase folder to Python path and import its notebook as module\n",
        "sys.path.append(os.path.join(REPO_DIR, \"firebase\"))  # for FireBase.ipynb\n",
        "sys.path.append(REPO_DIR)                            # for FAULT_RULES.ipynb\n",
        "from importnb import Notebook\n",
        "\n",
        "with Notebook():\n",
        "    import FireBase as fb                           # now fb.add_user, fb.get_user, etc. are available\n",
        "    from FAULT_RULES import FAULT_RULES as fr       # now FAULT_RULES are aviable to use\n",
        "\n",
        "\n",
        "firebase_url = fb.firebase_url"
      ]
    },
    {
      "cell_type": "code",
      "source": [
        "import requests\n",
        "from datetime import datetime\n",
        "\n",
        "def process_faults_from_database():\n",
        "    active_faults = fb.get_active_faults()\n",
        "    existing_titles = set()\n",
        "\n",
        "    if isinstance(active_faults, dict):\n",
        "        existing_titles = {\n",
        "            fault[\"title\"]\n",
        "            for fault in active_faults.values()\n",
        "            if isinstance(fault, dict) and \"title\" in fault\n",
        "        }\n",
        "\n",
        "    for folder in [\"indoor\", \"outdoor\"]:\n",
        "        url = f\"{firebase_url}sensor_readings/{folder}.json\"\n",
        "        response = requests.get(url)\n",
        "        if response.status_code != 200:\n",
        "            continue\n",
        "\n",
        "        data = response.json()\n",
        "        if not isinstance(data, dict):\n",
        "            continue\n",
        "\n",
        "        for reading in data.values():\n",
        "            if not isinstance(reading, dict):\n",
        "                continue\n",
        "\n",
        "            for sensor_type, value in reading.items():\n",
        "                try:\n",
        "                    value = float(value)\n",
        "                except (ValueError, TypeError):\n",
        "                    continue  # skip \"N/A\" or malformed values\n",
        "\n",
        "                key = f\"{sensor_type.lower()}_{folder}\"\n",
        "                for rule in fr.get(key, []):\n",
        "                    min_val = rule.get(\"min\")\n",
        "                    max_val = rule.get(\"max\")\n",
        "\n",
        "                    if (min_val is None or value >= min_val) and (max_val is None or value < max_val):\n",
        "                        if rule[\"title\"] in existing_titles:\n",
        "                            continue\n",
        "\n",
        "                        title_key = f\"{rule['title']} ({datetime.now().strftime('%d-%m-%Y %H:%M:%S')})\"\n",
        "\n",
        "                        fault = {\n",
        "                            \"sensor\": rule[\"sensor\"],\n",
        "                            \"severity\": rule[\"severity\"],\n",
        "                            \"title\": rule[\"title\"],\n",
        "                            \"value\": value,\n",
        "                            \"status\": \"Active\",\n",
        "                            \"repaired_by\": \"\",\n",
        "                            \"timestamp\": datetime.now().isoformat(),\n",
        "                            \"actions\": rule[\"actions\"]\n",
        "                        }\n",
        "\n",
        "                        fb.add_active_fault(title_key, fault)\n",
        "                        existing_titles.add(rule[\"title\"])\n"
      ],
      "metadata": {
        "id": "Ho3auU6B7OZb",
        "collapsed": true
      },
      "execution_count": 3,
      "outputs": []
    }
  ]
}