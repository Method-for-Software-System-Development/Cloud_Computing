{
  "nbformat": 4,
  "nbformat_minor": 0,
  "metadata": {
    "colab": {
      "provenance": [],
      "authorship_tag": "ABX9TyMcZeTcdEnZ7KHwjmaFUKUe",
      "include_colab_link": true
    },
    "kernelspec": {
      "name": "python3",
      "display_name": "Python 3"
    },
    "language_info": {
      "name": "python"
    }
  },
  "cells": [
    {
      "cell_type": "markdown",
      "metadata": {
        "id": "view-in-github",
        "colab_type": "text"
      },
      "source": [
        "<a href=\"https://colab.research.google.com/github/Method-for-Software-System-Development/Cloud_Computing/blob/develop/logic/Fault_controller.ipynb\" target=\"_parent\"><img src=\"https://colab.research.google.com/assets/colab-badge.svg\" alt=\"Open In Colab\"/></a>"
      ]
    },
    {
      "cell_type": "code",
      "execution_count": 38,
      "metadata": {
        "id": "jXQAE1kYgNYA"
      },
      "outputs": [],
      "source": [
        "# Navigate to project folder and ensure we're on the 'develop' branch\n",
        "import os, subprocess, sys\n",
        "\n",
        "REPO_DIR = \"/content/Cloud_Computing\"\n",
        "if not os.path.isdir(REPO_DIR):\n",
        "    subprocess.run([\n",
        "        \"git\", \"clone\", \"-b\", \"develop\",\n",
        "        \"https://github.com/Method-for-Software-System-Development/Cloud_Computing.git\",\n",
        "        REPO_DIR\n",
        "    ], check=True)\n",
        "\n",
        "# Update & checkout develop if repo already exists\n",
        "subprocess.run([\"git\", \"-C\", REPO_DIR, \"fetch\", \"origin\"], check=True)\n",
        "subprocess.run([\"git\", \"-C\", REPO_DIR, \"checkout\", \"develop\"], check=True)\n",
        "subprocess.run([\"git\", \"-C\", REPO_DIR, \"pull\"], check=True)\n",
        "\n",
        "# Install importnb (only needed once per session)\n",
        "%pip install importnb --quiet\n",
        "!pip install sseclient-py --quiet\n",
        "\n",
        "# Add firebase folder to Python path and import its notebook as module\n",
        "sys.path.append(os.path.join(REPO_DIR, \"firebase\"))  # for FireBase.ipynb\n",
        "sys.path.append(REPO_DIR)                            # for FAULT_RULES.ipynb\n",
        "from importnb import Notebook\n",
        "\n",
        "with Notebook():\n",
        "    import FireBase as fb                           # now fb.add_user, fb.get_user, etc. are available\n",
        "    from FAULT_RULES import FAULT_RULES as fr       # now FAULT_RULES are aviable to use\n",
        "\n",
        "\n",
        "firebase_url = fb.firebase_url"
      ]
    },
    {
      "cell_type": "code",
      "source": [
        "import requests\n",
        "import json\n",
        "from datetime import datetime\n",
        "\n",
        "# Create faults from all existing sensor data in Firebase (one pass, no threads)\n",
        "def process_faults_from_database():\n",
        "    active_faults_url = f\"{firebase_url}faults/activeFaults.json\"\n",
        "    existing = requests.get(active_faults_url).json()\n",
        "    existing_titles = set()\n",
        "    for fault in (existing or {}).values():\n",
        "        if fault and isinstance(fault, dict) and fault.get(\"status\") == \"Active\":\n",
        "            existing_titles.add(fault.get(\"title\"))\n",
        "\n",
        "    location_map = {\n",
        "        \"IndoorData\": \"Indoor\",\n",
        "        \"OutdoorData\": \"Outdoor\"\n",
        "    }\n",
        "\n",
        "    for folder, location in location_map.items():\n",
        "        url = f\"{firebase_url}SensorsData/{folder}.json\"\n",
        "        response = requests.get(url)\n",
        "        if response.status_code != 200:\n",
        "            print(f\"Failed to load {folder}\")\n",
        "            continue\n",
        "\n",
        "        data = response.json()\n",
        "        if not isinstance(data, dict):\n",
        "            print(f\"No valid data in {folder}\")\n",
        "            continue\n",
        "\n",
        "        for reading in data.values():\n",
        "            if not isinstance(reading, dict):\n",
        "                continue\n",
        "\n",
        "            for sensor_type, value in reading.items():\n",
        "                key = f\"{sensor_type.lower()}_{location.lower()}\"\n",
        "                for rule in fr.get(key, []):\n",
        "                    min_val = rule.get(\"min\")\n",
        "                    max_val = rule.get(\"max\")\n",
        "\n",
        "                    if (min_val is None or value >= min_val) and (max_val is None or value < max_val):\n",
        "                        if rule[\"title\"] in existing_titles:\n",
        "                            print(f\"Skipping duplicate active fault: {rule['title']}\")\n",
        "                            continue\n",
        "\n",
        "                        title_key = f\"{rule['title']} ({datetime.now().strftime('%d-%m-%Y %H:%M:%S')})\"\n",
        "\n",
        "                        fault = {\n",
        "                            \"sensor\": rule[\"sensor\"],\n",
        "                            \"severity\": rule[\"severity\"],\n",
        "                            \"title\": rule[\"title\"],\n",
        "                            \"value\": value,\n",
        "                            \"status\": \"Active\",\n",
        "                            \"repaired_by\": \"\",\n",
        "                            \"timestamp\": datetime.now().isoformat(),\n",
        "                            \"score\": 50 if rule[\"severity\"] == \"Low\" else 100 if rule[\"severity\"] == \"Medium\" else 200,\n",
        "                            \"actions\": rule[\"actions\"]\n",
        "                        }\n",
        "\n",
        "                        requests.put(\n",
        "                            f\"{firebase_url}faults/activeFaults/{title_key}.json\",\n",
        "                            data=json.dumps(fault)\n",
        "                        )\n",
        "\n",
        "                        existing_titles.add(rule[\"title\"])\n",
        "                        print(f\"[{location}] Fault Created: {rule['title']} (Severity: {rule['severity']})\")\n",
        "\n",
        "# Resolve a specific fault by moving it from active to resolved\n",
        "def resolve_fault(fault_title: str, username: str):\n",
        "    url = f\"{firebase_url}faults/activeFaults/{fault_title}.json\"\n",
        "    r = requests.get(url)\n",
        "    if r.status_code != 200 or r.json() is None:\n",
        "        print(\"Fault not found or already resolved.\")\n",
        "        return False\n",
        "\n",
        "    fault_data = r.json()\n",
        "    fault_data[\"status\"] = \"Resolved\"\n",
        "    fault_data[\"repaired_by\"] = username\n",
        "\n",
        "    requests.put(\n",
        "        f\"{firebase_url}faults/resolvedFaults/{fault_title}.json\",\n",
        "        data=json.dumps(fault_data)\n",
        "    )\n",
        "\n",
        "    requests.delete(f\"{firebase_url}faults/activeFaults/{fault_title}.json\")\n",
        "\n",
        "    print(f\"Fault '{fault_title}' resolved by {username}\")\n",
        "    return True\n",
        "\n",
        "print(fr[\"temperature_indoor\"])\n",
        "\n",
        "#process_faults_from_database()"
      ],
      "metadata": {
        "id": "Ho3auU6B7OZb",
        "outputId": "56cb4bad-4caa-4ace-beb8-d99905197b43",
        "colab": {
          "base_uri": "https://localhost:8080/"
        }
      },
      "execution_count": 40,
      "outputs": [
        {
          "output_type": "stream",
          "name": "stdout",
          "text": [
            "[{'threshold': 35, 'operator': '>', 'severity': 'High', 'sensor': 'Indoor Temperature', 'status': 'Active', 'title': 'Indoor Temperature above 35°C', 'repaired_by': '', 'actions': ['Turn on the cooling system', 'Inspect the indoor temperature sensor', 'Check if the cooling system is functioning']}, {'threshold': 30, 'operator': '>', 'severity': 'Medium', 'sensor': 'Indoor Temperature', 'status': 'Active', 'title': 'Indoor Temperature above 30°C', 'repaired_by': '', 'actions': ['Monitor the room temperature', 'Check if the cooling system is functioning']}]\n"
          ]
        }
      ]
    }
  ]
}