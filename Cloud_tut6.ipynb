{
  "nbformat": 4,
  "nbformat_minor": 0,
  "metadata": {
    "colab": {
      "provenance": [],
      "authorship_tag": "ABX9TyOQLMt2px/QKD7Fm3OtRcM7",
      "include_colab_link": true
    },
    "kernelspec": {
      "name": "python3",
      "display_name": "Python 3"
    },
    "language_info": {
      "name": "python"
    }
  },
  "cells": [
    {
      "cell_type": "markdown",
      "metadata": {
        "id": "view-in-github",
        "colab_type": "text"
      },
      "source": [
        "<a href=\"https://colab.research.google.com/github/Method-for-Software-System-Development/Cloud_Computing/blob/tirgul-Ariel-Sapir/Cloud_tut5.ipynb\" target=\"_parent\"><img src=\"https://colab.research.google.com/assets/colab-badge.svg\" alt=\"Open In Colab\"/></a>"
      ]
    },
    {
      "cell_type": "code",
      "execution_count": null,
      "metadata": {
        "id": "iovlI8_74a-A"
      },
      "outputs": [],
      "source": [
        "# Install required libraries  (run once per Colab session)\n",
        "!pip install -q firebase requests beautifulsoup4 pandas altair ipywidgets"
      ]
    },
    {
      "cell_type": "code",
      "source": [
        "# Imports and global constants\n",
        "import collections, re, requests, pandas as pd, altair as alt\n",
        "from bs4 import BeautifulSoup\n",
        "from firebase import firebase\n",
        "\n",
        "# --- target page -------------------------------------------------------------\n",
        "URL = \"https://en.wikipedia.org/wiki/One_Piece\"\n",
        "\n",
        "# --- Firebase Realtime‑DB URL (given in the assignment) ----------------------\n",
        "DB_URL = \"https://tirgul6-d9703-default-rtdb.europe-west1.firebasedatabase.app/\"\n"
      ],
      "metadata": {
        "id": "k9D-UHDc4ivM"
      },
      "execution_count": null,
      "outputs": []
    },
    {
      "cell_type": "code",
      "source": [
        "# Helper functions\n",
        "def fetch_page(url: str) -> BeautifulSoup:\n",
        "    \"\"\"Download a web page and return a BeautifulSoup object (UTF‑8).\"\"\"\n",
        "    r = requests.get(url, timeout=10)\n",
        "    r.raise_for_status()\n",
        "    return BeautifulSoup(r.text, \"html.parser\")\n",
        "\n",
        "def build_index(soup: BeautifulSoup, stop_words: set[str]) -> dict[str,int]:\n",
        "    \"\"\"Return {word: count} after lower‑casing and stop‑word removal.\"\"\"\n",
        "    counts = collections.defaultdict(int)\n",
        "    for w in re.findall(r\"[A-Za-z]{2,}\", soup.get_text()):\n",
        "        w = w.lower()\n",
        "        if w not in stop_words:\n",
        "            counts[w] += 1\n",
        "    return counts"
      ],
      "metadata": {
        "id": "yavhUr7h4lJj"
      },
      "execution_count": null,
      "outputs": []
    },
    {
      "cell_type": "code",
      "source": [
        "# Step 1 : scrape page and compute top‑10 words\n",
        "soup = fetch_page(URL)\n",
        "\n",
        "basic_stop = {\n",
        "    \"the\",\"and\",\"of\",\"to\",\"in\",\"a\",\"for\",\"as\",\"is\",\"on\",\"by\",\"with\",\"that\",\n",
        "    \"an\",\"at\",\"from\",\"its\",\"it\",\"be\",\"this\",\"was\",\"are\",\"or\",\"which\",\"also\"\n",
        "}\n",
        "\n",
        "index_full = build_index(soup, basic_stop)\n",
        "top10 = dict(sorted(index_full.items(), key=lambda x: x[1], reverse=True)[:10])\n",
        "\n",
        "print(\"Top‑10 word index:\\n\", top10)"
      ],
      "metadata": {
        "id": "57jcDFjM4pNE"
      },
      "execution_count": null,
      "outputs": []
    },
    {
      "cell_type": "code",
      "source": [
        "# Step‑2 : write to Firebase Realtime‑DB\n",
        "fb = firebase.FirebaseApplication(DB_URL, None)\n",
        "\n",
        "# store under /one_piece/index\n",
        "fb.put(\"/one_piece\", \"index\", top10)\n",
        "\n",
        "print(\"✓  Index stored successfully.\")"
      ],
      "metadata": {
        "id": "xViMfOSt4rPz"
      },
      "execution_count": null,
      "outputs": []
    },
    {
      "cell_type": "code",
      "source": [
        "# Step‑4 : visualise with Altair bar chart\n",
        "alt.Chart(df).mark_bar().encode(\n",
        "    x=alt.X(\"word:N\", sort=\"-y\", title=\"Word\"),\n",
        "    y=alt.Y(\"count:Q\", title=\"Frequency\"),\n",
        "    tooltip=[\"word\",\"count\"]\n",
        ").properties(\n",
        "    title=\"Top‑10 Word Frequency — One Piece (Wikipedia)\",\n",
        "    width=500,\n",
        "    height=300\n",
        ")\n"
      ],
      "metadata": {
        "id": "6iypNvmE4vj0"
      },
      "execution_count": null,
      "outputs": []
    }
  ]
}
