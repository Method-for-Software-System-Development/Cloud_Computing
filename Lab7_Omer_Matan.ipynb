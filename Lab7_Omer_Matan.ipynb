{
  "nbformat": 4,
  "nbformat_minor": 0,
  "metadata": {
    "colab": {
      "provenance": [],
      "authorship_tag": "ABX9TyOWtlM5N4J8b43bWEXJi/A3",
      "include_colab_link": true
    },
    "kernelspec": {
      "name": "python3",
      "display_name": "Python 3"
    },
    "language_info": {
      "name": "python"
    }
  },
  "cells": [
    {
      "cell_type": "markdown",
      "metadata": {
        "id": "view-in-github",
        "colab_type": "text"
      },
      "source": [
        "<a href=\"https://colab.research.google.com/github/Method-for-Software-System-Development/Cloud_Computing/blob/tirgul-Omer-Matan/Lab7_Omer_Matan.ipynb\" target=\"_parent\"><img src=\"https://colab.research.google.com/assets/colab-badge.svg\" alt=\"Open In Colab\"/></a>"
      ]
    },
    {
      "cell_type": "code",
      "execution_count": 1,
      "metadata": {
        "colab": {
          "base_uri": "https://localhost:8080/"
        },
        "id": "X2uPMM_q99KI",
        "outputId": "ca55dc12-8872-4a17-99fc-50681184f69e"
      },
      "outputs": [
        {
          "output_type": "stream",
          "name": "stdout",
          "text": [
            "Search Results (AND): [{'doc_id': '3', 'title': 'Intro to Python', 'snippet': 'Python is a programming language used in AI and cloud....', 'score': 4.0}]\n",
            "Search Results (OR): [{'doc_id': '3', 'title': 'Intro to Python', 'snippet': 'Python is a programming language used in AI and cloud....', 'score': 4.0}, {'doc_id': '2', 'title': 'Cloud Computing', 'snippet': 'Cloud computing enables scalable architectures....', 'score': 3.0}]\n"
          ]
        }
      ],
      "source": [
        "# Document Service\n",
        "class DocumentService:\n",
        "    def __init__(self):\n",
        "        self.documents = {}\n",
        "        self.next_id = 1\n",
        "\n",
        "    def add_document(self, title, content):\n",
        "        doc_id = str(self.next_id)\n",
        "        self.documents[doc_id] = {\n",
        "            \"id\": doc_id,\n",
        "            \"title\": title,\n",
        "            \"content\": content\n",
        "        }\n",
        "        self.next_id += 1\n",
        "        return self.documents[doc_id]\n",
        "\n",
        "    def get_document(self, doc_id):\n",
        "        return self.documents.get(doc_id)\n",
        "\n",
        "# Index Service\n",
        "import re\n",
        "from collections import defaultdict\n",
        "\n",
        "class IndexService:\n",
        "    def __init__(self):\n",
        "        self.index = defaultdict(set)\n",
        "\n",
        "    def index_document(self, doc_id, content):\n",
        "        words = re.findall(r\"[a-zA-Z]+\", content.lower())\n",
        "        for word in words:\n",
        "            self.index[word].add(doc_id)\n",
        "\n",
        "    def search(self, terms, mode=\"AND\"):\n",
        "        if not terms:\n",
        "            return set()\n",
        "        sets = [self.index.get(term.lower(), set()) for term in terms]\n",
        "        return set.intersection(*sets) if mode == \"AND\" else set.union(*sets)\n",
        "\n",
        "# Rating Service\n",
        "class RatingService:\n",
        "    def __init__(self):\n",
        "        self.ratings = defaultdict(list)  # doc_id -> list of scores\n",
        "\n",
        "    def add_rating(self, doc_id, score):\n",
        "        self.ratings[doc_id].append(score)\n",
        "\n",
        "    def get_avg_rating(self, doc_id):\n",
        "        scores = self.ratings.get(doc_id, [])\n",
        "        return round(sum(scores) / len(scores), 2) if scores else None\n",
        "\n",
        "# Result Formatter (Optional Service)\n",
        "def format_results(doc_ids, doc_service, rating_service):\n",
        "    results = []\n",
        "    for doc_id in doc_ids:\n",
        "        doc = doc_service.get_document(doc_id)\n",
        "        if doc:\n",
        "            results.append({\n",
        "                \"doc_id\": doc_id,\n",
        "                \"title\": doc[\"title\"],\n",
        "                \"snippet\": doc[\"content\"][:100] + \"...\",\n",
        "                \"score\": rating_service.get_avg_rating(doc_id)\n",
        "            })\n",
        "    return results\n",
        "\n",
        "\n",
        "# Simulation:\n",
        "doc_service = DocumentService()\n",
        "index_service = IndexService()\n",
        "rating_service = RatingService()\n",
        "\n",
        "# Add documents\n",
        "d1 = doc_service.add_document(\"AI Article\", \"Artificial intelligence is the future of technology.\")\n",
        "d2 = doc_service.add_document(\"Cloud Computing\", \"Cloud computing enables scalable architectures.\")\n",
        "d3 = doc_service.add_document(\"Intro to Python\", \"Python is a programming language used in AI and cloud.\")\n",
        "\n",
        "# Index them\n",
        "for doc in [d1, d2, d3]:\n",
        "    index_service.index_document(doc[\"id\"], doc[\"content\"])\n",
        "\n",
        "# Add ratings\n",
        "rating_service.add_rating(\"1\", 5)\n",
        "rating_service.add_rating(\"1\", 4)\n",
        "rating_service.add_rating(\"2\", 3)\n",
        "rating_service.add_rating(\"3\", 4)\n",
        "\n",
        "# Search with AND\n",
        "results_and = index_service.search([\"ai\", \"cloud\"], mode=\"AND\")\n",
        "\n",
        "# Search with OR\n",
        "results_or = index_service.search([\"ai\", \"cloud\"], mode=\"OR\")\n",
        "\n",
        "# Display\n",
        "print(\"Search Results (AND):\", format_results(results_and, doc_service, rating_service))\n",
        "print(\"Search Results (OR):\", format_results(results_or, doc_service, rating_service))"
      ]
    }
  ]
}