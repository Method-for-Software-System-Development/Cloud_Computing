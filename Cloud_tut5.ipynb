{
  "nbformat": 4,
  "nbformat_minor": 0,
  "metadata": {
    "colab": {
      "provenance": [],
      "authorship_tag": "ABX9TyOs233aA2fHmLcz9e7IHRY9",
      "include_colab_link": true
    },
    "kernelspec": {
      "name": "python3",
      "display_name": "Python 3"
    },
    "language_info": {
      "name": "python"
    }
  },
  "cells": [
    {
      "cell_type": "markdown",
      "metadata": {
        "id": "view-in-github",
        "colab_type": "text"
      },
      "source": [
        "<a href=\"https://colab.research.google.com/github/Method-for-Software-System-Development/Cloud_Computing/blob/tirgul-Ariel-Sapir/Cloud_tut5.ipynb\" target=\"_parent\"><img src=\"https://colab.research.google.com/assets/colab-badge.svg\" alt=\"Open In Colab\"/></a>"
      ]
    },
    {
      "cell_type": "code",
      "execution_count": null,
      "metadata": {
        "id": "Ayh-uUBf7-yX"
      },
      "outputs": [],
      "source": [
        "DBLink = \"DB LINK\""
      ]
    },
    {
      "cell_type": "code",
      "source": [
        "!pip install firebase"
      ],
      "metadata": {
        "id": "a4chZ3aD8Ttg"
      },
      "execution_count": null,
      "outputs": []
    },
    {
      "cell_type": "code",
      "source": [
        "\n",
        "from firebase import firebase\n",
        "\n",
        "# Initialize Firebase connection\n",
        "FBconn = firebase.FirebaseApplication(DBLink, None)\n",
        "\n",
        "def get_all_words():\n",
        "    \"\"\"Retrieve all words in the DB\"\"\"\n",
        "    return FBconn.get('/WordBag/', None)\n",
        "\n",
        "def update_word(word, new_count):\n",
        "    \"\"\"Update an existing word\"\"\"\n",
        "    return FBconn.put('/WordBag/' + word, 'count', new_count)\n",
        "\n",
        "def delete_word(word):\n",
        "    \"\"\"Delete selected word from the DB\"\"\"\n",
        "    return FBconn.delete('/WordBag/', word)\n",
        "\n",
        "def display_words():\n",
        "    \"\"\"Display all words in the DB\"\"\"\n",
        "    words = get_all_words()\n",
        "    if words:\n",
        "        print(\"\\nCurrent words in DB:\")\n",
        "        for word in words:\n",
        "            print(f\"Word: {word}, Count: {words[word]['count']}\")\n",
        "    else:\n",
        "        print(\"\\nNo records found\")\n",
        "\n",
        "def add_word(words, word):\n",
        "    if words and word in words:\n",
        "          #+1 to the counter\n",
        "          data_to_upload = {\n",
        "              'count': words[word]['count'] + 1\n",
        "          }\n",
        "          result = FBconn.put('/WordBag/', word ,data_to_upload)\n",
        "    else: # Word not in the DB, add new record to the DB\n",
        "          try:\n",
        "            data_to_upload = {\n",
        "                'count': 1\n",
        "            }\n",
        "            result = FBconn.put('/WordBag/', word ,data_to_upload)\n",
        "            print(f\"The word: {word} was added successfully\")\n",
        "          except ValueError:\n",
        "            print(\"Error\")\n",
        "\n",
        "while True:\n",
        "    print(\"\\nWord Bag Menu:\")\n",
        "    print(\"1. Add single Word\")\n",
        "    print(\"2. Add text for analysis\")\n",
        "    print(\"3. Update word count\")\n",
        "    print(\"4. Delete word\")\n",
        "    print(\"5. View all words\")\n",
        "    print(\"6. Exit\")\n",
        "\n",
        "    choice = input(\"\\nEnter your choice (1-5): \")\n",
        "\n",
        "    if choice == '1':\n",
        "        # Add a new Word\n",
        "        word = input(\"Enter a word to enter the DB \")\n",
        "        words = get_all_words()\n",
        "        add_word(words, word)\n",
        "\n",
        "    elif choice == '2':\n",
        "        # Add text for analysis\n",
        "        text = input(\"Enter text to add: \")\n",
        "        splited_text = text.split()\n",
        "        words = get_all_words()\n",
        "        for word in splited_text:\n",
        "            add_word(words, word)\n",
        "\n",
        "    elif choice == '3':\n",
        "        # Update words and count\n",
        "        display_words()\n",
        "        word = input(\"\\nEnter the word to update: \")\n",
        "        try:\n",
        "            new_count = int(input(\"Enter the new count: \"))\n",
        "            result = update_word(word, new_count)\n",
        "            if result:\n",
        "                print(\"Word count was updated successfully!\")\n",
        "            else:\n",
        "                print(\"Failed to update word count.\")\n",
        "        except ValueError:\n",
        "            print(\"Please enter a valid word count\")\n",
        "\n",
        "    elif choice == '4':\n",
        "        # Delete word\n",
        "        display_words()\n",
        "        word = input(\"\\nEnter the word to delete: \")\n",
        "        result = delete_word(word)\n",
        "        if result is None:\n",
        "            print(\"Word was deleted successfully!\")\n",
        "        else:\n",
        "            print(\"Failed to delete word.\")\n",
        "\n",
        "    elif choice == '5':\n",
        "        # View all records\n",
        "        display_words()\n",
        "\n",
        "    elif choice == '6':\n",
        "        print(\"Exiting program...\")\n",
        "        break\n",
        "\n",
        "    else:\n",
        "        print(\"Invalid choice. Please try again.\")"
      ],
      "metadata": {
        "id": "9THJReb08Hks"
      },
      "execution_count": null,
      "outputs": []
    }
  ]
}