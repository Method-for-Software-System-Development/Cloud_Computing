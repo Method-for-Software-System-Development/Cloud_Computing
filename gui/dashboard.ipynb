{
  "nbformat": 4,
  "nbformat_minor": 0,
  "metadata": {
    "colab": {
      "provenance": [],
      "authorship_tag": "ABX9TyMqlzAKdx00c4ETb7TlXtob",
      "include_colab_link": true
    },
    "kernelspec": {
      "name": "python3",
      "display_name": "Python 3"
    },
    "language_info": {
      "name": "python"
    }
  },
  "cells": [
    {
      "cell_type": "markdown",
      "metadata": {
        "id": "view-in-github",
        "colab_type": "text"
      },
      "source": [
        "<a href=\"https://colab.research.google.com/github/Method-for-Software-System-Development/Cloud_Computing/blob/develop/gui/dashboard.ipynb\" target=\"_parent\"><img src=\"https://colab.research.google.com/assets/colab-badge.svg\" alt=\"Open In Colab\"/></a>"
      ]
    },
    {
      "cell_type": "code",
      "execution_count": 40,
      "metadata": {
        "colab": {
          "base_uri": "https://localhost:8080/"
        },
        "collapsed": true,
        "id": "VAlxuKQ-5JgL",
        "outputId": "46e90f5d-0f56-418a-fd23-1e72e9880efb"
      },
      "outputs": [
        {
          "output_type": "stream",
          "name": "stdout",
          "text": [
            "Requirement already satisfied: gradio in /usr/local/lib/python3.11/dist-packages (4.27.0)\n",
            "Collecting gradio\n",
            "  Using cached gradio-5.29.1-py3-none-any.whl.metadata (16 kB)\n",
            "Requirement already satisfied: aiofiles<25.0,>=22.0 in /usr/local/lib/python3.11/dist-packages (from gradio) (23.2.1)\n",
            "Requirement already satisfied: anyio<5.0,>=3.0 in /usr/local/lib/python3.11/dist-packages (from gradio) (4.9.0)\n",
            "Requirement already satisfied: fastapi<1.0,>=0.115.2 in /usr/local/lib/python3.11/dist-packages (from gradio) (0.115.12)\n",
            "Requirement already satisfied: ffmpy in /usr/local/lib/python3.11/dist-packages (from gradio) (0.5.0)\n",
            "Collecting gradio-client==1.10.1 (from gradio)\n",
            "  Using cached gradio_client-1.10.1-py3-none-any.whl.metadata (7.1 kB)\n",
            "Requirement already satisfied: groovy~=0.1 in /usr/local/lib/python3.11/dist-packages (from gradio) (0.1.2)\n",
            "Requirement already satisfied: httpx>=0.24.1 in /usr/local/lib/python3.11/dist-packages (from gradio) (0.28.1)\n",
            "Requirement already satisfied: huggingface-hub>=0.28.1 in /usr/local/lib/python3.11/dist-packages (from gradio) (0.31.1)\n",
            "Requirement already satisfied: jinja2<4.0 in /usr/local/lib/python3.11/dist-packages (from gradio) (3.1.6)\n",
            "Requirement already satisfied: markupsafe<4.0,>=2.0 in /usr/local/lib/python3.11/dist-packages (from gradio) (2.1.5)\n",
            "Requirement already satisfied: numpy<3.0,>=1.0 in /usr/local/lib/python3.11/dist-packages (from gradio) (1.26.4)\n",
            "Requirement already satisfied: orjson~=3.0 in /usr/local/lib/python3.11/dist-packages (from gradio) (3.10.18)\n",
            "Requirement already satisfied: packaging in /usr/local/lib/python3.11/dist-packages (from gradio) (24.2)\n",
            "Requirement already satisfied: pandas<3.0,>=1.0 in /usr/local/lib/python3.11/dist-packages (from gradio) (2.2.2)\n",
            "Requirement already satisfied: pillow<12.0,>=8.0 in /usr/local/lib/python3.11/dist-packages (from gradio) (10.4.0)\n",
            "Requirement already satisfied: pydantic<2.12,>=2.0 in /usr/local/lib/python3.11/dist-packages (from gradio) (2.11.4)\n",
            "Requirement already satisfied: pydub in /usr/local/lib/python3.11/dist-packages (from gradio) (0.25.1)\n",
            "Requirement already satisfied: python-multipart>=0.0.18 in /usr/local/lib/python3.11/dist-packages (from gradio) (0.0.20)\n",
            "Requirement already satisfied: pyyaml<7.0,>=5.0 in /usr/local/lib/python3.11/dist-packages (from gradio) (6.0.2)\n",
            "Requirement already satisfied: ruff>=0.9.3 in /usr/local/lib/python3.11/dist-packages (from gradio) (0.11.9)\n",
            "Requirement already satisfied: safehttpx<0.2.0,>=0.1.6 in /usr/local/lib/python3.11/dist-packages (from gradio) (0.1.6)\n",
            "Requirement already satisfied: semantic-version~=2.0 in /usr/local/lib/python3.11/dist-packages (from gradio) (2.10.0)\n",
            "Requirement already satisfied: starlette<1.0,>=0.40.0 in /usr/local/lib/python3.11/dist-packages (from gradio) (0.46.2)\n",
            "Requirement already satisfied: tomlkit<0.14.0,>=0.12.0 in /usr/local/lib/python3.11/dist-packages (from gradio) (0.12.0)\n",
            "Requirement already satisfied: typer<1.0,>=0.12 in /usr/local/lib/python3.11/dist-packages (from gradio) (0.15.3)\n",
            "Requirement already satisfied: typing-extensions~=4.0 in /usr/local/lib/python3.11/dist-packages (from gradio) (4.13.2)\n",
            "Requirement already satisfied: uvicorn>=0.14.0 in /usr/local/lib/python3.11/dist-packages (from gradio) (0.34.2)\n",
            "Requirement already satisfied: fsspec in /usr/local/lib/python3.11/dist-packages (from gradio-client==1.10.1->gradio) (2025.3.2)\n",
            "Requirement already satisfied: websockets<16.0,>=10.0 in /usr/local/lib/python3.11/dist-packages (from gradio-client==1.10.1->gradio) (11.0.3)\n",
            "Requirement already satisfied: idna>=2.8 in /usr/local/lib/python3.11/dist-packages (from anyio<5.0,>=3.0->gradio) (3.10)\n",
            "Requirement already satisfied: sniffio>=1.1 in /usr/local/lib/python3.11/dist-packages (from anyio<5.0,>=3.0->gradio) (1.3.1)\n",
            "Requirement already satisfied: certifi in /usr/local/lib/python3.11/dist-packages (from httpx>=0.24.1->gradio) (2025.4.26)\n",
            "Requirement already satisfied: httpcore==1.* in /usr/local/lib/python3.11/dist-packages (from httpx>=0.24.1->gradio) (1.0.9)\n",
            "Requirement already satisfied: h11>=0.16 in /usr/local/lib/python3.11/dist-packages (from httpcore==1.*->httpx>=0.24.1->gradio) (0.16.0)\n",
            "Requirement already satisfied: filelock in /usr/local/lib/python3.11/dist-packages (from huggingface-hub>=0.28.1->gradio) (3.18.0)\n",
            "Requirement already satisfied: requests in /usr/local/lib/python3.11/dist-packages (from huggingface-hub>=0.28.1->gradio) (2.32.3)\n",
            "Requirement already satisfied: tqdm>=4.42.1 in /usr/local/lib/python3.11/dist-packages (from huggingface-hub>=0.28.1->gradio) (4.67.1)\n",
            "Requirement already satisfied: hf-xet<2.0.0,>=1.1.0 in /usr/local/lib/python3.11/dist-packages (from huggingface-hub>=0.28.1->gradio) (1.1.0)\n",
            "Requirement already satisfied: python-dateutil>=2.8.2 in /usr/local/lib/python3.11/dist-packages (from pandas<3.0,>=1.0->gradio) (2.9.0.post0)\n",
            "Requirement already satisfied: pytz>=2020.1 in /usr/local/lib/python3.11/dist-packages (from pandas<3.0,>=1.0->gradio) (2025.2)\n",
            "Requirement already satisfied: tzdata>=2022.7 in /usr/local/lib/python3.11/dist-packages (from pandas<3.0,>=1.0->gradio) (2025.2)\n",
            "Requirement already satisfied: annotated-types>=0.6.0 in /usr/local/lib/python3.11/dist-packages (from pydantic<2.12,>=2.0->gradio) (0.7.0)\n",
            "Requirement already satisfied: pydantic-core==2.33.2 in /usr/local/lib/python3.11/dist-packages (from pydantic<2.12,>=2.0->gradio) (2.33.2)\n",
            "Requirement already satisfied: typing-inspection>=0.4.0 in /usr/local/lib/python3.11/dist-packages (from pydantic<2.12,>=2.0->gradio) (0.4.0)\n",
            "Requirement already satisfied: click>=8.0.0 in /usr/local/lib/python3.11/dist-packages (from typer<1.0,>=0.12->gradio) (8.1.8)\n",
            "Requirement already satisfied: shellingham>=1.3.0 in /usr/local/lib/python3.11/dist-packages (from typer<1.0,>=0.12->gradio) (1.5.4)\n",
            "Requirement already satisfied: rich>=10.11.0 in /usr/local/lib/python3.11/dist-packages (from typer<1.0,>=0.12->gradio) (13.9.4)\n",
            "Requirement already satisfied: six>=1.5 in /usr/local/lib/python3.11/dist-packages (from python-dateutil>=2.8.2->pandas<3.0,>=1.0->gradio) (1.17.0)\n",
            "Requirement already satisfied: markdown-it-py>=2.2.0 in /usr/local/lib/python3.11/dist-packages (from rich>=10.11.0->typer<1.0,>=0.12->gradio) (3.0.0)\n",
            "Requirement already satisfied: pygments<3.0.0,>=2.13.0 in /usr/local/lib/python3.11/dist-packages (from rich>=10.11.0->typer<1.0,>=0.12->gradio) (2.19.1)\n",
            "Requirement already satisfied: charset-normalizer<4,>=2 in /usr/local/lib/python3.11/dist-packages (from requests->huggingface-hub>=0.28.1->gradio) (3.4.2)\n",
            "Requirement already satisfied: urllib3<3,>=1.21.1 in /usr/local/lib/python3.11/dist-packages (from requests->huggingface-hub>=0.28.1->gradio) (2.4.0)\n",
            "Requirement already satisfied: mdurl~=0.1 in /usr/local/lib/python3.11/dist-packages (from markdown-it-py>=2.2.0->rich>=10.11.0->typer<1.0,>=0.12->gradio) (0.1.2)\n",
            "Using cached gradio-5.29.1-py3-none-any.whl (54.1 MB)\n",
            "Using cached gradio_client-1.10.1-py3-none-any.whl (323 kB)\n",
            "Installing collected packages: gradio-client, gradio\n",
            "  Attempting uninstall: gradio-client\n",
            "    Found existing installation: gradio_client 0.15.1\n",
            "    Uninstalling gradio_client-0.15.1:\n",
            "      Successfully uninstalled gradio_client-0.15.1\n",
            "  Attempting uninstall: gradio\n",
            "    Found existing installation: gradio 4.27.0\n",
            "    Uninstalling gradio-4.27.0:\n",
            "      Successfully uninstalled gradio-4.27.0\n",
            "Successfully installed gradio-5.29.1 gradio-client-1.10.1\n"
          ]
        }
      ],
      "source": [
        "!pip install -U gradio"
      ]
    },
    {
      "cell_type": "code",
      "source": [
        "print(\"Gradio version:\", gr.__version__)"
      ],
      "metadata": {
        "colab": {
          "base_uri": "https://localhost:8080/"
        },
        "id": "2lzRjSyaWi53",
        "outputId": "ad6ea2c7-38b0-4fa8-c60a-66b7a84afce4"
      },
      "execution_count": 44,
      "outputs": [
        {
          "output_type": "stream",
          "name": "stdout",
          "text": [
            "Gradio version: 5.29.1\n"
          ]
        }
      ]
    },
    {
      "cell_type": "code",
      "source": [
        "import gradio as gr\n",
        "\n",
        "# State variable to track login status\n",
        "is_logged_in = gr.State(False)\n",
        "\n",
        "# Main Gradio UI\n",
        "with gr.Blocks(css=r\"\"\"\n",
        ":root {\n",
        "  --brand-blue:   #0B4F8F;\n",
        "  --panel-blue:   #B4CDEA;\n",
        "}\n",
        "\n",
        "#header {\n",
        "  background: var(--brand-blue);\n",
        "  padding: 0.8rem 1.2rem;\n",
        "  display: flex;\n",
        "  align-items: center;\n",
        "  min-height: 100px;\n",
        "  color: white;\n",
        "}\n",
        "\n",
        "#right_header_panel {\n",
        "  display: flex;\n",
        "  flex-direction: column;\n",
        "  align-items: flex-end;\n",
        "}\n",
        "\"\"\") as demo:\n",
        "\n",
        "    # --------------- HEADER ----------------\n",
        "    with gr.Row(elem_id=\"header\", equal_height=True):\n",
        "        with gr.Column(scale=3):\n",
        "            gr.HTML(\"\"\"\n",
        "            <div>\n",
        "              <h1 style=\"margin:0;font-size:2rem;font-weight:800;\">OptiLine</h1>\n",
        "              <h3 style=\"margin:0;font-size:1.2rem;opacity:0.8;\">CIM & Robotics Lab - Braude College of Engineering</h3>\n",
        "            </div>\n",
        "            \"\"\")\n",
        "        with gr.Column(scale=1, elem_id=\"right_header_panel\"):\n",
        "            quit_btn = gr.Button(\"Quit\")\n",
        "\n",
        "    # --------------- MAIN DISPLAY ZONES ----------------\n",
        "\n",
        "    with gr.Row():\n",
        "\n",
        "        # ---------- LEFT PANEL: before login ----------\n",
        "        with gr.Column(scale=1, visible=True) as left_login_panel:\n",
        "            gr.Markdown(\"### Sign In:\")\n",
        "            username = gr.Textbox(label=\"Username\")\n",
        "            password = gr.Textbox(label=\"Password\", type=\"password\")\n",
        "            with gr.Row():\n",
        "                clear_btn = gr.Button(\"Clear\")\n",
        "                submit_btn = gr.Button(\"Submit\")\n",
        "            gr.Markdown(\"\"\"\n",
        "            **OptiLine** is your real-time production dashboard for the CIM & Robotics Lab.\n",
        "            Track sensor metrics, view real-time graphs, and join the optimisation leaderboard.\n",
        "            \"\"\")\n",
        "\n",
        "        # ---------- LEFT PANEL: after login ----------\n",
        "        with gr.Column(scale=1, visible=False) as left_dashboard_panel:\n",
        "            gr.Markdown(\"### Welcome back, **User**!\\nXP: 345 | Rank: #12\")\n",
        "            gr.Markdown(\"#### Menu:\\n> Search Engine\\n> Statistics\\n> Simulate Problems\")\n",
        "            gr.Markdown(\"#### Leaderboard:\\n1. Alice – 530 XP\\n2. Bob – 480 XP\")\n",
        "\n",
        "        # ---------- RIGHT PANEL: before login ----------\n",
        "        with gr.Column(scale=2, visible=True) as right_info_panel:\n",
        "            gr.Markdown(\"\"\"\n",
        "            ### About the system\n",
        "            - High-frequency sensor data (updated every second)\n",
        "            - Visualisation of environmental conditions\n",
        "            - Optimisation Race: complete challenges, gain XP\n",
        "            - Built for engineers and robotics lab staff\n",
        "            \"\"\")\n",
        "\n",
        "        # ---------- RIGHT PANEL: after login ----------\n",
        "        with gr.Column(scale=2, visible=False) as right_sensor_panel:\n",
        "            gr.Markdown(\"### Sensor Data Placeholder\")\n",
        "            gr.Markdown(\"* Temperature: 24.7 °C\\n* Humidity: 53%\\n* Pressure: 1001 hPa\")\n",
        "\n",
        "    # --------------- LOGIC ----------------\n",
        "\n",
        "    def clear_fields():\n",
        "        return \"\", \"\"\n",
        "\n",
        "    def do_login(user, pw):\n",
        "        if user == \"admin\" and pw == \"1234\":\n",
        "            return [\n",
        "                gr.update(visible=False),  # left_login_panel\n",
        "                gr.update(visible=True),   # left_dashboard_panel\n",
        "                gr.update(visible=False),  # right_info_panel\n",
        "                gr.update(visible=True),   # right_sensor_panel\n",
        "                True                       # is_logged_in = True\n",
        "            ]\n",
        "        else:\n",
        "            return [gr.update()] * 4 + [False]\n",
        "\n",
        "    def do_logout():\n",
        "        return [\n",
        "            gr.update(visible=True),   # left_login_panel\n",
        "            gr.update(visible=False),  # left_dashboard_panel\n",
        "            gr.update(visible=True),   # right_info_panel\n",
        "            gr.update(visible=False),  # right_sensor_panel\n",
        "            False                      # is_logged_in = False\n",
        "        ]\n",
        "\n",
        "    # Button callbacks\n",
        "    clear_btn.click(fn=clear_fields, outputs=[username, password])\n",
        "\n",
        "    submit_btn.click(\n",
        "        fn=do_login,\n",
        "        inputs=[username, password],\n",
        "        outputs=[\n",
        "            left_login_panel,\n",
        "            left_dashboard_panel,\n",
        "            right_info_panel,\n",
        "            right_sensor_panel,\n",
        "            is_logged_in\n",
        "        ]\n",
        "    )\n",
        "\n",
        "    quit_btn.click(\n",
        "        fn=do_logout,\n",
        "        outputs=[\n",
        "            left_login_panel,\n",
        "            left_dashboard_panel,\n",
        "            right_info_panel,\n",
        "            right_sensor_panel,\n",
        "            is_logged_in\n",
        "        ]\n",
        "    )\n",
        "\n",
        "# Launch app\n",
        "demo.launch()"
      ],
      "metadata": {
        "colab": {
          "base_uri": "https://localhost:8080/",
          "height": 650
        },
        "id": "vCjbgUXZBNSs",
        "outputId": "e6dfedc2-efde-40cd-a0b7-a2b091911f67"
      },
      "execution_count": 55,
      "outputs": [
        {
          "output_type": "stream",
          "name": "stdout",
          "text": [
            "It looks like you are running Gradio on a hosted a Jupyter notebook. For the Gradio app to work, sharing must be enabled. Automatically setting `share=True` (you can turn this off by setting `share=False` in `launch()` explicitly).\n",
            "\n",
            "Colab notebook detected. To show errors in colab notebook, set debug=True in launch()\n",
            "* Running on public URL: https://e8edbf0dbce5c27e87.gradio.live\n",
            "\n",
            "This share link expires in 1 week. For free permanent hosting and GPU upgrades, run `gradio deploy` from the terminal in the working directory to deploy to Hugging Face Spaces (https://huggingface.co/spaces)\n"
          ]
        },
        {
          "output_type": "display_data",
          "data": {
            "text/plain": [
              "<IPython.core.display.HTML object>"
            ],
            "text/html": [
              "<div><iframe src=\"https://e8edbf0dbce5c27e87.gradio.live\" width=\"100%\" height=\"500\" allow=\"autoplay; camera; microphone; clipboard-read; clipboard-write;\" frameborder=\"0\" allowfullscreen></iframe></div>"
            ]
          },
          "metadata": {}
        },
        {
          "output_type": "execute_result",
          "data": {
            "text/plain": []
          },
          "metadata": {},
          "execution_count": 55
        }
      ]
    }
  ]
}