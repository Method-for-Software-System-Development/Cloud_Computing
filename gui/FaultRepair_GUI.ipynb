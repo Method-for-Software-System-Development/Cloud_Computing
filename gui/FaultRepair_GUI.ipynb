{
  "nbformat": 4,
  "nbformat_minor": 0,
  "metadata": {
    "colab": {
      "provenance": [],
      "authorship_tag": "ABX9TyO/PtowqON8OAlyPFjlKCia",
      "include_colab_link": true
    },
    "kernelspec": {
      "name": "python3",
      "display_name": "Python 3"
    },
    "language_info": {
      "name": "python"
    }
  },
  "cells": [
    {
      "cell_type": "markdown",
      "metadata": {
        "id": "view-in-github",
        "colab_type": "text"
      },
      "source": [
        "<a href=\"https://colab.research.google.com/github/Method-for-Software-System-Development/Cloud_Computing/blob/develop/gui/FaultRepair_GUI.ipynb\" target=\"_parent\"><img src=\"https://colab.research.google.com/assets/colab-badge.svg\" alt=\"Open In Colab\"/></a>"
      ]
    },
    {
      "cell_type": "code",
      "source": [
        "from IPython import get_ipython\n",
        "from IPython.display import display\n",
        "!pip install gradio --quiet\n",
        "%pip install importnb"
      ],
      "metadata": {
        "colab": {
          "base_uri": "https://localhost:8080/"
        },
        "id": "9Sj_VG8HI1yz",
        "outputId": "110ff2e5-5ebe-4890-f4ac-dfa110152b69"
      },
      "execution_count": null,
      "outputs": [
        {
          "output_type": "stream",
          "name": "stdout",
          "text": [
            "\u001b[2K   \u001b[90m━━━━━━━━━━━━━━━━━━━━━━━━━━━━━━━━━━━━━━━━\u001b[0m \u001b[32m54.1/54.1 MB\u001b[0m \u001b[31m8.5 MB/s\u001b[0m eta \u001b[36m0:00:00\u001b[0m\n",
            "\u001b[2K   \u001b[90m━━━━━━━━━━━━━━━━━━━━━━━━━━━━━━━━━━━━━━━━\u001b[0m \u001b[32m323.1/323.1 kB\u001b[0m \u001b[31m5.5 MB/s\u001b[0m eta \u001b[36m0:00:00\u001b[0m\n",
            "\u001b[2K   \u001b[90m━━━━━━━━━━━━━━━━━━━━━━━━━━━━━━━━━━━━━━━━\u001b[0m \u001b[32m95.2/95.2 kB\u001b[0m \u001b[31m2.0 MB/s\u001b[0m eta \u001b[36m0:00:00\u001b[0m\n",
            "\u001b[2K   \u001b[90m━━━━━━━━━━━━━━━━━━━━━━━━━━━━━━━━━━━━━━━━\u001b[0m \u001b[32m11.6/11.6 MB\u001b[0m \u001b[31m20.3 MB/s\u001b[0m eta \u001b[36m0:00:00\u001b[0m\n",
            "\u001b[2K   \u001b[90m━━━━━━━━━━━━━━━━━━━━━━━━━━━━━━━━━━━━━━━━\u001b[0m \u001b[32m72.0/72.0 kB\u001b[0m \u001b[31m4.1 MB/s\u001b[0m eta \u001b[36m0:00:00\u001b[0m\n",
            "\u001b[2K   \u001b[90m━━━━━━━━━━━━━━━━━━━━━━━━━━━━━━━━━━━━━━━━\u001b[0m \u001b[32m62.5/62.5 kB\u001b[0m \u001b[31m2.9 MB/s\u001b[0m eta \u001b[36m0:00:00\u001b[0m\n",
            "\u001b[?25hCollecting importnb\n",
            "  Downloading importnb-2023.11.1-py3-none-any.whl.metadata (9.4 kB)\n",
            "Downloading importnb-2023.11.1-py3-none-any.whl (45 kB)\n",
            "\u001b[2K   \u001b[90m━━━━━━━━━━━━━━━━━━━━━━━━━━━━━━━━━━━━━━━━\u001b[0m \u001b[32m46.0/46.0 kB\u001b[0m \u001b[31m1.6 MB/s\u001b[0m eta \u001b[36m0:00:00\u001b[0m\n",
            "\u001b[?25hInstalling collected packages: importnb\n",
            "Successfully installed importnb-2023.11.1\n"
          ]
        }
      ]
    },
    {
      "cell_type": "code",
      "execution_count": null,
      "metadata": {
        "colab": {
          "base_uri": "https://localhost:8080/",
          "height": 1000
        },
        "id": "Ux5h1TBth2EU",
        "outputId": "b7720918-99bf-4ace-91fc-6e64855b5a57"
      },
      "outputs": [
        {
          "output_type": "stream",
          "name": "stdout",
          "text": [
            "omer_cohen 200\n",
            "shira_gold 200\n",
            "daniel_bar 200\n",
            "roni_benami 200\n",
            "lior_levi 200\n",
            "yael_elyashiv 200\n",
            "noa_katz 200\n",
            "matan_tal 200\n",
            "or_peled 200\n",
            "tom_segal 200\n",
            "Indoor Sensor Data:\n",
            "Status: 200 | Uploaded: {'Temperature': 26.4, 'Humidity': 41.0, 'Pressure': 974.1, 'Distance': 210.1}\n",
            "Status: 200 | Uploaded: {'Temperature': 30.2, 'Humidity': 28.7, 'Pressure': 963.5, 'Distance': 8.9}\n",
            "Status: 200 | Uploaded: {'Temperature': 36.5, 'Humidity': 91.3, 'Pressure': 919.8, 'Distance': 12.2}\n",
            "Status: 200 | Uploaded: {'Temperature': 27.1, 'Humidity': 73.0, 'Pressure': 1050.4, 'Distance': 205.0}\n",
            "Status: 200 | Uploaded: {'Temperature': 25.8, 'Humidity': 45.2, 'Pressure': 960.0, 'Distance': 210.0}\n",
            "Status: 200 | Uploaded: {'Temperature': 32.7, 'Humidity': 29.5, 'Pressure': 940.2, 'Distance': 7.5}\n",
            "Status: 200 | Uploaded: {'Temperature': 28.9, 'Humidity': 89.9, 'Pressure': 950.6, 'Distance': 250.0}\n",
            "Status: 200 | Uploaded: {'Temperature': 30.0, 'Humidity': 70.1, 'Pressure': 960.1, 'Distance': 9.5}\n",
            "Status: 200 | Uploaded: {'Temperature': 35.1, 'Humidity': 93.0, 'Pressure': 1082.3, 'Distance': 10.1}\n",
            "Status: 200 | Uploaded: {'Temperature': 29.4, 'Humidity': 55.6, 'Pressure': 1045.0, 'Distance': 300.0}\n",
            "Status: 200 | Uploaded: {'Temperature': 26.2, 'Humidity': 31.5, 'Pressure': 978.0, 'Distance': 190.0}\n",
            "Status: 200 | Uploaded: {'Temperature': 33.3, 'Humidity': 85.0, 'Pressure': 941.0, 'Distance': 199.9}\n",
            "Status: 200 | Uploaded: {'Temperature': 24.6, 'Humidity': 27.9, 'Pressure': 938.5, 'Distance': 180.0}\n",
            "Status: 200 | Uploaded: {'Temperature': 37.0, 'Humidity': 95.2, 'Pressure': 930.0, 'Distance': 6.5}\n",
            "Status: 200 | Uploaded: {'Temperature': 31.0, 'Humidity': 65.0, 'Pressure': 970.2, 'Distance': 15.0}\n",
            "Outdoor Sensor Data:\n",
            "Status: 200 | Uploaded: {'Temperature': 27.3, 'Humidity': 65.2, 'Dlight': 8500}\n",
            "Status: 200 | Uploaded: {'Temperature': 41.2, 'Humidity': 78.5, 'Dlight': 12000}\n",
            "Status: 200 | Uploaded: {'Temperature': 50.1, 'Humidity': 82.3, 'Dlight': 9800}\n",
            "Status: 200 | Uploaded: {'Temperature': 19.8, 'Humidity': 55.1, 'Dlight': 450}\n",
            "Status: 200 | Uploaded: {'Temperature': 38.6, 'Humidity': 79.9, 'Dlight': 7300}\n",
            "Status: 200 | Uploaded: {'Temperature': 44.4, 'Humidity': 81.0, 'Dlight': 6500}\n",
            "Status: 200 | Uploaded: {'Temperature': -1.2, 'Humidity': 63.4, 'Dlight': 200}\n",
            "Status: 200 | Uploaded: {'Temperature': 0.0, 'Humidity': 70.2, 'Dlight': 500}\n",
            "Status: 200 | Uploaded: {'Temperature': 31.0, 'Humidity': 85.0, 'Dlight': 9100}\n",
            "Status: 200 | Uploaded: {'Temperature': 48.8, 'Humidity': 74.0, 'Dlight': 13000}\n",
            "Status: 200 | Uploaded: {'Temperature': 35.6, 'Humidity': 60.6, 'Dlight': 10200}\n",
            "Status: 200 | Uploaded: {'Temperature': 40.1, 'Humidity': 80.1, 'Dlight': 10800}\n",
            "Status: 200 | Uploaded: {'Temperature': 50.0, 'Humidity': 77.7, 'Dlight': 9900}\n",
            "Status: 200 | Uploaded: {'Temperature': 45.3, 'Humidity': 88.0, 'Dlight': 8700}\n",
            "Status: 200 | Uploaded: {'Temperature': 32.5, 'Humidity': 64.0, 'Dlight': 300}\n",
            "Status: 200 | Uploaded: {'Temperature': 29.4, 'Humidity': 82.5, 'Dlight': 1400}\n",
            "Status: 200 | Uploaded: {'Temperature': 42.2, 'Humidity': 90.1, 'Dlight': 250}\n",
            "Status: 200 | Uploaded: {'Temperature': 30.0, 'Humidity': 79.8, 'Dlight': 10000}\n",
            "Status: 200 | Uploaded: {'Temperature': 49.0, 'Humidity': 81.9, 'Dlight': 11500}\n",
            "Status: 200 | Uploaded: {'Temperature': -3.5, 'Humidity': 67.2, 'Dlight': 5}\n"
          ]
        },
        {
          "output_type": "error",
          "ename": "ImportError",
          "evalue": "cannot import name 'FAULT_RULES' from 'FAULT_RULES' (/content/Cloud_Computing/logic/FAULT_RULES.ipynb)",
          "traceback": [
            "\u001b[0;31m---------------------------------------------------------------------------\u001b[0m",
            "\u001b[0;31mImportError\u001b[0m                               Traceback (most recent call last)",
            "\u001b[0;32m<ipython-input-2-9585a6c2cf99>\u001b[0m in \u001b[0;36m<cell line: 0>\u001b[0;34m()\u001b[0m\n\u001b[1;32m     26\u001b[0m \u001b[0;32mfrom\u001b[0m \u001b[0mimportnb\u001b[0m \u001b[0;32mimport\u001b[0m \u001b[0mNotebook\u001b[0m\u001b[0;34m\u001b[0m\u001b[0;34m\u001b[0m\u001b[0m\n\u001b[1;32m     27\u001b[0m \u001b[0;32mwith\u001b[0m \u001b[0mNotebook\u001b[0m\u001b[0;34m(\u001b[0m\u001b[0;34m)\u001b[0m\u001b[0;34m:\u001b[0m\u001b[0;34m\u001b[0m\u001b[0;34m\u001b[0m\u001b[0m\n\u001b[0;32m---> 28\u001b[0;31m     \u001b[0;32mimport\u001b[0m \u001b[0mFault_controller\u001b[0m \u001b[0;32mas\u001b[0m \u001b[0mfc\u001b[0m\u001b[0;34m\u001b[0m\u001b[0;34m\u001b[0m\u001b[0m\n\u001b[0m\u001b[1;32m     29\u001b[0m     \u001b[0;32mimport\u001b[0m \u001b[0mrepair_controller\u001b[0m \u001b[0;32mas\u001b[0m \u001b[0mfr\u001b[0m\u001b[0;34m\u001b[0m\u001b[0;34m\u001b[0m\u001b[0m\n",
            "\u001b[0;32m/usr/local/lib/python3.11/dist-packages/importnb/loader.py\u001b[0m in \u001b[0;36mexec_module\u001b[0;34m(self, module)\u001b[0m\n\u001b[1;32m    188\u001b[0m                 \u001b[0msys\u001b[0m\u001b[0;34m.\u001b[0m\u001b[0mmodules\u001b[0m\u001b[0;34m.\u001b[0m\u001b[0mpop\u001b[0m\u001b[0;34m(\u001b[0m\u001b[0malias\u001b[0m\u001b[0;34m,\u001b[0m \u001b[0;32mNone\u001b[0m\u001b[0;34m)\u001b[0m\u001b[0;34m\u001b[0m\u001b[0;34m\u001b[0m\u001b[0m\n\u001b[1;32m    189\u001b[0m \u001b[0;34m\u001b[0m\u001b[0m\n\u001b[0;32m--> 190\u001b[0;31m             \u001b[0;32mraise\u001b[0m \u001b[0me\u001b[0m\u001b[0;34m\u001b[0m\u001b[0;34m\u001b[0m\u001b[0m\n\u001b[0m\u001b[1;32m    191\u001b[0m \u001b[0;34m\u001b[0m\u001b[0m\n\u001b[1;32m    192\u001b[0m     \u001b[0;32mdef\u001b[0m \u001b[0maexec_module_sync\u001b[0m\u001b[0;34m(\u001b[0m\u001b[0mself\u001b[0m\u001b[0;34m,\u001b[0m \u001b[0mmodule\u001b[0m\u001b[0;34m)\u001b[0m\u001b[0;34m:\u001b[0m\u001b[0;34m\u001b[0m\u001b[0;34m\u001b[0m\u001b[0m\n",
            "\u001b[0;32m/usr/local/lib/python3.11/dist-packages/importnb/loader.py\u001b[0m in \u001b[0;36mexec_module\u001b[0;34m(self, module)\u001b[0m\n\u001b[1;32m    179\u001b[0m             \u001b[0;32mif\u001b[0m \u001b[0minspect\u001b[0m\u001b[0;34m.\u001b[0m\u001b[0mCO_COROUTINE\u001b[0m \u001b[0;32mnot\u001b[0m \u001b[0;32min\u001b[0m \u001b[0m_get_co_flags_set\u001b[0m\u001b[0;34m(\u001b[0m\u001b[0mcode\u001b[0m\u001b[0;34m.\u001b[0m\u001b[0mco_flags\u001b[0m\u001b[0;34m)\u001b[0m\u001b[0;34m:\u001b[0m\u001b[0;34m\u001b[0m\u001b[0;34m\u001b[0m\u001b[0m\n\u001b[1;32m    180\u001b[0m                 \u001b[0;31m# if there isn't any async non sense then we proceed with convention.\u001b[0m\u001b[0;34m\u001b[0m\u001b[0;34m\u001b[0m\u001b[0m\n\u001b[0;32m--> 181\u001b[0;31m                 \u001b[0mbootstrap\u001b[0m\u001b[0;34m.\u001b[0m\u001b[0m_call_with_frames_removed\u001b[0m\u001b[0;34m(\u001b[0m\u001b[0mexec\u001b[0m\u001b[0;34m,\u001b[0m \u001b[0mcode\u001b[0m\u001b[0;34m,\u001b[0m \u001b[0mmodule\u001b[0m\u001b[0;34m.\u001b[0m\u001b[0m__dict__\u001b[0m\u001b[0;34m)\u001b[0m\u001b[0;34m\u001b[0m\u001b[0;34m\u001b[0m\u001b[0m\n\u001b[0m\u001b[1;32m    182\u001b[0m             \u001b[0;32melse\u001b[0m\u001b[0;34m:\u001b[0m\u001b[0;34m\u001b[0m\u001b[0;34m\u001b[0m\u001b[0m\n\u001b[1;32m    183\u001b[0m                 \u001b[0mself\u001b[0m\u001b[0;34m.\u001b[0m\u001b[0maexec_module_sync\u001b[0m\u001b[0;34m(\u001b[0m\u001b[0mmodule\u001b[0m\u001b[0;34m)\u001b[0m\u001b[0;34m\u001b[0m\u001b[0;34m\u001b[0m\u001b[0m\n",
            "\u001b[0;32m/content/Cloud_Computing/logic/Fault_controller.ipynb\u001b[0m in \u001b[0;36m<module>\u001b[0;34m\u001b[0m\n\u001b[1;32m     63\u001b[0m \u001b[0;32mwith\u001b[0m \u001b[0mNotebook\u001b[0m\u001b[0;34m(\u001b[0m\u001b[0;34m)\u001b[0m\u001b[0;34m:\u001b[0m\u001b[0;34m\u001b[0m\u001b[0;34m\u001b[0m\u001b[0m\n\u001b[1;32m     64\u001b[0m     \u001b[0;32mimport\u001b[0m \u001b[0mFireBase\u001b[0m \u001b[0;32mas\u001b[0m \u001b[0mfb\u001b[0m                           \u001b[0;31m# now fb.add_user, fb.get_user, etc. are available\u001b[0m\u001b[0;34m\u001b[0m\u001b[0;34m\u001b[0m\u001b[0m\n\u001b[0;32m---> 65\u001b[0;31m     \u001b[0;32mfrom\u001b[0m \u001b[0mFAULT_RULES\u001b[0m \u001b[0;32mimport\u001b[0m \u001b[0mFAULT_RULES\u001b[0m \u001b[0;32mas\u001b[0m \u001b[0mfr\u001b[0m       \u001b[0;31m# now FAULT_RULES are aviable to use\u001b[0m\u001b[0;34m\u001b[0m\u001b[0;34m\u001b[0m\u001b[0m\n\u001b[0m\u001b[1;32m     66\u001b[0m \u001b[0;34m\u001b[0m\u001b[0m\n\u001b[1;32m     67\u001b[0m \u001b[0;34m\u001b[0m\u001b[0m\n",
            "\u001b[0;31mImportError\u001b[0m: cannot import name 'FAULT_RULES' from 'FAULT_RULES' (/content/Cloud_Computing/logic/FAULT_RULES.ipynb)",
            "",
            "\u001b[0;31m---------------------------------------------------------------------------\u001b[0;32m\nNOTE: If your import is failing due to a missing package, you can\nmanually install dependencies using either !pip or !apt.\n\nTo view examples of installing some common dependencies, click the\n\"Open Examples\" button below.\n\u001b[0;31m---------------------------------------------------------------------------\u001b[0m\n"
          ],
          "errorDetails": {
            "actions": [
              {
                "action": "open_url",
                "actionText": "Open Examples",
                "url": "/notebooks/snippets/importing_libraries.ipynb"
              }
            ]
          }
        }
      ],
      "source": [
        "import os, subprocess, sys\n",
        "\n",
        "REPO_DIR = \"/content/Cloud_Computing\"\n",
        "LOGIC_DIR = os.path.join(REPO_DIR, \"logic\")\n",
        "\n",
        "# Clone the repo if it's not there yet\n",
        "if not os.path.isdir(REPO_DIR):\n",
        "    subprocess.run([\n",
        "        \"git\", \"clone\", \"-b\", \"develop\",\n",
        "        \"https://github.com/Method-for-Software-System-Development/Cloud_Computing.git\",\n",
        "        REPO_DIR\n",
        "    ], check=True)\n",
        "\n",
        "# Pull latest from develop\n",
        "subprocess.run([\"git\", \"-C\", REPO_DIR, \"fetch\", \"origin\"], check=True)\n",
        "subprocess.run([\"git\", \"-C\", REPO_DIR, \"checkout\", \"develop\"], check=True)\n",
        "subprocess.run([\"git\", \"-C\", REPO_DIR, \"pull\"], check=True)\n",
        "\n",
        "# Install importnb (for notebook importing)\n",
        "%pip install importnb --quiet\n",
        "\n",
        "# Add logic folder to sys.path so we can import from it\n",
        "sys.path.append(LOGIC_DIR)\n",
        "\n",
        "# Import Fault_controller from logic/Fault_controller.ipynb\n",
        "from importnb import Notebook\n",
        "with Notebook():\n",
        "    import Fault_controller as fc\n",
        "    import repair_controller as fr"
      ]
    },
    {
      "cell_type": "code",
      "source": [
        "\n",
        "import gradio as gr\n",
        "from IPython.display import display\n",
        "# --- UI Logic ---\n",
        "def render_latest_fault_card():\n",
        "    faults = fc.fb.get_active_faults()\n",
        "    if not faults:\n",
        "        return \"<div class='no-fault'>✅ No faults currently detected</div>\"\n",
        "\n",
        "    # Get the last fault by time\n",
        "    sorted_faults = sorted(faults.items(), key=lambda x: x[1].get(\"timestamp\", \"\"), reverse=True)\n",
        "    fault_id, fault = sorted_faults[0]\n",
        "\n",
        "    title = fault.get(\"title\", \"Unknown\")\n",
        "    severity = fault.get(\"severity\", \"Unknown\")\n",
        "    status = fault.get(\"status\", \"Unknown\")\n",
        "    steps = fault.get(\"steps\", [])\n",
        "    xp = fault.get(\"xp\", 50)\n",
        "    timestamp = title.split(\" (\")[-1].replace(\")\", \"\") if \"(\" in title else \"Unknown\"\n",
        "\n",
        "    # Clean title for display\n",
        "    display_title = title.split(\" (\")[0]\n",
        "\n",
        "    steps_html = \"\".join(f\"<li>{step}</li>\" for step in steps)\n",
        "\n",
        "    severity_color = {\n",
        "        \"High\": \"#f44336\",\n",
        "        \"Medium\": \"#ff9800\",\n",
        "        \"Low\": \"#4caf50\"\n",
        "    }.get(severity, \"#9e9e9e\")\n",
        "\n",
        "    return f\"\"\"\n",
        "    <div class=\"card\">\n",
        "      <div class=\"left\" style=\"background-color:{severity_color};\">\n",
        "        <h3>🚨 NEW FAULT DETECTED</h3>\n",
        "        <p><b>{timestamp}</b></p>\n",
        "        <h2>{display_title}</h2>\n",
        "        <p><b>Severity:</b> {severity}</p>\n",
        "        <p><b>Status:</b> {status}</p>\n",
        "        <p><b>Suggested Actions:</b></p>\n",
        "        <ul>{steps_html}</ul>\n",
        "      </div>\n",
        "      <div class=\"right\">\n",
        "        <h3>🛠️ REPAIR CHALLENGE</h3>\n",
        "        <p>Earn XP by fixing <b>{display_title}</b></p>\n",
        "        <p>Repair Steps:</p>\n",
        "        <ul>{steps_html}</ul>\n",
        "        <div class=\"xp\">🎯 {xp} XP</div>\n",
        "        <button onclick=\"alert('Repair Started!')\">Start Repair</button>\n",
        "      </div>\n",
        "    </div>\n",
        "    \"\"\""
      ],
      "metadata": {
        "id": "R4PrLHCNr8yf"
      },
      "execution_count": null,
      "outputs": []
    },
    {
      "cell_type": "code",
      "source": [
        "\n",
        "# --- Gradio UI ---\n",
        "with gr.Blocks(css=\"\"\"\n",
        ".card {\n",
        "  display: flex;\n",
        "  width: 100%;\n",
        "  border: 1px solid #ccc;\n",
        "  border-radius: 16px;\n",
        "  overflow: hidden;\n",
        "  box-shadow: 0 4px 8px rgba(0,0,0,0.1);\n",
        "  margin-top: 20px;\n",
        "  font-family: 'Segoe UI', sans-serif;\n",
        "}\n",
        ".left, .right {\n",
        "  padding: 20px;\n",
        "  color: white;\n",
        "}\n",
        ".left {\n",
        "  width: 60%;\n",
        "}\n",
        ".right {\n",
        "  width: 40%;\n",
        "  background: #f5f5f5;\n",
        "  color: black;\n",
        "}\n",
        ".right button {\n",
        "  padding: 10px 16px;\n",
        "  background-color: #4caf50;\n",
        "  color: white;\n",
        "  border: none;\n",
        "  border-radius: 6px;\n",
        "  cursor: pointer;\n",
        "}\n",
        ".right button:hover {\n",
        "  background-color: #43a047;\n",
        "}\n",
        ".right .xp {\n",
        "  margin: 10px 0;\n",
        "  font-size: 18px;\n",
        "  font-weight: bold;\n",
        "  color: #ff9800;\n",
        "}\n",
        "ul {\n",
        "  padding-left: 20px;\n",
        "}\n",
        ".no-fault {\n",
        "  font-size: 20px;\n",
        "  padding: 20px;\n",
        "  color: green;\n",
        "}\n",
        "\"\"\") as demo:\n",
        "    gr.Markdown(\"## 🛠️ Latest Fault Overview\")\n",
        "    gr.HTML(render_latest_fault_card, every=5)\n",
        "\n",
        "demo.launch()"
      ],
      "metadata": {
        "id": "30RGjc0QJUYY"
      },
      "execution_count": null,
      "outputs": []
    }
  ]
}