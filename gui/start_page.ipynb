{
  "nbformat": 4,
  "nbformat_minor": 0,
  "metadata": {
    "colab": {
      "provenance": [],
      "authorship_tag": "ABX9TyPE+dmyea+864OS9aFEFK/9",
      "include_colab_link": true
    },
    "kernelspec": {
      "name": "python3",
      "display_name": "Python 3"
    },
    "language_info": {
      "name": "python"
    }
  },
  "cells": [
    {
      "cell_type": "markdown",
      "metadata": {
        "id": "view-in-github",
        "colab_type": "text"
      },
      "source": [
        "<a href=\"https://colab.research.google.com/github/Method-for-Software-System-Development/Cloud_Computing/blob/develop/gui/start_page.ipynb\" target=\"_parent\"><img src=\"https://colab.research.google.com/assets/colab-badge.svg\" alt=\"Open In Colab\"/></a>"
      ]
    },
    {
      "cell_type": "code",
      "execution_count": 8,
      "metadata": {
        "colab": {
          "base_uri": "https://localhost:8080/"
        },
        "collapsed": true,
        "id": "VAlxuKQ-5JgL",
        "outputId": "83dfdb6d-2f6a-4231-e729-90c4226d0101"
      },
      "outputs": [
        {
          "output_type": "stream",
          "name": "stdout",
          "text": [
            "Requirement already satisfied: gradio in /usr/local/lib/python3.11/dist-packages (4.27.0)\n",
            "Requirement already satisfied: aiofiles<24.0,>=22.0 in /usr/local/lib/python3.11/dist-packages (from gradio) (23.2.1)\n",
            "Requirement already satisfied: altair<6.0,>=4.2.0 in /usr/local/lib/python3.11/dist-packages (from gradio) (5.5.0)\n",
            "Requirement already satisfied: fastapi in /usr/local/lib/python3.11/dist-packages (from gradio) (0.115.12)\n",
            "Requirement already satisfied: ffmpy in /usr/local/lib/python3.11/dist-packages (from gradio) (0.5.0)\n",
            "Requirement already satisfied: gradio-client==0.15.1 in /usr/local/lib/python3.11/dist-packages (from gradio) (0.15.1)\n",
            "Requirement already satisfied: httpx>=0.24.1 in /usr/local/lib/python3.11/dist-packages (from gradio) (0.28.1)\n",
            "Requirement already satisfied: huggingface-hub>=0.19.3 in /usr/local/lib/python3.11/dist-packages (from gradio) (0.31.1)\n",
            "Requirement already satisfied: importlib-resources<7.0,>=1.3 in /usr/local/lib/python3.11/dist-packages (from gradio) (6.5.2)\n",
            "Requirement already satisfied: jinja2<4.0 in /usr/local/lib/python3.11/dist-packages (from gradio) (3.1.6)\n",
            "Requirement already satisfied: markupsafe~=2.0 in /usr/local/lib/python3.11/dist-packages (from gradio) (2.1.5)\n",
            "Requirement already satisfied: matplotlib~=3.0 in /usr/local/lib/python3.11/dist-packages (from gradio) (3.10.0)\n",
            "Requirement already satisfied: numpy~=1.0 in /usr/local/lib/python3.11/dist-packages (from gradio) (1.26.4)\n",
            "Requirement already satisfied: orjson~=3.0 in /usr/local/lib/python3.11/dist-packages (from gradio) (3.10.18)\n",
            "Requirement already satisfied: packaging in /usr/local/lib/python3.11/dist-packages (from gradio) (24.2)\n",
            "Requirement already satisfied: pandas<3.0,>=1.0 in /usr/local/lib/python3.11/dist-packages (from gradio) (2.2.2)\n",
            "Requirement already satisfied: pillow<11.0,>=8.0 in /usr/local/lib/python3.11/dist-packages (from gradio) (10.4.0)\n",
            "Requirement already satisfied: pydantic>=2.0 in /usr/local/lib/python3.11/dist-packages (from gradio) (2.11.4)\n",
            "Requirement already satisfied: pydub in /usr/local/lib/python3.11/dist-packages (from gradio) (0.25.1)\n",
            "Requirement already satisfied: python-multipart>=0.0.9 in /usr/local/lib/python3.11/dist-packages (from gradio) (0.0.20)\n",
            "Requirement already satisfied: pyyaml<7.0,>=5.0 in /usr/local/lib/python3.11/dist-packages (from gradio) (6.0.2)\n",
            "Requirement already satisfied: ruff>=0.2.2 in /usr/local/lib/python3.11/dist-packages (from gradio) (0.11.9)\n",
            "Requirement already satisfied: semantic-version~=2.0 in /usr/local/lib/python3.11/dist-packages (from gradio) (2.10.0)\n",
            "Requirement already satisfied: tomlkit==0.12.0 in /usr/local/lib/python3.11/dist-packages (from gradio) (0.12.0)\n",
            "Requirement already satisfied: typer<1.0,>=0.12 in /usr/local/lib/python3.11/dist-packages (from gradio) (0.15.3)\n",
            "Requirement already satisfied: typing-extensions~=4.0 in /usr/local/lib/python3.11/dist-packages (from gradio) (4.13.2)\n",
            "Requirement already satisfied: urllib3~=2.0 in /usr/local/lib/python3.11/dist-packages (from gradio) (2.4.0)\n",
            "Requirement already satisfied: uvicorn>=0.14.0 in /usr/local/lib/python3.11/dist-packages (from gradio) (0.34.2)\n",
            "Requirement already satisfied: fsspec in /usr/local/lib/python3.11/dist-packages (from gradio-client==0.15.1->gradio) (2025.3.2)\n",
            "Requirement already satisfied: websockets<12.0,>=10.0 in /usr/local/lib/python3.11/dist-packages (from gradio-client==0.15.1->gradio) (11.0.3)\n",
            "Requirement already satisfied: jsonschema>=3.0 in /usr/local/lib/python3.11/dist-packages (from altair<6.0,>=4.2.0->gradio) (4.23.0)\n",
            "Requirement already satisfied: narwhals>=1.14.2 in /usr/local/lib/python3.11/dist-packages (from altair<6.0,>=4.2.0->gradio) (1.38.2)\n",
            "Requirement already satisfied: anyio in /usr/local/lib/python3.11/dist-packages (from httpx>=0.24.1->gradio) (4.9.0)\n",
            "Requirement already satisfied: certifi in /usr/local/lib/python3.11/dist-packages (from httpx>=0.24.1->gradio) (2025.4.26)\n",
            "Requirement already satisfied: httpcore==1.* in /usr/local/lib/python3.11/dist-packages (from httpx>=0.24.1->gradio) (1.0.9)\n",
            "Requirement already satisfied: idna in /usr/local/lib/python3.11/dist-packages (from httpx>=0.24.1->gradio) (3.10)\n",
            "Requirement already satisfied: h11>=0.16 in /usr/local/lib/python3.11/dist-packages (from httpcore==1.*->httpx>=0.24.1->gradio) (0.16.0)\n",
            "Requirement already satisfied: filelock in /usr/local/lib/python3.11/dist-packages (from huggingface-hub>=0.19.3->gradio) (3.18.0)\n",
            "Requirement already satisfied: requests in /usr/local/lib/python3.11/dist-packages (from huggingface-hub>=0.19.3->gradio) (2.32.3)\n",
            "Requirement already satisfied: tqdm>=4.42.1 in /usr/local/lib/python3.11/dist-packages (from huggingface-hub>=0.19.3->gradio) (4.67.1)\n",
            "Requirement already satisfied: hf-xet<2.0.0,>=1.1.0 in /usr/local/lib/python3.11/dist-packages (from huggingface-hub>=0.19.3->gradio) (1.1.0)\n",
            "Requirement already satisfied: contourpy>=1.0.1 in /usr/local/lib/python3.11/dist-packages (from matplotlib~=3.0->gradio) (1.3.2)\n",
            "Requirement already satisfied: cycler>=0.10 in /usr/local/lib/python3.11/dist-packages (from matplotlib~=3.0->gradio) (0.12.1)\n",
            "Requirement already satisfied: fonttools>=4.22.0 in /usr/local/lib/python3.11/dist-packages (from matplotlib~=3.0->gradio) (4.57.0)\n",
            "Requirement already satisfied: kiwisolver>=1.3.1 in /usr/local/lib/python3.11/dist-packages (from matplotlib~=3.0->gradio) (1.4.8)\n",
            "Requirement already satisfied: pyparsing>=2.3.1 in /usr/local/lib/python3.11/dist-packages (from matplotlib~=3.0->gradio) (3.2.3)\n",
            "Requirement already satisfied: python-dateutil>=2.7 in /usr/local/lib/python3.11/dist-packages (from matplotlib~=3.0->gradio) (2.9.0.post0)\n",
            "Requirement already satisfied: pytz>=2020.1 in /usr/local/lib/python3.11/dist-packages (from pandas<3.0,>=1.0->gradio) (2025.2)\n",
            "Requirement already satisfied: tzdata>=2022.7 in /usr/local/lib/python3.11/dist-packages (from pandas<3.0,>=1.0->gradio) (2025.2)\n",
            "Requirement already satisfied: annotated-types>=0.6.0 in /usr/local/lib/python3.11/dist-packages (from pydantic>=2.0->gradio) (0.7.0)\n",
            "Requirement already satisfied: pydantic-core==2.33.2 in /usr/local/lib/python3.11/dist-packages (from pydantic>=2.0->gradio) (2.33.2)\n",
            "Requirement already satisfied: typing-inspection>=0.4.0 in /usr/local/lib/python3.11/dist-packages (from pydantic>=2.0->gradio) (0.4.0)\n",
            "Requirement already satisfied: click>=8.0.0 in /usr/local/lib/python3.11/dist-packages (from typer<1.0,>=0.12->gradio) (8.1.8)\n",
            "Requirement already satisfied: shellingham>=1.3.0 in /usr/local/lib/python3.11/dist-packages (from typer<1.0,>=0.12->gradio) (1.5.4)\n",
            "Requirement already satisfied: rich>=10.11.0 in /usr/local/lib/python3.11/dist-packages (from typer<1.0,>=0.12->gradio) (13.9.4)\n",
            "Requirement already satisfied: starlette<0.47.0,>=0.40.0 in /usr/local/lib/python3.11/dist-packages (from fastapi->gradio) (0.46.2)\n",
            "Requirement already satisfied: attrs>=22.2.0 in /usr/local/lib/python3.11/dist-packages (from jsonschema>=3.0->altair<6.0,>=4.2.0->gradio) (25.3.0)\n",
            "Requirement already satisfied: jsonschema-specifications>=2023.03.6 in /usr/local/lib/python3.11/dist-packages (from jsonschema>=3.0->altair<6.0,>=4.2.0->gradio) (2025.4.1)\n",
            "Requirement already satisfied: referencing>=0.28.4 in /usr/local/lib/python3.11/dist-packages (from jsonschema>=3.0->altair<6.0,>=4.2.0->gradio) (0.36.2)\n",
            "Requirement already satisfied: rpds-py>=0.7.1 in /usr/local/lib/python3.11/dist-packages (from jsonschema>=3.0->altair<6.0,>=4.2.0->gradio) (0.24.0)\n",
            "Requirement already satisfied: six>=1.5 in /usr/local/lib/python3.11/dist-packages (from python-dateutil>=2.7->matplotlib~=3.0->gradio) (1.17.0)\n",
            "Requirement already satisfied: markdown-it-py>=2.2.0 in /usr/local/lib/python3.11/dist-packages (from rich>=10.11.0->typer<1.0,>=0.12->gradio) (3.0.0)\n",
            "Requirement already satisfied: pygments<3.0.0,>=2.13.0 in /usr/local/lib/python3.11/dist-packages (from rich>=10.11.0->typer<1.0,>=0.12->gradio) (2.19.1)\n",
            "Requirement already satisfied: sniffio>=1.1 in /usr/local/lib/python3.11/dist-packages (from anyio->httpx>=0.24.1->gradio) (1.3.1)\n",
            "Requirement already satisfied: charset-normalizer<4,>=2 in /usr/local/lib/python3.11/dist-packages (from requests->huggingface-hub>=0.19.3->gradio) (3.4.2)\n",
            "Requirement already satisfied: mdurl~=0.1 in /usr/local/lib/python3.11/dist-packages (from markdown-it-py>=2.2.0->rich>=10.11.0->typer<1.0,>=0.12->gradio) (0.1.2)\n"
          ]
        }
      ],
      "source": [
        "!pip install gradio"
      ]
    },
    {
      "cell_type": "code",
      "source": [
        "import datetime, gradio as gr\n",
        "\n",
        "def ts():\n",
        "    return datetime.datetime.now().strftime(\"%H:%M  %d/%m/%y\")\n",
        "\n",
        "with gr.Blocks(css=r\"\"\"\n",
        ":root {\n",
        "  --brand-blue:   #0B4F8F;\n",
        "  --brand-blue-l: #1473c9;\n",
        "  --panel-blue:   #B4CDEA;\n",
        "  --btn-grey:     #E7E7E7;\n",
        "  --btn-text:     #111;\n",
        "}\n",
        "\n",
        "body{font-family:'Nunito',sans-serif;font-size:16px;}\n",
        "\n",
        "#header {\n",
        "  background: var(--brand-blue);\n",
        "  padding: 0.4rem 0.8rem;\n",
        "  display: flex;\n",
        "  align-items: center;\n",
        "  min-height: 80px;\n",
        "}\n",
        "\n",
        "#title {\n",
        "  font-size: 1.7rem;\n",
        "  font-weight: 700;\n",
        "  margin: 0;\n",
        "  line-height: 1.4rem;\n",
        "  color: white;\n",
        "}\n",
        "\n",
        "#subtitle {\n",
        "  font-size: 1.05rem;\n",
        "  margin: 0;\n",
        "  opacity: 0.9;\n",
        "  color: white;\n",
        "}\n",
        "\n",
        "#clock{font-size:1.15rem;text-align:right;margin:0 0 0.4rem 0;}\n",
        "#quit{width:100px;height:40px;border-radius:8px;font-weight:600;background:var(--btn-grey);}\n",
        "#quit:hover{background:#dcdcdc;}\n",
        "\n",
        "#left_panel{background:var(--panel-blue);padding:1.4rem;min-height:460px;}\n",
        ".signin-wrapper {\n",
        "  background:white; padding:1.2rem 1.4rem; border-radius:10px;\n",
        "  box-shadow:0 3px 10px rgba(0,0,0,0.15); margin-bottom:1.2rem;\n",
        "}\n",
        "\n",
        ".input_box > label{display:none;}\n",
        ".input_box input{border-radius:6px!important;}\n",
        "\n",
        "#submit{background:var(--brand-blue);color:white;font-weight:700;border-radius:8px;}\n",
        "#submit:hover{background:var(--brand-blue-l);}\n",
        "#clear{background:var(--btn-grey);color:var(--btn-text);font-weight:700;border-radius:8px;}\n",
        "#clear:hover{background:#dcdcdc;}\n",
        "\n",
        "#right_panel{background:#d4d4d4;display:flex;align-items:center;justify-content:center;\n",
        "             min-height:460px;border-left:6px solid var(--panel-blue);}\n",
        "#right_panel p{max-width:85%;font-size:1.15rem;text-align:center;}\n",
        "\"\"\") as demo:\n",
        "\n",
        "    # ------- HEADER -------\n",
        "    with gr.Row(elem_id=\"header\", equal_height=True):\n",
        "        with gr.Column(scale=3):\n",
        "          gr.HTML(\"\"\"\n",
        "            <div style='padding-left:1rem;'>\n",
        "              <h1 id='title'>OptiLine</h1>\n",
        "              <h3 id='subtitle'>CIM & Robotics Lab - Braude College of Engineering</h3>\n",
        "            </div>\n",
        "          \"\"\")\n",
        "        with gr.Column(scale=1, elem_classes=\"flex flex-col items-end\"):\n",
        "            clock = gr.Markdown(ts(), elem_id=\"clock\")\n",
        "            quit_btn = gr.Button(\"Quit\", elem_id=\"quit\")\n",
        "\n",
        "    # ------- MAIN BODY -------\n",
        "    with gr.Row():\n",
        "        with gr.Column(scale=1, elem_id=\"left_panel\"):\n",
        "            gr.Markdown(\"### Sign In:\")\n",
        "            gr.Markdown('<div class=\"signin-wrapper\">')\n",
        "            username = gr.Textbox(label=\"Username\", elem_classes=\"input_box\")\n",
        "            password = gr.Textbox(label=\"Password\", type=\"password\", elem_classes=\"input_box\")\n",
        "            with gr.Row():\n",
        "                clear_btn  = gr.Button(\"Clear\", elem_id=\"clear\", scale=1)\n",
        "                submit_btn = gr.Button(\"Submit\", elem_id=\"submit\", scale=2)\n",
        "            gr.Markdown('</div>')\n",
        "\n",
        "            gr.Markdown(\"\"\"\n",
        "**OptiLine** is your real-time production dashboard for the CIM & Robotics Lab.\n",
        "Track sensor metrics (temp, humidity, pressure, light, distance), get actionable analytics, and join the optimisation leaderboard.\n",
        "\"\"\")\n",
        "\n",
        "        with gr.Column(scale=2, elem_id=\"right_panel\"):\n",
        "            gr.Markdown(\"\"\"\n",
        "### Some info about the system…\n",
        "* High-frequency sensor data (updated every second)\n",
        "* Visualisation of environmental conditions: temperature, humidity, light, pressure, and distance\n",
        "* Optimisation Race: complete challenges, earn XP, climb the leaderboard\n",
        "* Designed for engineering students & production lab staff\n",
        "\"\"\")\n",
        "\n",
        "    # ------- LOGIC -------\n",
        "    def clear_fields():\n",
        "        return gr.update(value=\"\"), gr.update(value=\"\")\n",
        "\n",
        "    clear_btn.click(fn=clear_fields, outputs=[username, password])\n",
        "\n",
        "demo.launch()"
      ],
      "metadata": {
        "colab": {
          "base_uri": "https://localhost:8080/",
          "height": 704
        },
        "id": "vCjbgUXZBNSs",
        "outputId": "1f23957d-3548-4cda-c1d2-ec87ecd26298"
      },
      "execution_count": 16,
      "outputs": [
        {
          "output_type": "stream",
          "name": "stderr",
          "text": [
            "/usr/local/lib/python3.11/dist-packages/gradio/analytics.py:102: UserWarning: IMPORTANT: You are using gradio version 4.27.0, however version 4.44.1 is available, please upgrade. \n",
            "--------\n",
            "  pass\n"
          ]
        },
        {
          "output_type": "stream",
          "name": "stdout",
          "text": [
            "It looks like you are running Gradio on a hosted a Jupyter notebook. For the Gradio app to work, sharing must be enabled. Automatically setting `share=True` (you can turn this off by setting `share=False` in `launch()` explicitly).\n",
            "\n",
            "Colab notebook detected. To show errors in colab notebook, set debug=True in launch()\n",
            "* Running on public URL: https://cb2302990f7594bdf5.gradio.live\n",
            "\n",
            "This share link expires in 1 week. For free permanent hosting and GPU upgrades, run `gradio deploy` from the terminal in the working directory to deploy to Hugging Face Spaces (https://huggingface.co/spaces)\n"
          ]
        },
        {
          "output_type": "display_data",
          "data": {
            "text/plain": [
              "<IPython.core.display.HTML object>"
            ],
            "text/html": [
              "<div><iframe src=\"https://cb2302990f7594bdf5.gradio.live\" width=\"100%\" height=\"500\" allow=\"autoplay; camera; microphone; clipboard-read; clipboard-write;\" frameborder=\"0\" allowfullscreen></iframe></div>"
            ]
          },
          "metadata": {}
        },
        {
          "output_type": "execute_result",
          "data": {
            "text/plain": []
          },
          "metadata": {},
          "execution_count": 16
        }
      ]
    },
    {
      "cell_type": "code",
      "source": [],
      "metadata": {
        "id": "e3hWMTH5DlHY"
      },
      "execution_count": null,
      "outputs": []
    }
  ]
}