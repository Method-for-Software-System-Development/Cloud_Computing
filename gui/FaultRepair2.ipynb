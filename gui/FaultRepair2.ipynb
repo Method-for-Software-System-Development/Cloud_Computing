{
  "nbformat": 4,
  "nbformat_minor": 0,
  "metadata": {
    "colab": {
      "provenance": [],
      "authorship_tag": "ABX9TyMO6AeX3INKGHz84uyHMf+P",
      "include_colab_link": true
    },
    "kernelspec": {
      "name": "python3",
      "display_name": "Python 3"
    },
    "language_info": {
      "name": "python"
    }
  },
  "cells": [
    {
      "cell_type": "markdown",
      "metadata": {
        "id": "view-in-github",
        "colab_type": "text"
      },
      "source": [
        "<a href=\"https://colab.research.google.com/github/Method-for-Software-System-Development/Cloud_Computing/blob/develop/gui/FaultRepair2.ipynb\" target=\"_parent\"><img src=\"https://colab.research.google.com/assets/colab-badge.svg\" alt=\"Open In Colab\"/></a>"
      ]
    },
    {
      "cell_type": "code",
      "source": [
        "from IPython import get_ipython\n",
        "from IPython.display import display\n",
        "!pip install gradio --quiet"
      ],
      "metadata": {
        "id": "jhzFbu83vtxI"
      },
      "execution_count": 7,
      "outputs": []
    },
    {
      "cell_type": "code",
      "source": [
        "import os, subprocess, sys\n",
        "\n",
        "REPO_DIR = \"/content/Cloud_Computing\"\n",
        "LOGIC_DIR = os.path.join(REPO_DIR, \"logic\")\n",
        "\n",
        "# Clone the repo if it's not there yet\n",
        "if not os.path.isdir(REPO_DIR):\n",
        "    subprocess.run([\n",
        "        \"git\", \"clone\", \"-b\", \"develop\",\n",
        "        \"https://github.com/Method-for-Software-System-Development/Cloud_Computing.git\",\n",
        "        REPO_DIR\n",
        "    ], check=True)\n",
        "\n",
        "# Pull latest from develop\n",
        "subprocess.run([\"git\", \"-C\", REPO_DIR, \"fetch\", \"origin\"], check=True)\n",
        "subprocess.run([\"git\", \"-C\", REPO_DIR, \"checkout\", \"develop\"], check=True)\n",
        "subprocess.run([\"git\", \"-C\", REPO_DIR, \"pull\"], check=True)\n",
        "\n",
        "# Install importnb (for notebook importing)\n",
        "%pip install importnb --quiet\n",
        "\n",
        "# Add logic folder to sys.path so we can import from it\n",
        "sys.path.append(LOGIC_DIR)\n",
        "\n",
        "# Import Fault_controller from logic/Fault_controller.ipynb\n",
        "from importnb import Notebook\n",
        "with Notebook():\n",
        "    import Fault_controller as fc"
      ],
      "metadata": {
        "colab": {
          "base_uri": "https://localhost:8080/"
        },
        "collapsed": true,
        "id": "kPJdZSli026S",
        "outputId": "ba926309-6a8b-48d1-82df-59252e7f39e2"
      },
      "execution_count": 14,
      "outputs": [
        {
          "output_type": "stream",
          "name": "stdout",
          "text": [
            "omer_cohen 200\n",
            "shira_gold 200\n",
            "daniel_bar 200\n",
            "roni_benami 200\n",
            "lior_levi 200\n",
            "yael_elyashiv 200\n",
            "noa_katz 200\n",
            "matan_tal 200\n",
            "or_peled 200\n",
            "tom_segal 200\n",
            "Indoor Sensor Data:\n",
            "Status: 200 | Uploaded: {'Temperature': 26.4, 'Humidity': 41.0, 'Pressure': 974.1, 'Distance': 210.1}\n",
            "Status: 200 | Uploaded: {'Temperature': 30.2, 'Humidity': 28.7, 'Pressure': 963.5, 'Distance': 8.9}\n",
            "Status: 200 | Uploaded: {'Temperature': 36.5, 'Humidity': 91.3, 'Pressure': 919.8, 'Distance': 12.2}\n",
            "Status: 200 | Uploaded: {'Temperature': 27.1, 'Humidity': 73.0, 'Pressure': 1050.4, 'Distance': 205.0}\n",
            "Status: 200 | Uploaded: {'Temperature': 25.8, 'Humidity': 45.2, 'Pressure': 960.0, 'Distance': 210.0}\n",
            "Status: 200 | Uploaded: {'Temperature': 32.7, 'Humidity': 29.5, 'Pressure': 940.2, 'Distance': 7.5}\n",
            "Status: 200 | Uploaded: {'Temperature': 28.9, 'Humidity': 89.9, 'Pressure': 950.6, 'Distance': 250.0}\n",
            "Status: 200 | Uploaded: {'Temperature': 30.0, 'Humidity': 70.1, 'Pressure': 960.1, 'Distance': 9.5}\n",
            "Status: 200 | Uploaded: {'Temperature': 35.1, 'Humidity': 93.0, 'Pressure': 1082.3, 'Distance': 10.1}\n",
            "Status: 200 | Uploaded: {'Temperature': 29.4, 'Humidity': 55.6, 'Pressure': 1045.0, 'Distance': 300.0}\n",
            "Status: 200 | Uploaded: {'Temperature': 26.2, 'Humidity': 31.5, 'Pressure': 978.0, 'Distance': 190.0}\n",
            "Status: 200 | Uploaded: {'Temperature': 33.3, 'Humidity': 85.0, 'Pressure': 941.0, 'Distance': 199.9}\n",
            "Status: 200 | Uploaded: {'Temperature': 24.6, 'Humidity': 27.9, 'Pressure': 938.5, 'Distance': 180.0}\n",
            "Status: 200 | Uploaded: {'Temperature': 37.0, 'Humidity': 95.2, 'Pressure': 930.0, 'Distance': 6.5}\n",
            "Status: 200 | Uploaded: {'Temperature': 31.0, 'Humidity': 65.0, 'Pressure': 970.2, 'Distance': 15.0}\n",
            "Outdoor Sensor Data:\n",
            "Status: 200 | Uploaded: {'Temperature': 27.3, 'Humidity': 65.2, 'Dlight': 8500}\n",
            "Status: 200 | Uploaded: {'Temperature': 41.2, 'Humidity': 78.5, 'Dlight': 12000}\n",
            "Status: 200 | Uploaded: {'Temperature': 50.1, 'Humidity': 82.3, 'Dlight': 9800}\n",
            "Status: 200 | Uploaded: {'Temperature': 19.8, 'Humidity': 55.1, 'Dlight': 450}\n",
            "Status: 200 | Uploaded: {'Temperature': 38.6, 'Humidity': 79.9, 'Dlight': 7300}\n",
            "Status: 200 | Uploaded: {'Temperature': 44.4, 'Humidity': 81.0, 'Dlight': 6500}\n",
            "Status: 200 | Uploaded: {'Temperature': -1.2, 'Humidity': 63.4, 'Dlight': 200}\n",
            "Status: 200 | Uploaded: {'Temperature': 0.0, 'Humidity': 70.2, 'Dlight': 500}\n",
            "Status: 200 | Uploaded: {'Temperature': 31.0, 'Humidity': 85.0, 'Dlight': 9100}\n",
            "Status: 200 | Uploaded: {'Temperature': 48.8, 'Humidity': 74.0, 'Dlight': 13000}\n",
            "Status: 200 | Uploaded: {'Temperature': 35.6, 'Humidity': 60.6, 'Dlight': 10200}\n",
            "Status: 200 | Uploaded: {'Temperature': 40.1, 'Humidity': 80.1, 'Dlight': 10800}\n",
            "Status: 200 | Uploaded: {'Temperature': 50.0, 'Humidity': 77.7, 'Dlight': 9900}\n",
            "Status: 200 | Uploaded: {'Temperature': 45.3, 'Humidity': 88.0, 'Dlight': 8700}\n",
            "Status: 200 | Uploaded: {'Temperature': 32.5, 'Humidity': 64.0, 'Dlight': 300}\n",
            "Status: 200 | Uploaded: {'Temperature': 29.4, 'Humidity': 82.5, 'Dlight': 1400}\n",
            "Status: 200 | Uploaded: {'Temperature': 42.2, 'Humidity': 90.1, 'Dlight': 250}\n",
            "Status: 200 | Uploaded: {'Temperature': 30.0, 'Humidity': 79.8, 'Dlight': 10000}\n",
            "Status: 200 | Uploaded: {'Temperature': 49.0, 'Humidity': 81.9, 'Dlight': 11500}\n",
            "Status: 200 | Uploaded: {'Temperature': -3.5, 'Humidity': 67.2, 'Dlight': 5}\n"
          ]
        }
      ]
    },
    {
      "cell_type": "code",
      "source": [
        "def render_faults_html():\n",
        "    active_faults = fc.fb.get_active_faults()\n",
        "\n",
        "    if not active_faults or not isinstance(active_faults, dict):\n",
        "        body = \"\"  # show headers, no rows\n",
        "    else:\n",
        "        body = \"\"\n",
        "        for fault_id, fault in active_faults.items():\n",
        "            full_title = fault.get(\"title\", \"N/A\")\n",
        "\n",
        "            # Extract title and time from full_title\n",
        "            if \" (\" in full_title:\n",
        "                title_part = full_title.split(\" (\")[0]\n",
        "                time_part = full_title.split(\" (\")[1].rstrip(\")\")\n",
        "            else:\n",
        "                title_part = full_title\n",
        "                time_part = \"N/A\"\n",
        "\n",
        "            severity = fault.get(\"severity\", \"N/A\")\n",
        "            status = fault.get(\"status\", \"N/A\")\n",
        "\n",
        "            body += f\"\"\"\n",
        "            <tr>\n",
        "              <td>{time_part}</td>\n",
        "              <td>{title_part}</td>\n",
        "              <td>{severity}</td>\n",
        "              <td>{status}</td>\n",
        "            </tr>\n",
        "            \"\"\"\n",
        "\n",
        "    return f\"\"\"\n",
        "    <table class=\"main-table\">\n",
        "      <tr class=\"main-header-row\">\n",
        "        <td class=\"left-cell\">System Name:<br><br>OptiLine Fault Repair Subsystem</td>\n",
        "        <td class=\"right-cell\">Status: 🟢 Online</td>\n",
        "      </tr>\n",
        "      <tr class=\"main-section-header\">\n",
        "        <td colspan=\"2\">📋 Fault Repair History</td>\n",
        "      </tr>\n",
        "      <tr>\n",
        "        <td colspan=\"2\">\n",
        "          <div class=\"scrollable-inner\">\n",
        "            <table class=\"inner-table\">\n",
        "              <thead>\n",
        "                <tr>\n",
        "                  <th>Time</th>\n",
        "                  <th>Sensor</th>\n",
        "                  <th>Severity</th>\n",
        "                  <th>Status</th>\n",
        "                </tr>\n",
        "              </thead>\n",
        "              <tbody>\n",
        "                {body}\n",
        "              </tbody>\n",
        "            </table>\n",
        "          </div>\n",
        "        </td>\n",
        "      </tr>\n",
        "    </table>\n",
        "    \"\"\"\n"
      ],
      "metadata": {
        "id": "RFak8mcq06Ja"
      },
      "execution_count": 18,
      "outputs": []
    },
    {
      "cell_type": "code",
      "execution_count": 19,
      "metadata": {
        "colab": {
          "base_uri": "https://localhost:8080/",
          "height": 646
        },
        "id": "XTvu6a_YvYsO",
        "outputId": "4fbf2084-37c8-4c6a-d18b-4a577efb1426"
      },
      "outputs": [
        {
          "output_type": "stream",
          "name": "stdout",
          "text": [
            "It looks like you are running Gradio on a hosted a Jupyter notebook. For the Gradio app to work, sharing must be enabled. Automatically setting `share=True` (you can turn this off by setting `share=False` in `launch()` explicitly).\n",
            "\n",
            "Colab notebook detected. To show errors in colab notebook, set debug=True in launch()\n",
            "* Running on public URL: https://c2cdb4ab4e1944d4c7.gradio.live\n",
            "\n",
            "This share link expires in 1 week. For free permanent hosting and GPU upgrades, run `gradio deploy` from the terminal in the working directory to deploy to Hugging Face Spaces (https://huggingface.co/spaces)\n"
          ]
        },
        {
          "output_type": "display_data",
          "data": {
            "text/plain": [
              "<IPython.core.display.HTML object>"
            ],
            "text/html": [
              "<div><iframe src=\"https://c2cdb4ab4e1944d4c7.gradio.live\" width=\"100%\" height=\"500\" allow=\"autoplay; camera; microphone; clipboard-read; clipboard-write;\" frameborder=\"0\" allowfullscreen></iframe></div>"
            ]
          },
          "metadata": {}
        },
        {
          "output_type": "execute_result",
          "data": {
            "text/plain": []
          },
          "metadata": {},
          "execution_count": 19
        }
      ],
      "source": [
        "import gradio as gr\n",
        "\n",
        "with gr.Blocks(css=r\"\"\"\n",
        "table.main-table {\n",
        "  width: 100%;\n",
        "  border-collapse: collapse;\n",
        "  font-family: sans-serif;\n",
        "  margin-top: 16px;\n",
        "}\n",
        "table.main-table td, table.main-table th {\n",
        "  border: 1px solid #ccc;\n",
        "  padding: 12px;\n",
        "  text-align: left;\n",
        "}\n",
        "tr.main-header-row {\n",
        "  height: 350px;\n",
        "}\n",
        "td.left-cell {\n",
        "  width: 60%;\n",
        "  vertical-align: top;\n",
        "}\n",
        "td.right-cell {\n",
        "  width: 40%;\n",
        "  vertical-align: top;\n",
        "}\n",
        "tr.main-section-header {\n",
        "  background-color: #f0f0f0;\n",
        "  font-weight: bold;\n",
        "  text-align: center;\n",
        "}\n",
        "div.scrollable-inner {\n",
        "  max-height: 200px;\n",
        "  overflow-y: auto;\n",
        "}\n",
        "table.inner-table {\n",
        "  width: 100%;\n",
        "  border-collapse: collapse;\n",
        "}\n",
        "table.inner-table th, table.inner-table td {\n",
        "  padding: 8px;\n",
        "  border: 1px solid #ccc;\n",
        "}\n",
        "table.inner-table thead {\n",
        "  background-color: #e8e8e8;\n",
        "}\n",
        "\"\"\") as demo:\n",
        "\n",
        "    gr.Markdown(\"## 🛠️ Fault Repair Table\")\n",
        "\n",
        "    # ✅ Render the full main-table with dynamic Firebase data\n",
        "    gr.HTML(render_faults_html, every=5)\n",
        "\n",
        "demo.launch()\n"
      ]
    }
  ]
}